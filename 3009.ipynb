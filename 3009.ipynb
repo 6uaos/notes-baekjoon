{
  "nbformat": 4,
  "nbformat_minor": 0,
  "metadata": {
    "colab": {
      "provenance": [],
      "authorship_tag": "ABX9TyMeS1x/gAZ6n5iEtt/F8jYs",
      "include_colab_link": true
    },
    "kernelspec": {
      "name": "python3",
      "display_name": "Python 3"
    },
    "language_info": {
      "name": "python"
    }
  },
  "cells": [
    {
      "cell_type": "markdown",
      "metadata": {
        "id": "view-in-github",
        "colab_type": "text"
      },
      "source": [
        "<a href=\"https://colab.research.google.com/github/uoahy-6uoas/notes-baekjoon/blob/main/3009.ipynb\" target=\"_parent\"><img src=\"https://colab.research.google.com/assets/colab-badge.svg\" alt=\"Open In Colab\"/></a>"
      ]
    },
    {
      "cell_type": "code",
      "source": [
        "x,y = {},{}\n",
        "for _ in range(3):\n",
        "  a,b = map(int,input().split())\n",
        "  try:\n",
        "    x[a]+=1\n",
        "  except:\n",
        "    x[a]=1\n",
        "  try:\n",
        "    y[b]+=1\n",
        "  except:\n",
        "    y[b]=1\n",
        "\n",
        "result = []\n",
        "for i in x:\n",
        "  if x[i]==1:\n",
        "    result.append(i)\n",
        "for i in y:\n",
        "  if y[i]==1:\n",
        "    result.append(i)\n",
        "\n",
        "print(f\"{result[0]} {result[1]}\")"
      ],
      "metadata": {
        "colab": {
          "base_uri": "https://localhost:8080/"
        },
        "id": "7aWWKMJvaPTj",
        "outputId": "d3dbf935-4eee-4177-dbd0-aa67e80c05e3"
      },
      "execution_count": 6,
      "outputs": [
        {
          "output_type": "stream",
          "name": "stdout",
          "text": [
            "5 5\n",
            "5 7\n",
            "7 5\n",
            "7 7\n"
          ]
        }
      ]
    }
  ]
}