{
  "nbformat": 4,
  "nbformat_minor": 0,
  "metadata": {
    "colab": {
      "provenance": [],
      "authorship_tag": "ABX9TyN8kUBKMamcdmgjFVNHRwFN",
      "include_colab_link": true
    },
    "kernelspec": {
      "name": "python3",
      "display_name": "Python 3"
    },
    "language_info": {
      "name": "python"
    }
  },
  "cells": [
    {
      "cell_type": "markdown",
      "metadata": {
        "id": "view-in-github",
        "colab_type": "text"
      },
      "source": [
        "<a href=\"https://colab.research.google.com/github/uoahy-6uoas/notes-baekjoon/blob/main/12789.ipynb\" target=\"_parent\"><img src=\"https://colab.research.google.com/assets/colab-badge.svg\" alt=\"Open In Colab\"/></a>"
      ]
    },
    {
      "cell_type": "code",
      "source": [
        "n = int(input())\n",
        "lines = list(map(int,input().split()))"
      ],
      "metadata": {
        "colab": {
          "base_uri": "https://localhost:8080/"
        },
        "id": "wEpsV6H9w5OO",
        "outputId": "976c04ef-a572-4a5a-fdb5-0d091797dc85"
      },
      "execution_count": 26,
      "outputs": [
        {
          "name": "stdout",
          "output_type": "stream",
          "text": [
            "5\n",
            "5 2 3 1 4\n"
          ]
        }
      ]
    },
    {
      "cell_type": "code",
      "source": [
        "shoulder = [0]\n",
        "lookingfor = 1\n",
        "\n",
        "lines.reverse()\n",
        "\n",
        "while lines:\n",
        "  if lines[-1] == lookingfor:\n",
        "    lines.pop()\n",
        "    lookingfor += 1\n",
        "  elif shoulder[-1] == lookingfor:\n",
        "    shoulder.pop()\n",
        "    lookingfor += 1\n",
        "  else:\n",
        "    shoulder.append(lines.pop())\n",
        "\n",
        "  #print(lines)\n",
        "  #print(shoulder)\n",
        "\n",
        "flag = True\n",
        "shoulder.pop(0)\n",
        "\n",
        "while shoulder:\n",
        "  if shoulder.pop() == lookingfor:\n",
        "    lookingfor += 1\n",
        "  else:\n",
        "    flag = False\n",
        "    break\n",
        "\n",
        "if flag:\n",
        "  print('Nice')\n",
        "else:\n",
        "  print('Sad') #10번은 Bad라고 해서 틀림.........................."
      ],
      "metadata": {
        "id": "8RhMSigrqGe0",
        "colab": {
          "base_uri": "https://localhost:8080/"
        },
        "outputId": "ec077dd1-d211-421d-942a-3994f58d44e7"
      },
      "execution_count": 27,
      "outputs": [
        {
          "output_type": "stream",
          "name": "stdout",
          "text": [
            "Sad\n"
          ]
        }
      ]
    }
  ]
}