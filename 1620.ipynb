{
  "nbformat": 4,
  "nbformat_minor": 0,
  "metadata": {
    "colab": {
      "provenance": [],
      "authorship_tag": "ABX9TyMFb2cNvXtLRu+FaeWeqyt+",
      "include_colab_link": true
    },
    "kernelspec": {
      "name": "python3",
      "display_name": "Python 3"
    },
    "language_info": {
      "name": "python"
    }
  },
  "cells": [
    {
      "cell_type": "markdown",
      "metadata": {
        "id": "view-in-github",
        "colab_type": "text"
      },
      "source": [
        "<a href=\"https://colab.research.google.com/github/uoahy-6uoas/notes-baekjoon/blob/main/1620.ipynb\" target=\"_parent\"><img src=\"https://colab.research.google.com/assets/colab-badge.svg\" alt=\"Open In Colab\"/></a>"
      ]
    },
    {
      "cell_type": "code",
      "source": [
        "n,m = map(int,input().split()) #int일때는 readline만\n",
        "pock = {}\n",
        "for i in range(1,n+1):\n",
        "  tmp_name = input()\n",
        "  pock[tmp_name] = str(i) #문자일때는 readline().rstrip()\n",
        "  pock[str(i)] = tmp_name\n",
        "#시간초과 & 틀림??"
      ],
      "metadata": {
        "colab": {
          "base_uri": "https://localhost:8080/"
        },
        "id": "TGBjPXuz2_e4",
        "outputId": "300ba53e-d9bd-4dc9-e9b9-3ab5a0eaabed"
      },
      "execution_count": 12,
      "outputs": [
        {
          "name": "stdout",
          "output_type": "stream",
          "text": [
            "5 4\n",
            "aaa\n",
            "sdf\n",
            "qwer\n",
            "b\n",
            "g\n"
          ]
        }
      ]
    },
    {
      "cell_type": "code",
      "source": [
        "for _ in range(m):\n",
        "  quest = input()\n",
        "  print(pock[quest])"
      ],
      "metadata": {
        "colab": {
          "base_uri": "https://localhost:8080/"
        },
        "id": "N4kw6DL-_LnB",
        "outputId": "0522bb70-5976-4de5-efeb-0dd0c044c659"
      },
      "execution_count": 13,
      "outputs": [
        {
          "output_type": "stream",
          "name": "stdout",
          "text": [
            "4\n",
            "b\n",
            "qwer\n",
            "3\n",
            "g\n",
            "5\n",
            "b\n",
            "4\n"
          ]
        }
      ]
    },
    {
      "cell_type": "code",
      "source": [],
      "metadata": {
        "id": "fitQztpi_8k_"
      },
      "execution_count": null,
      "outputs": []
    }
  ]
}