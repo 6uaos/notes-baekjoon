{
  "nbformat": 4,
  "nbformat_minor": 0,
  "metadata": {
    "colab": {
      "provenance": [],
      "authorship_tag": "ABX9TyPQACbMsLQUKIXzU3FRZAVD",
      "include_colab_link": true
    },
    "kernelspec": {
      "name": "python3",
      "display_name": "Python 3"
    },
    "language_info": {
      "name": "python"
    }
  },
  "cells": [
    {
      "cell_type": "markdown",
      "metadata": {
        "id": "view-in-github",
        "colab_type": "text"
      },
      "source": [
        "<a href=\"https://colab.research.google.com/github/uoahy-6uoas/notes-baekjoon/blob/main/11650.ipynb\" target=\"_parent\"><img src=\"https://colab.research.google.com/assets/colab-badge.svg\" alt=\"Open In Colab\"/></a>"
      ]
    },
    {
      "cell_type": "code",
      "source": [
        "n = int(input())\n",
        "x,y = [], []\n",
        "xy = []\n",
        "for _ in range(n):\n",
        "  x,y = map(int,input().split())\n",
        "  xy.append([x,y])"
      ],
      "metadata": {
        "colab": {
          "base_uri": "https://localhost:8080/"
        },
        "id": "8CSfQAy3KMIr",
        "outputId": "312a8701-3ee6-4d7b-a349-426c6c4d2c9c"
      },
      "execution_count": 3,
      "outputs": [
        {
          "name": "stdout",
          "output_type": "stream",
          "text": [
            "5\n",
            "3 4\n",
            "1 -1\n",
            "1 1\n",
            "4 -123\n",
            "3 -123\n"
          ]
        }
      ]
    },
    {
      "cell_type": "code",
      "source": [
        "xy"
      ],
      "metadata": {
        "colab": {
          "base_uri": "https://localhost:8080/"
        },
        "id": "83Bv669CtBEl",
        "outputId": "2b06bdc0-3fa6-476b-a96c-48a6368c047a"
      },
      "execution_count": 4,
      "outputs": [
        {
          "output_type": "execute_result",
          "data": {
            "text/plain": [
              "[[3, 4], [1, -1], [1, 1], [4, -123], [3, -123]]"
            ]
          },
          "metadata": {},
          "execution_count": 4
        }
      ]
    },
    {
      "cell_type": "code",
      "source": [
        "xy.sort()\n",
        "for i in xy:\n",
        "  print(f\"{i[0]} {i[1]}\")\n",
        "#아슬아슬하게 시간통과"
      ],
      "metadata": {
        "colab": {
          "base_uri": "https://localhost:8080/"
        },
        "id": "oRb4Q18QuldI",
        "outputId": "6e613302-420a-4ebb-a49b-c54bc6ba63ad"
      },
      "execution_count": 6,
      "outputs": [
        {
          "output_type": "stream",
          "name": "stdout",
          "text": [
            "1 -1\n",
            "1 1\n",
            "3 -123\n",
            "3 4\n",
            "4 -123\n"
          ]
        }
      ]
    }
  ]
}