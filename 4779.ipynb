{
  "nbformat": 4,
  "nbformat_minor": 0,
  "metadata": {
    "colab": {
      "provenance": [],
      "authorship_tag": "ABX9TyPikfncHHNa7PvADRq65EYU",
      "include_colab_link": true
    },
    "kernelspec": {
      "name": "python3",
      "display_name": "Python 3"
    },
    "language_info": {
      "name": "python"
    }
  },
  "cells": [
    {
      "cell_type": "markdown",
      "metadata": {
        "id": "view-in-github",
        "colab_type": "text"
      },
      "source": [
        "<a href=\"https://colab.research.google.com/github/uoahy-6uoas/notes-baekjoon/blob/main/4779.ipynb\" target=\"_parent\"><img src=\"https://colab.research.google.com/assets/colab-badge.svg\" alt=\"Open In Colab\"/></a>"
      ]
    },
    {
      "cell_type": "code",
      "source": [
        "def ct(n) -> str:\n",
        "  if n == 0:\n",
        "    return '-'\n",
        "  else:\n",
        "    return ct(n-1)+ ' '*(3**(n-1)) + ct(n-1)"
      ],
      "metadata": {
        "id": "QVtUQSKNXUmM"
      },
      "execution_count": 30,
      "outputs": []
    },
    {
      "cell_type": "code",
      "source": [
        "while True:\n",
        "  try:\n",
        "    n = int(input())\n",
        "  except:\n",
        "    break\n",
        "\n",
        "  print(ct(n))"
      ],
      "metadata": {
        "colab": {
          "base_uri": "https://localhost:8080/"
        },
        "id": "mZjLcoScXFtU",
        "outputId": "dc12c6c3-a543-417f-ca7b-f48f5581638f"
      },
      "execution_count": 32,
      "outputs": [
        {
          "name": "stdout",
          "output_type": "stream",
          "text": [
            "0\n",
            "-\n",
            "1\n",
            "- -\n",
            "2\n",
            "- -   - -\n",
            "3\n",
            "- -   - -         - -   - -\n",
            "4\n",
            "- -   - -         - -   - -                           - -   - -         - -   - -\n",
            "5\n",
            "- -   - -         - -   - -                           - -   - -         - -   - -                                                                                 - -   - -         - -   - -                           - -   - -         - -   - -\n",
            "asd\n"
          ]
        }
      ]
    }
  ]
}