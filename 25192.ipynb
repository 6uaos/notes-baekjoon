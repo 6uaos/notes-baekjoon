{
  "nbformat": 4,
  "nbformat_minor": 0,
  "metadata": {
    "colab": {
      "provenance": [],
      "authorship_tag": "ABX9TyPyR6sY/cTvEIWcX+UJdgXf",
      "include_colab_link": true
    },
    "kernelspec": {
      "name": "python3",
      "display_name": "Python 3"
    },
    "language_info": {
      "name": "python"
    }
  },
  "cells": [
    {
      "cell_type": "markdown",
      "metadata": {
        "id": "view-in-github",
        "colab_type": "text"
      },
      "source": [
        "<a href=\"https://colab.research.google.com/github/uoahy-6uoas/notes-baekjoon/blob/main/25192.ipynb\" target=\"_parent\"><img src=\"https://colab.research.google.com/assets/colab-badge.svg\" alt=\"Open In Colab\"/></a>"
      ]
    },
    {
      "cell_type": "code",
      "source": [
        "n = int(input())\n",
        "\n",
        "gomgom = set()\n",
        "result = 0"
      ],
      "metadata": {
        "colab": {
          "base_uri": "https://localhost:8080/"
        },
        "id": "gdTrfSHRgSFR",
        "outputId": "de56ac85-3a9c-4b2d-98da-8267949ca0a4"
      },
      "execution_count": 18,
      "outputs": [
        {
          "name": "stdout",
          "output_type": "stream",
          "text": [
            "9\n"
          ]
        }
      ]
    },
    {
      "cell_type": "code",
      "source": [
        "for _ in range(n):\n",
        "  word = input()\n",
        "\n",
        "  if word == 'ENTER':\n",
        "    result += len(gomgom)\n",
        "    gomgom = set()\n",
        "  else:\n",
        "    gomgom.add(word)\n",
        "\n",
        "if gomgom:\n",
        "  result += len(gomgom)\n",
        "\n",
        "print(result)\n",
        "#시간 아슬아슬 통과"
      ],
      "metadata": {
        "colab": {
          "base_uri": "https://localhost:8080/"
        },
        "id": "vtwYjNWdhDqu",
        "outputId": "160fa440-eb28-4e0e-f238-47bbb2e2716a"
      },
      "execution_count": 19,
      "outputs": [
        {
          "output_type": "stream",
          "name": "stdout",
          "text": [
            "ENTER\n",
            "set()\n",
            "0\n",
            "0\n",
            "qwer\n",
            "{'qwer'}\n",
            "1\n",
            "0\n",
            "qwer\n",
            "{'qwer'}\n",
            "1\n",
            "0\n",
            "wert\n",
            "{'qwer', 'wert'}\n",
            "2\n",
            "0\n",
            "wert\n",
            "{'qwer', 'wert'}\n",
            "2\n",
            "0\n",
            "sdfg\n",
            "{'qwer', 'sdfg', 'wert'}\n",
            "3\n",
            "0\n",
            "ENTER\n",
            "set()\n",
            "0\n",
            "3\n",
            "qwer\n",
            "{'qwer'}\n",
            "1\n",
            "3\n",
            "wert\n",
            "{'qwer', 'wert'}\n",
            "2\n",
            "3\n",
            "5\n"
          ]
        }
      ]
    }
  ]
}