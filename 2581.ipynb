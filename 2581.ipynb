{
  "nbformat": 4,
  "nbformat_minor": 0,
  "metadata": {
    "colab": {
      "provenance": [],
      "authorship_tag": "ABX9TyPTO/vji2VPORMFA43iXc6G",
      "include_colab_link": true
    },
    "kernelspec": {
      "name": "python3",
      "display_name": "Python 3"
    },
    "language_info": {
      "name": "python"
    }
  },
  "cells": [
    {
      "cell_type": "markdown",
      "metadata": {
        "id": "view-in-github",
        "colab_type": "text"
      },
      "source": [
        "<a href=\"https://colab.research.google.com/github/uoahy-6uoas/notes-baekjoon/blob/main/2581.ipynb\" target=\"_parent\"><img src=\"https://colab.research.google.com/assets/colab-badge.svg\" alt=\"Open In Colab\"/></a>"
      ]
    },
    {
      "cell_type": "code",
      "source": [
        "m = int(input())\n",
        "n = int(input())"
      ],
      "metadata": {
        "colab": {
          "base_uri": "https://localhost:8080/"
        },
        "id": "Rf19MH60NSIV",
        "outputId": "1333d78d-28be-4365-864a-a2a8ef6a3fa5"
      },
      "execution_count": 25,
      "outputs": [
        {
          "name": "stdout",
          "output_type": "stream",
          "text": [
            "60\n",
            "100\n"
          ]
        }
      ]
    },
    {
      "cell_type": "code",
      "source": [
        "def isP(n) -> bool:\n",
        "  if n == 1: return False\n",
        "  for i in range(2,int(n**(0.5))+1):\n",
        "    if n%i==0:\n",
        "      return False\n",
        "  return True"
      ],
      "metadata": {
        "id": "sYR0Hw6qQeLt"
      },
      "execution_count": 23,
      "outputs": []
    },
    {
      "cell_type": "code",
      "source": [
        "minn,summ,cnt = 0,0,0\n",
        "\n",
        "for i in range(m,n+1):\n",
        "  if isP(i):\n",
        "    summ+=i\n",
        "    cnt+=1\n",
        "    if cnt==1: minn = i\n",
        "\n",
        "if cnt==0: print(-1)\n",
        "else:\n",
        "  print(summ)\n",
        "  print(minn)"
      ],
      "metadata": {
        "colab": {
          "base_uri": "https://localhost:8080/"
        },
        "id": "UKDjdzVaQ_Ih",
        "outputId": "6625f193-60b9-4939-968c-c720cfa41d95"
      },
      "execution_count": 31,
      "outputs": [
        {
          "output_type": "stream",
          "name": "stdout",
          "text": [
            "620\n",
            "61\n"
          ]
        }
      ]
    }
  ]
}