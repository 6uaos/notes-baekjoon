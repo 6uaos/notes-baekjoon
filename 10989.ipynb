{
  "nbformat": 4,
  "nbformat_minor": 0,
  "metadata": {
    "colab": {
      "provenance": [],
      "authorship_tag": "ABX9TyMyNO7a/e3eBc4ccK9EjMu+",
      "include_colab_link": true
    },
    "kernelspec": {
      "name": "python3",
      "display_name": "Python 3"
    },
    "language_info": {
      "name": "python"
    }
  },
  "cells": [
    {
      "cell_type": "markdown",
      "metadata": {
        "id": "view-in-github",
        "colab_type": "text"
      },
      "source": [
        "<a href=\"https://colab.research.google.com/github/uoahy-6uoas/notes-baekjoon/blob/main/10989.ipynb\" target=\"_parent\"><img src=\"https://colab.research.google.com/assets/colab-badge.svg\" alt=\"Open In Colab\"/></a>"
      ]
    },
    {
      "cell_type": "code",
      "source": [
        "n = int(input())\n",
        "tmp = []\n",
        "for _ in range(n):\n",
        "  a = int(input())\n",
        "  if tmp == []:\n",
        "    tmp.append(a)\n",
        "  else:\n",
        "    for i in range(len(tmp)):\n",
        "      if tmp[i] > a:\n",
        "        tmp = tmp[:i]+[a]+tmp[i:]\n",
        "        break\n",
        "      else:\n",
        "        if i == len(tmp)-1:\n",
        "          tmp.append(a)"
      ],
      "metadata": {
        "colab": {
          "base_uri": "https://localhost:8080/"
        },
        "id": "0ziKaWQSFts9",
        "outputId": "684202f8-5b28-4763-87f1-dffd35ce2174"
      },
      "execution_count": 7,
      "outputs": [
        {
          "name": "stdout",
          "output_type": "stream",
          "text": [
            "5\n",
            "4\n",
            "2\n",
            "4\n",
            "6\n",
            "2\n"
          ]
        }
      ]
    },
    {
      "cell_type": "code",
      "source": [
        "for i in tmp:\n",
        "  print(i)\n",
        "\n",
        "#시간초과발생"
      ],
      "metadata": {
        "colab": {
          "base_uri": "https://localhost:8080/"
        },
        "id": "5VzT_PJiGY4E",
        "outputId": "4626fcc5-992f-4b58-843e-7d9aea075c90"
      },
      "execution_count": 8,
      "outputs": [
        {
          "output_type": "stream",
          "name": "stdout",
          "text": [
            "2\n",
            "2\n",
            "4\n",
            "4\n",
            "6\n"
          ]
        }
      ]
    },
    {
      "cell_type": "code",
      "source": [
        "#카운트 정렬\n",
        "#import sys\n",
        "#input = sys.stdin.readline 이렇게 해야 시간초과 안남..\n",
        "tmp = [0]*10001\n",
        "\n",
        "n = int(input())\n",
        "for _ in range(n):\n",
        "  i = int(input())\n",
        "  tmp[i] += 1\n",
        "result = []\n",
        "for i in range(len(tmp)):\n",
        "  if tmp[i] >= 1:\n",
        "    for j in range(tmp[i]):\n",
        "      print(i)"
      ],
      "metadata": {
        "colab": {
          "base_uri": "https://localhost:8080/"
        },
        "id": "LXq6JGg5GlJz",
        "outputId": "b86f95c7-ebd1-431a-c309-1c6b10ebb4fa"
      },
      "execution_count": 9,
      "outputs": [
        {
          "output_type": "stream",
          "name": "stdout",
          "text": [
            "10\n",
            "4\n",
            "6\n",
            "345\n",
            "234\n",
            "234\n",
            "1\n",
            "1\n",
            "99\n",
            "4456\n",
            "64\n",
            "1\n",
            "1\n",
            "4\n",
            "6\n",
            "64\n",
            "99\n",
            "234\n",
            "234\n",
            "345\n",
            "4456\n"
          ]
        }
      ]
    },
    {
      "cell_type": "code",
      "source": [
        "67857"
      ],
      "metadata": {
        "id": "6AVSZnUIIFpG"
      },
      "execution_count": null,
      "outputs": []
    }
  ]
}