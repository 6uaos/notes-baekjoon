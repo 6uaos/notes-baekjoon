{
  "nbformat": 4,
  "nbformat_minor": 0,
  "metadata": {
    "colab": {
      "provenance": [],
      "authorship_tag": "ABX9TyNr7JMqtMFftxC3hPzePd4X",
      "include_colab_link": true
    },
    "kernelspec": {
      "name": "python3",
      "display_name": "Python 3"
    },
    "language_info": {
      "name": "python"
    }
  },
  "cells": [
    {
      "cell_type": "markdown",
      "metadata": {
        "id": "view-in-github",
        "colab_type": "text"
      },
      "source": [
        "<a href=\"https://colab.research.google.com/github/uoahy-6uoas/notes-baekjoon/blob/main/18110.ipynb\" target=\"_parent\"><img src=\"https://colab.research.google.com/assets/colab-badge.svg\" alt=\"Open In Colab\"/></a>"
      ]
    },
    {
      "cell_type": "code",
      "source": [
        "n = int(input())\n",
        "comments = []\n",
        "for _ in range(n):\n",
        "  comments.append(int(input()))\n",
        "comments.sort()"
      ],
      "metadata": {
        "colab": {
          "base_uri": "https://localhost:8080/"
        },
        "id": "0vLmr6kn9Wc1",
        "outputId": "b7195e7a-45bf-49ed-bd22-efca69884411"
      },
      "execution_count": 88,
      "outputs": [
        {
          "name": "stdout",
          "output_type": "stream",
          "text": [
            "10\n",
            "1\n",
            "13\n",
            "12\n",
            "15\n",
            "3\n",
            "16\n",
            "13\n",
            "12\n",
            "14\n",
            "15\n"
          ]
        }
      ]
    },
    {
      "cell_type": "code",
      "source": [
        "'''\n",
        "#???????????????\n",
        "https://ywtechit.tistory.com/209\n",
        "아래 코드가 오류인 이유 == 파이썬 round는 오사오입\n",
        "result = 0\n",
        "for i in comments[round(n*0.15):n-round(n*0.15)]:\n",
        "  result += i\n",
        "\n",
        "if result != 0:\n",
        "  print(round(result/len(comments[round(n*0.15):n-round(n*0.15)])))\n",
        "else:\n",
        "  print(0)\n",
        "'''"
      ],
      "metadata": {
        "colab": {
          "base_uri": "https://localhost:8080/",
          "height": 72
        },
        "id": "_-WD1EOs92WC",
        "outputId": "1a6a3806-c95c-4138-8c9b-04c3c9f2f7f3"
      },
      "execution_count": 95,
      "outputs": [
        {
          "output_type": "execute_result",
          "data": {
            "text/plain": [
              "'\\n#???????????????\\nhttps://ywtechit.tistory.com/209 \\n아래 코드가 오류인 이유 == 파이썬 round는 오사오입\\nresult = 0\\nfor i in comments[round(n*0.15):n-round(n*0.15)]:\\n  result += i\\n\\nif result != 0:\\n  print(round(result/len(comments[round(n*0.15):n-round(n*0.15)])))\\nelse:\\n  print(0)\\n'"
            ],
            "application/vnd.google.colaboratory.intrinsic+json": {
              "type": "string"
            }
          },
          "metadata": {},
          "execution_count": 95
        }
      ]
    },
    {
      "cell_type": "code",
      "source": [
        "def Round(n):\n",
        "  if n-int(n)>=0.5: return int(n)+1\n",
        "  else: return int(n)"
      ],
      "metadata": {
        "id": "DnWUgJZIAlWE"
      },
      "execution_count": 93,
      "outputs": []
    },
    {
      "cell_type": "code",
      "source": [
        "result = 0\n",
        "for i in comments[Round(n*0.15):n-Round(n*0.15)]:\n",
        "  result += i\n",
        "\n",
        "if result != 0:\n",
        "  print(Round(result/len(comments[Round(n*0.15):n-Round(n*0.15)])))\n",
        "else:\n",
        "  print(0)\n",
        "\n",
        "# sys.stdin.readline 안하면 시간초과"
      ],
      "metadata": {
        "colab": {
          "base_uri": "https://localhost:8080/"
        },
        "id": "c39awh19BMrG",
        "outputId": "b4749032-e29d-4001-9190-25852b451cc5"
      },
      "execution_count": 96,
      "outputs": [
        {
          "output_type": "stream",
          "name": "stdout",
          "text": [
            "13\n"
          ]
        }
      ]
    }
  ]
}