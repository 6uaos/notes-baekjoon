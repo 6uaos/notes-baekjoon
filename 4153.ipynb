{
  "nbformat": 4,
  "nbformat_minor": 0,
  "metadata": {
    "colab": {
      "provenance": [],
      "authorship_tag": "ABX9TyOOAXkBO/R1ZRvt88CUB0v1",
      "include_colab_link": true
    },
    "kernelspec": {
      "name": "python3",
      "display_name": "Python 3"
    },
    "language_info": {
      "name": "python"
    }
  },
  "cells": [
    {
      "cell_type": "markdown",
      "metadata": {
        "id": "view-in-github",
        "colab_type": "text"
      },
      "source": [
        "<a href=\"https://colab.research.google.com/github/uoahy-6uoas/notes-baekjoon/blob/main/4153.ipynb\" target=\"_parent\"><img src=\"https://colab.research.google.com/assets/colab-badge.svg\" alt=\"Open In Colab\"/></a>"
      ]
    },
    {
      "cell_type": "code",
      "source": [
        "while True:\n",
        "  l = list(map(int,input().split()))\n",
        "  if l[0]==0 and l[1]==0 and l[2]==0: break\n",
        "  l.sort()\n",
        "\n",
        "  if l[0]**2+l[1]**2 == l[2]**2:\n",
        "    print('right')\n",
        "  else:\n",
        "    print('wrong')"
      ],
      "metadata": {
        "colab": {
          "base_uri": "https://localhost:8080/"
        },
        "id": "AhEa1qvKfJ25",
        "outputId": "ff34f2b3-86ad-4b51-800b-6bf84ee57544"
      },
      "execution_count": 14,
      "outputs": [
        {
          "name": "stdout",
          "output_type": "stream",
          "text": [
            "6 8 10\n",
            "right\n",
            "25 52 60\n",
            "wrong\n",
            "5 12 13\n",
            "right\n",
            "0 0 0\n"
          ]
        }
      ]
    }
  ]
}