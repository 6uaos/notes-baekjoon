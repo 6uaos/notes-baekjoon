{
  "nbformat": 4,
  "nbformat_minor": 0,
  "metadata": {
    "colab": {
      "provenance": [],
      "authorship_tag": "ABX9TyPFtFMkY/c8DKaL9lmfJrbN",
      "include_colab_link": true
    },
    "kernelspec": {
      "name": "python3",
      "display_name": "Python 3"
    },
    "language_info": {
      "name": "python"
    }
  },
  "cells": [
    {
      "cell_type": "markdown",
      "metadata": {
        "id": "view-in-github",
        "colab_type": "text"
      },
      "source": [
        "<a href=\"https://colab.research.google.com/github/uoahy-6uoas/notes-baekjoon/blob/main/7568.ipynb\" target=\"_parent\"><img src=\"https://colab.research.google.com/assets/colab-badge.svg\" alt=\"Open In Colab\"/></a>"
      ]
    },
    {
      "cell_type": "code",
      "source": [
        "n = int(input())\n",
        "vol = []\n",
        "for _ in range(n):\n",
        "  vol.append(list(map(int,input().split())))"
      ],
      "metadata": {
        "colab": {
          "base_uri": "https://localhost:8080/"
        },
        "id": "SW0ka1Xmrv6j",
        "outputId": "c711a029-0ac1-4267-b6f9-d41aca3e23c5"
      },
      "execution_count": 66,
      "outputs": [
        {
          "name": "stdout",
          "output_type": "stream",
          "text": [
            "5\n",
            "55 185\n",
            "58 183\n",
            "88 186\n",
            "60 175\n",
            "46 155\n"
          ]
        }
      ]
    },
    {
      "cell_type": "code",
      "source": [
        "for i in vol:\n",
        "  rank = 1\n",
        "  for j in vol:\n",
        "    if i[0]<j[0] and i[1]<j[1]:\n",
        "      rank +=1\n",
        "  i.append(rank)\n",
        "\n",
        "for i in vol:\n",
        "  print(i[-1],end=' ')"
      ],
      "metadata": {
        "colab": {
          "base_uri": "https://localhost:8080/"
        },
        "id": "WUTKJWA_7dLu",
        "outputId": "816111ac-640b-463e-8f50-9ec7daceaf98"
      },
      "execution_count": 75,
      "outputs": [
        {
          "output_type": "stream",
          "name": "stdout",
          "text": [
            "2 2 1 2 5 "
          ]
        }
      ]
    }
  ]
}