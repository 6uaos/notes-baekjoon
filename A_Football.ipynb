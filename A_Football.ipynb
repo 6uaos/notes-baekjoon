{
  "nbformat": 4,
  "nbformat_minor": 0,
  "metadata": {
    "colab": {
      "provenance": [],
      "authorship_tag": "ABX9TyNOTphH1za5X/QPYXKC7c3c",
      "include_colab_link": true
    },
    "kernelspec": {
      "name": "python3",
      "display_name": "Python 3"
    },
    "language_info": {
      "name": "python"
    }
  },
  "cells": [
    {
      "cell_type": "markdown",
      "metadata": {
        "id": "view-in-github",
        "colab_type": "text"
      },
      "source": [
        "<a href=\"https://colab.research.google.com/github/uoahy-6uoas/notes-codeforces/blob/main/A_Football.ipynb\" target=\"_parent\"><img src=\"https://colab.research.google.com/assets/colab-badge.svg\" alt=\"Open In Colab\"/></a>"
      ]
    },
    {
      "cell_type": "markdown",
      "source": [
        "Petya loves football very much. One day, as he was watching a football match, he was writing the players' current positions on a piece of paper. To simplify the situation he depicted it as a string consisting of zeroes and ones. A zero corresponds to players of one team; a one corresponds to players of another team. If there are at least 7 players of some team standing one after another, then the situation is considered dangerous. For example, the situation 00100110111111101 is dangerous and 11110111011101 is not. You are given the current situation. Determine whether it is dangerous or not.\n",
        "\n",
        "---\n",
        "\n",
        "Input\n",
        "\n",
        "The first input line contains a non-empty string consisting of characters \"0\" and \"1\", which represents players. The length of the string does not exceed 100 characters. There's at least one player from each team present on the field.\n",
        "\n",
        "---\n",
        "\n",
        "Output\n",
        "\n",
        "Print \"YES\" if the situation is dangerous. Otherwise, print \"NO\"."
      ],
      "metadata": {
        "id": "FuZWcsn0VhZK"
      }
    },
    {
      "cell_type": "markdown",
      "source": [
        "페트야는 축구를 매우 좋아한다. 축구경기를 보던 어느 날, 그는 선수들의 현재 포지션을 종이에 썼다. 상황을 요약하기 위해서 그는 이것을 0과 1의 나열로 묘사했다. 0은 한 팀의 선수들에 상응하고 1은 다른 한 팀의 선수들에 상응한다. 만약 최소 7명의 어느 팀의 선수들이 다른팀의 1명의 선수 뒤에 있다면 위험한 상황이라고 여겨진다. 예를 들어 00100110111111101은 위험하고 11110111011101은 아니다. 당신은 현재 상황을 받는다. 이 상황이 위험한지 판별하라."
      ],
      "metadata": {
        "id": "TDzOMDZ5WJWe"
      }
    },
    {
      "cell_type": "code",
      "source": [
        "n = input()\n",
        "cnt = 1\n",
        "flag = n[0]\n",
        "for i in range(1,len(n)):\n",
        "  if n[i]==flag:\n",
        "    cnt+=1\n",
        "  else:\n",
        "    flag = n[i]\n",
        "    if cnt>=7:\n",
        "      print('YES')\n",
        "      flag = '2'\n",
        "      break\n",
        "    else:\n",
        "      cnt = 1\n",
        "if flag=='2':\n",
        "  pass\n",
        "else:\n",
        "  if cnt>=7:\n",
        "    print(\"YES\")\n",
        "  else:\n",
        "    print('NO')"
      ],
      "metadata": {
        "colab": {
          "base_uri": "https://localhost:8080/"
        },
        "id": "r9QNclW_Vrac",
        "outputId": "075af9b8-3174-4938-f2b9-c31c924d37a6"
      },
      "execution_count": 3,
      "outputs": [
        {
          "output_type": "stream",
          "name": "stdout",
          "text": [
            "1000000001\n",
            "YES\n"
          ]
        }
      ]
    }
  ]
}