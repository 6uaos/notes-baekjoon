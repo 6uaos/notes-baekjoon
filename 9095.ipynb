{
  "nbformat": 4,
  "nbformat_minor": 0,
  "metadata": {
    "colab": {
      "provenance": [],
      "authorship_tag": "ABX9TyMBNxKiUqz6x+A5lo8myq2q",
      "include_colab_link": true
    },
    "kernelspec": {
      "name": "python3",
      "display_name": "Python 3"
    },
    "language_info": {
      "name": "python"
    }
  },
  "cells": [
    {
      "cell_type": "markdown",
      "metadata": {
        "id": "view-in-github",
        "colab_type": "text"
      },
      "source": [
        "<a href=\"https://colab.research.google.com/github/6uaos/notes-baekjoon/blob/main/9095.ipynb\" target=\"_parent\"><img src=\"https://colab.research.google.com/assets/colab-badge.svg\" alt=\"Open In Colab\"/></a>"
      ]
    },
    {
      "cell_type": "code",
      "source": [
        "t = int(input())"
      ],
      "metadata": {
        "colab": {
          "base_uri": "https://localhost:8080/"
        },
        "id": "rq-HNQPs1gWE",
        "outputId": "92393dc8-4a7b-45fb-b1e0-42a1d7ff4e0b"
      },
      "execution_count": 12,
      "outputs": [
        {
          "name": "stdout",
          "output_type": "stream",
          "text": [
            "3\n"
          ]
        }
      ]
    },
    {
      "cell_type": "code",
      "source": [
        "result = [0,1,2,4]\n",
        "for i in range(4,12):\n",
        "  result.append(result[i-1]+result[i-2]+result[i-3])\n",
        "\n",
        "for _ in range(t):\n",
        "  n = int(input())\n",
        "  print(result[n])"
      ],
      "metadata": {
        "colab": {
          "base_uri": "https://localhost:8080/"
        },
        "id": "BU1Vlwid1lS-",
        "outputId": "79544ccb-5dbe-4df6-c63c-dea2dc9a7f1b"
      },
      "execution_count": 19,
      "outputs": [
        {
          "output_type": "execute_result",
          "data": {
            "text/plain": [
              "[0, 1, 2, 4, 7, 13, 24, 44, 81, 149, 274, 504]"
            ]
          },
          "metadata": {},
          "execution_count": 19
        }
      ]
    }
  ]
}