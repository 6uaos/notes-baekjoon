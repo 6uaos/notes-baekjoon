{
  "nbformat": 4,
  "nbformat_minor": 0,
  "metadata": {
    "colab": {
      "provenance": [],
      "authorship_tag": "ABX9TyMz2uFGVQHLRTpTP27U/Wtw",
      "include_colab_link": true
    },
    "kernelspec": {
      "name": "python3",
      "display_name": "Python 3"
    },
    "language_info": {
      "name": "python"
    }
  },
  "cells": [
    {
      "cell_type": "markdown",
      "metadata": {
        "id": "view-in-github",
        "colab_type": "text"
      },
      "source": [
        "<a href=\"https://colab.research.google.com/github/uoahy-6uoas/notes-baekjoon/blob/main/11022.ipynb\" target=\"_parent\"><img src=\"https://colab.research.google.com/assets/colab-badge.svg\" alt=\"Open In Colab\"/></a>"
      ]
    },
    {
      "cell_type": "code",
      "source": [
        "#Case #x: A + B = C\n",
        "t = int(input())\n",
        "for x in range(1,t+1):\n",
        "  a,b = map(int,input().split())\n",
        "  print(f\"Case #{x}: {a} + {b} = {a+b}\")"
      ],
      "metadata": {
        "colab": {
          "base_uri": "https://localhost:8080/"
        },
        "id": "t7KVmrya_Z6F",
        "outputId": "fc6a4309-f8a8-4013-8267-02d2167b2bc2"
      },
      "execution_count": 2,
      "outputs": [
        {
          "output_type": "stream",
          "name": "stdout",
          "text": [
            "5\n",
            "1 1\n",
            "Case #1: 1 + 1 = 2\n",
            "2 3\n",
            "Case #2: 2 + 3 = 5\n",
            "1234 124\n",
            "Case #3: 1234 + 124 = 1358\n",
            "3456 1734\n",
            "Case #4: 3456 + 1734 = 5190\n",
            "26 2252\n",
            "Case #5: 26 + 2252 = 2278\n"
          ]
        }
      ]
    }
  ]
}