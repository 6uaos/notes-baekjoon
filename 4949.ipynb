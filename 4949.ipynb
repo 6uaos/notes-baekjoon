{
  "nbformat": 4,
  "nbformat_minor": 0,
  "metadata": {
    "colab": {
      "provenance": [],
      "authorship_tag": "ABX9TyMMEQDW15fzmQSCRWvA4yI5",
      "include_colab_link": true
    },
    "kernelspec": {
      "name": "python3",
      "display_name": "Python 3"
    },
    "language_info": {
      "name": "python"
    }
  },
  "cells": [
    {
      "cell_type": "markdown",
      "metadata": {
        "id": "view-in-github",
        "colab_type": "text"
      },
      "source": [
        "<a href=\"https://colab.research.google.com/github/uoahy-6uoas/notes-baekjoon/blob/main/4949.ipynb\" target=\"_parent\"><img src=\"https://colab.research.google.com/assets/colab-badge.svg\" alt=\"Open In Colab\"/></a>"
      ]
    },
    {
      "cell_type": "code",
      "source": [
        "while True:\n",
        "  sentence = input()\n",
        "  if sentence == '.':\n",
        "    break\n",
        "\n",
        "  result1 = 0 # ( )\n",
        "  result2 = 0 # [ ]\n",
        "  flag = False\n",
        "\n",
        "  for letter in sentence:\n",
        "    if letter == '(':\n",
        "      result1 += 1\n",
        "    elif letter == ')':\n",
        "      result1 -= 1\n",
        "    elif letter == '[':\n",
        "      result2 += 1\n",
        "    elif letter == ']':\n",
        "      result2 -= 1\n",
        "\n",
        "    if result1 < 0 or result2 < 0:\n",
        "      print('no')\n",
        "      flag = True\n",
        "      break\n",
        "\n",
        "  if result1 < 0 or result2 < 0:\n",
        "    if not flag:\n",
        "      print('no')\n",
        "  elif result1 == 0 and result2 == 0:\n",
        "    print('yes')\n",
        "\n",
        "#틀림"
      ],
      "metadata": {
        "colab": {
          "base_uri": "https://localhost:8080/"
        },
        "id": "oG38XLvZrGbl",
        "outputId": "ba5c533b-8e8b-4350-9ac6-0561d6aba6e7"
      },
      "execution_count": 11,
      "outputs": [
        {
          "name": "stdout",
          "output_type": "stream",
          "text": [
            "So when I die (the [first] I will see in (heaven) is a score list).\n",
            "yes\n",
            "[ first in ] ( first out ).\n",
            "yes\n",
            "Half Moon tonight (At least it is better than no Moon at all].\n",
            "no\n",
            "A rope may form )( a trail in a maze.\n",
            "no\n",
            "Help( I[m being held prisoner in a fortune cookie factory)].\n",
            "yes\n",
            "([ (([( [ ] ) ( ) (( ))] )) ]).\n",
            "yes\n",
            " .\n",
            "yes\n",
            ".\n"
          ]
        }
      ]
    },
    {
      "cell_type": "code",
      "source": [
        "while True:\n",
        "  sentence = input()\n",
        "  if sentence == '.':\n",
        "    break\n",
        "\n",
        "  stack = []\n",
        "  flag = False\n",
        "\n",
        "  for letter in sentence:\n",
        "\n",
        "    if letter == '(' or letter == '[':\n",
        "      stack.append(letter)\n",
        "\n",
        "    elif letter == ')':\n",
        "      if len(stack) == 0:\n",
        "        print('no')\n",
        "        flag = True\n",
        "        break\n",
        "      elif stack[-1]=='(':\n",
        "        stack.pop()\n",
        "      else:\n",
        "        print('no')\n",
        "        flag = True\n",
        "        break\n",
        "\n",
        "    elif letter == ']':\n",
        "      if len(stack) == 0:\n",
        "        print('no')\n",
        "        flag = True\n",
        "        break\n",
        "      elif stack[-1]=='[':\n",
        "        stack.pop()\n",
        "      else:\n",
        "        print('no')\n",
        "        flag = True\n",
        "        break\n",
        "\n",
        "  if not flag:\n",
        "    if len(stack) == 0:\n",
        "      print('yes')\n",
        "    else:\n",
        "      print('no')"
      ],
      "metadata": {
        "colab": {
          "base_uri": "https://localhost:8080/"
        },
        "id": "ppTXRApisHKi",
        "outputId": "aa3056ed-8839-46b3-c016-af2edb73794f"
      },
      "execution_count": 13,
      "outputs": [
        {
          "name": "stdout",
          "output_type": "stream",
          "text": [
            "So when I die (the [first] I will see in (heaven) is a score list).\n",
            "yes\n",
            "[ first in ] ( first out ).\n",
            "yes\n",
            "Help( I[m being held prisoner in a fortune cookie factory)].\n",
            "no\n",
            "A rope may form )( a trail in a maze.\n",
            "no\n",
            "Half Moon tonight (At least it is better than no Moon at all].\n",
            "no\n",
            "([ (([( [ ] ) ( ) (( ))] )) ]).\n",
            "yes\n",
            " .\n",
            "yes\n",
            ".\n"
          ]
        }
      ]
    },
    {
      "cell_type": "code",
      "source": [],
      "metadata": {
        "id": "sF6dc90Ns2ac"
      },
      "execution_count": null,
      "outputs": []
    }
  ]
}