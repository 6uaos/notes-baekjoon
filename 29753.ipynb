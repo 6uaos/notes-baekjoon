{
  "nbformat": 4,
  "nbformat_minor": 0,
  "metadata": {
    "colab": {
      "provenance": [],
      "authorship_tag": "ABX9TyNHTNhU1QVYDxq4/QyLAr6e",
      "include_colab_link": true
    },
    "kernelspec": {
      "name": "python3",
      "display_name": "Python 3"
    },
    "language_info": {
      "name": "python"
    }
  },
  "cells": [
    {
      "cell_type": "markdown",
      "metadata": {
        "id": "view-in-github",
        "colab_type": "text"
      },
      "source": [
        "<a href=\"https://colab.research.google.com/github/uoahy-6uoas/notes-baekjoon/blob/main/29753.ipynb\" target=\"_parent\"><img src=\"https://colab.research.google.com/assets/colab-badge.svg\" alt=\"Open In Colab\"/></a>"
      ]
    },
    {
      "cell_type": "code",
      "source": [
        "gpa = {'F':0,'D0':100,'D+':150,'C0':200,'C+':250,'B0':300,'B+':350,'A0':400,'A+':450}\n",
        "n,x = map(float,input().split())\n",
        "n,x = int(n), int(round(x*100)) #x값도 소수로 받기 때문에 round처리 해줘야 이상한 값 안들어옴"
      ],
      "metadata": {
        "id": "jCSmGOlM81uX",
        "colab": {
          "base_uri": "https://localhost:8080/"
        },
        "outputId": "ace58242-9e23-452c-93c5-97a8dbd15cd2"
      },
      "execution_count": 118,
      "outputs": [
        {
          "name": "stdout",
          "output_type": "stream",
          "text": [
            "5 2.54\n"
          ]
        }
      ]
    },
    {
      "cell_type": "code",
      "source": [
        "credit,scores = 0,0 #전체학점, 점수합계\n",
        "for _ in range(n-1):\n",
        "  tmp1 ,tmp2 = map(str, input().split())\n",
        "  credit += int(tmp1)\n",
        "  scores += int(tmp1)*gpa[tmp2]\n",
        "unknown = int(input())\n",
        "credit += unknown"
      ],
      "metadata": {
        "colab": {
          "base_uri": "https://localhost:8080/"
        },
        "id": "rcqPPQBnOBJj",
        "outputId": "da0193e5-e622-4845-fce3-d596897f23eb"
      },
      "execution_count": 121,
      "outputs": [
        {
          "name": "stdout",
          "output_type": "stream",
          "text": [
            "3 B+\n",
            "2 B0\n",
            "2 C+\n",
            "2 C0\n",
            "1\n"
          ]
        }
      ]
    },
    {
      "cell_type": "code",
      "source": [
        "for i in gpa:\n",
        "  if int(int((unknown*gpa[i]+scores))/credit) > x:\n",
        "    print(i)\n",
        "    break\n",
        "  else:\n",
        "    if i == 'A+':\n",
        "      print('impossible')"
      ],
      "metadata": {
        "colab": {
          "base_uri": "https://localhost:8080/"
        },
        "id": "dPf7ULmIQCaU",
        "outputId": "1692e58b-9229-47f9-f69b-70169f47d171"
      },
      "execution_count": 122,
      "outputs": [
        {
          "output_type": "stream",
          "name": "stdout",
          "text": [
            "F\n"
          ]
        }
      ]
    },
    {
      "cell_type": "code",
      "source": [
        "2.55*100 #매우중요"
      ],
      "metadata": {
        "colab": {
          "base_uri": "https://localhost:8080/"
        },
        "id": "srwJZTwParBZ",
        "outputId": "d240c641-0a83-4a85-eed5-bd9ec053ef34"
      },
      "execution_count": 114,
      "outputs": [
        {
          "output_type": "execute_result",
          "data": {
            "text/plain": [
              "254.99999999999997"
            ]
          },
          "metadata": {},
          "execution_count": 114
        }
      ]
    }
  ]
}