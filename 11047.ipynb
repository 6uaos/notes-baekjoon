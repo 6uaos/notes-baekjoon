{
  "nbformat": 4,
  "nbformat_minor": 0,
  "metadata": {
    "colab": {
      "provenance": [],
      "authorship_tag": "ABX9TyOXMtoBCObxMqAgoL9DNgiQ",
      "include_colab_link": true
    },
    "kernelspec": {
      "name": "python3",
      "display_name": "Python 3"
    },
    "language_info": {
      "name": "python"
    }
  },
  "cells": [
    {
      "cell_type": "markdown",
      "metadata": {
        "id": "view-in-github",
        "colab_type": "text"
      },
      "source": [
        "<a href=\"https://colab.research.google.com/github/6uaos/notes-baekjoon/blob/main/11047.ipynb\" target=\"_parent\"><img src=\"https://colab.research.google.com/assets/colab-badge.svg\" alt=\"Open In Colab\"/></a>"
      ]
    },
    {
      "cell_type": "code",
      "source": [
        "n,k = map(int,input().split())\n",
        "coin_list = []\n",
        "for _ in range(n):\n",
        "  coin_list.append(int(input()))"
      ],
      "metadata": {
        "colab": {
          "base_uri": "https://localhost:8080/"
        },
        "id": "ICr4pgV-jCBb",
        "outputId": "07a6b0de-6458-4ca9-a741-a89cf3cd3b8b"
      },
      "execution_count": 47,
      "outputs": [
        {
          "name": "stdout",
          "output_type": "stream",
          "text": [
            "10 4200\n",
            "1\n",
            "5\n",
            "10\n",
            "50\n",
            "100\n",
            "500\n",
            "1000\n",
            "5000\n",
            "10000\n",
            "50000\n"
          ]
        }
      ]
    },
    {
      "cell_type": "code",
      "source": [
        "coin_list.sort(reverse=True)\n",
        "result = 0\n",
        "\n",
        "for i in coin_list:\n",
        "  result += k//i\n",
        "  k = k%i\n",
        "  print(f\"result{result} k{k} i{i}\")\n",
        "\n",
        "print(result)"
      ],
      "metadata": {
        "colab": {
          "base_uri": "https://localhost:8080/"
        },
        "id": "6fdG_i7cj2Vf",
        "outputId": "b7a093c9-8e46-4548-b90d-62c505e130ee"
      },
      "execution_count": 52,
      "outputs": [
        {
          "output_type": "stream",
          "name": "stdout",
          "text": [
            "result0 k4200 i50000\n",
            "result0 k4200 i10000\n",
            "result0 k4200 i5000\n",
            "result4 k200 i1000\n",
            "result4 k200 i500\n",
            "result6 k0 i100\n",
            "result6 k0 i50\n",
            "result6 k0 i10\n",
            "result6 k0 i5\n",
            "result6 k0 i1\n",
            "6\n"
          ]
        }
      ]
    }
  ]
}