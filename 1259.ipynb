{
  "nbformat": 4,
  "nbformat_minor": 0,
  "metadata": {
    "colab": {
      "provenance": [],
      "authorship_tag": "ABX9TyMawaphyczRt4aOrgN31EvR",
      "include_colab_link": true
    },
    "kernelspec": {
      "name": "python3",
      "display_name": "Python 3"
    },
    "language_info": {
      "name": "python"
    }
  },
  "cells": [
    {
      "cell_type": "markdown",
      "metadata": {
        "id": "view-in-github",
        "colab_type": "text"
      },
      "source": [
        "<a href=\"https://colab.research.google.com/github/uoahy-6uoas/notes-baekjoon/blob/main/1259.ipynb\" target=\"_parent\"><img src=\"https://colab.research.google.com/assets/colab-badge.svg\" alt=\"Open In Colab\"/></a>"
      ]
    },
    {
      "cell_type": "code",
      "source": [
        "while True:\n",
        "  tmp = input()\n",
        "\n",
        "  if tmp == '0': break\n",
        "\n",
        "  for i in range(len(tmp)-1):\n",
        "    if tmp[i] != tmp[len(tmp)-i-1]:\n",
        "      print('no')\n",
        "      break\n",
        "  else:\n",
        "    print('yes')"
      ],
      "metadata": {
        "colab": {
          "base_uri": "https://localhost:8080/"
        },
        "id": "oplAlxc2dwEx",
        "outputId": "dd613f8b-f004-4101-8a87-4d575b4159f0"
      },
      "execution_count": 3,
      "outputs": [
        {
          "name": "stdout",
          "output_type": "stream",
          "text": [
            "121\n",
            "yes\n",
            "1234\n",
            "no\n",
            "12421\n",
            "yes\n",
            "0\n"
          ]
        }
      ]
    }
  ]
}