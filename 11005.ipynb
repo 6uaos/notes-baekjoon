{
  "nbformat": 4,
  "nbformat_minor": 0,
  "metadata": {
    "colab": {
      "provenance": [],
      "authorship_tag": "ABX9TyMRdEbMkIsFXE6c7Bine69m",
      "include_colab_link": true
    },
    "kernelspec": {
      "name": "python3",
      "display_name": "Python 3"
    },
    "language_info": {
      "name": "python"
    }
  },
  "cells": [
    {
      "cell_type": "markdown",
      "metadata": {
        "id": "view-in-github",
        "colab_type": "text"
      },
      "source": [
        "<a href=\"https://colab.research.google.com/github/uoahy-6uoas/notes-baekjoon/blob/main/11005.ipynb\" target=\"_parent\"><img src=\"https://colab.research.google.com/assets/colab-badge.svg\" alt=\"Open In Colab\"/></a>"
      ]
    },
    {
      "cell_type": "code",
      "source": [
        "n,b = map(int,input().split())"
      ],
      "metadata": {
        "colab": {
          "base_uri": "https://localhost:8080/"
        },
        "id": "_M8UIfSPDxIR",
        "outputId": "19415b8e-9e85-4477-adc9-6a51de558902"
      },
      "execution_count": 37,
      "outputs": [
        {
          "name": "stdout",
          "output_type": "stream",
          "text": [
            "8 2\n"
          ]
        }
      ]
    },
    {
      "cell_type": "code",
      "source": [
        "result = []\n",
        "'''\n",
        "tmp = {'A':10,'B':11,'C':12,'D':13,'E':14,'F':15,'G':16,'H':17,'I':18,'J':19,\n",
        "       'K':20,'L':21,'M':22,'N':23,'O':24,'P':25,'Q':26,'R':27,'S':28,'T':29,\n",
        "       'U':30,'V':31,'W':32,'X':33,'Y':34,'Z':35,\n",
        "       '0':0,'1':1,'2':2,'3':3,'4':4,'5':5,'6':6,'7':7,'8':8,'9':9}\n",
        "'''\n",
        "tmp = ['0','1','2','3','4','5','6','7','8','9',\n",
        "       'A','B','C','D','E','F','G','H','I','J',\n",
        "       'K','L','M','N','O','P','Q','R','S','T',\n",
        "       'U','V','W','X','Y','Z']"
      ],
      "metadata": {
        "id": "Hn9osyLZE6xd"
      },
      "execution_count": 38,
      "outputs": []
    },
    {
      "cell_type": "code",
      "source": [
        "while n:\n",
        "  result.append(tmp[n%b])\n",
        "  n = n//b\n",
        "\n",
        "result.reverse()\n",
        "print(''.join(result))"
      ],
      "metadata": {
        "colab": {
          "base_uri": "https://localhost:8080/"
        },
        "id": "csBXD-D1F0Kk",
        "outputId": "c9daed2b-f0e1-45bf-9d25-05c757b5935c"
      },
      "execution_count": 39,
      "outputs": [
        {
          "output_type": "stream",
          "name": "stdout",
          "text": [
            "1000\n"
          ]
        }
      ]
    }
  ]
}