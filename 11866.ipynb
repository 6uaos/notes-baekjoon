{
  "nbformat": 4,
  "nbformat_minor": 0,
  "metadata": {
    "colab": {
      "provenance": [],
      "authorship_tag": "ABX9TyNfPsq99SVg4ZjOr+xxWs6R",
      "include_colab_link": true
    },
    "kernelspec": {
      "name": "python3",
      "display_name": "Python 3"
    },
    "language_info": {
      "name": "python"
    }
  },
  "cells": [
    {
      "cell_type": "markdown",
      "metadata": {
        "id": "view-in-github",
        "colab_type": "text"
      },
      "source": [
        "<a href=\"https://colab.research.google.com/github/uoahy-6uoas/notes-baekjoon/blob/main/11866.ipynb\" target=\"_parent\"><img src=\"https://colab.research.google.com/assets/colab-badge.svg\" alt=\"Open In Colab\"/></a>"
      ]
    },
    {
      "cell_type": "code",
      "source": [
        "n, k = map(int,input().split())"
      ],
      "metadata": {
        "colab": {
          "base_uri": "https://localhost:8080/"
        },
        "id": "721p_rfWD-2u",
        "outputId": "dcd17055-1290-4866-fb33-c21de0cabb87"
      },
      "execution_count": 14,
      "outputs": [
        {
          "name": "stdout",
          "output_type": "stream",
          "text": [
            "7 3\n"
          ]
        }
      ]
    },
    {
      "cell_type": "code",
      "source": [
        "from collections import deque\n",
        "table = deque(range(1,n+1))"
      ],
      "metadata": {
        "id": "v54bi_3REEWD"
      },
      "execution_count": 15,
      "outputs": []
    },
    {
      "cell_type": "code",
      "source": [
        "result = []\n",
        "cnt = 1\n",
        "\n",
        "while table:\n",
        "  if cnt%k != 0:\n",
        "    table.append(table.popleft())\n",
        "  else:\n",
        "    result.append(table.popleft())\n",
        "  cnt+=1\n",
        "\n",
        "print('<',end='')\n",
        "for i in result[:n-1]:\n",
        "  print(f'{i}, ',end='')\n",
        "print(result[-1],end='')\n",
        "print('>')"
      ],
      "metadata": {
        "colab": {
          "base_uri": "https://localhost:8080/"
        },
        "id": "qWixzZpCEWVb",
        "outputId": "47784617-8f29-4851-9c5e-28b300896bb7"
      },
      "execution_count": 16,
      "outputs": [
        {
          "output_type": "stream",
          "name": "stdout",
          "text": [
            "<3, 6, 2, 7, 5, 1, 4>\n"
          ]
        }
      ]
    }
  ]
}