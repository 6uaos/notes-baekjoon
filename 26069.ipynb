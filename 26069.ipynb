{
  "nbformat": 4,
  "nbformat_minor": 0,
  "metadata": {
    "colab": {
      "provenance": [],
      "authorship_tag": "ABX9TyM/AJVX+AjsGjZD32nMo7iG",
      "include_colab_link": true
    },
    "kernelspec": {
      "name": "python3",
      "display_name": "Python 3"
    },
    "language_info": {
      "name": "python"
    }
  },
  "cells": [
    {
      "cell_type": "markdown",
      "metadata": {
        "id": "view-in-github",
        "colab_type": "text"
      },
      "source": [
        "<a href=\"https://colab.research.google.com/github/uoahy-6uoas/notes-baekjoon/blob/main/26069.ipynb\" target=\"_parent\"><img src=\"https://colab.research.google.com/assets/colab-badge.svg\" alt=\"Open In Colab\"/></a>"
      ]
    },
    {
      "cell_type": "code",
      "source": [
        "n = int(input())"
      ],
      "metadata": {
        "colab": {
          "base_uri": "https://localhost:8080/"
        },
        "id": "DLd2X6aRjJpz",
        "outputId": "d9d39f9e-0711-4016-8fdb-39f73ad6c8b1"
      },
      "execution_count": 21,
      "outputs": [
        {
          "name": "stdout",
          "output_type": "stream",
          "text": [
            "12\n"
          ]
        }
      ]
    },
    {
      "cell_type": "code",
      "source": [
        "dancer = ['ChongChong']\n",
        "for _ in range(n):\n",
        "  a,b = map(str,input().split())\n",
        "  if a in dancer and b in dancer:\n",
        "    pass\n",
        "  elif a in dancer:\n",
        "    dancer.append(b)\n",
        "  elif b in dancer:\n",
        "    dancer.append(a)\n",
        "  else:\n",
        "    pass\n",
        "\n",
        "print(len(dancer))"
      ],
      "metadata": {
        "colab": {
          "base_uri": "https://localhost:8080/"
        },
        "id": "nuSMU59AjMeK",
        "outputId": "3eb3094e-b005-46d9-8bec-3225155a9776"
      },
      "execution_count": 22,
      "outputs": [
        {
          "output_type": "stream",
          "name": "stdout",
          "text": [
            "bnb2011 chansol\n",
            "chansol chogahui05\n",
            "chogahui05 jthis\n",
            "jthis ChongChong\n",
            "jthis jyheo98\n",
            "jyheo98 lms0806\n",
            "lms0806 pichulia\n",
            "pichulia pjshwa\n",
            "pjshwa r4pidstart\n",
            "r4pidstart swoon\n",
            "swoon tony9402\n",
            "tony9402 bnb2011\n",
            "10\n"
          ]
        }
      ]
    }
  ]
}