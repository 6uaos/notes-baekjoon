{
  "nbformat": 4,
  "nbformat_minor": 0,
  "metadata": {
    "colab": {
      "provenance": [],
      "authorship_tag": "ABX9TyMkg7zYurgD4UAyGbSuJqcm",
      "include_colab_link": true
    },
    "kernelspec": {
      "name": "python3",
      "display_name": "Python 3"
    },
    "language_info": {
      "name": "python"
    }
  },
  "cells": [
    {
      "cell_type": "markdown",
      "metadata": {
        "id": "view-in-github",
        "colab_type": "text"
      },
      "source": [
        "<a href=\"https://colab.research.google.com/github/uoahy-6uoas/notes-baekjoon/blob/main/10798.ipynb\" target=\"_parent\"><img src=\"https://colab.research.google.com/assets/colab-badge.svg\" alt=\"Open In Colab\"/></a>"
      ]
    },
    {
      "cell_type": "code",
      "source": [
        "wall = []\n",
        "len_ = 0\n",
        "for _ in range(5):\n",
        "  tmp = list(input())\n",
        "  if len_ < len(tmp):\n",
        "    len_ = len(tmp)\n",
        "  wall.append(tmp)"
      ],
      "metadata": {
        "colab": {
          "base_uri": "https://localhost:8080/"
        },
        "id": "-cshrGtUtlki",
        "outputId": "64c44dd4-7473-4fad-ce6f-611415b5f931"
      },
      "execution_count": 36,
      "outputs": [
        {
          "name": "stdout",
          "output_type": "stream",
          "text": [
            "wertw\n",
            "1235\n",
            "hte\n",
            "f\n",
            "24371j\n"
          ]
        }
      ]
    },
    {
      "cell_type": "code",
      "source": [
        "for i in range(len_):\n",
        "  for j in range(5):\n",
        "    try:\n",
        "      print(wall[j][i],end='')\n",
        "    except:\n",
        "      pass"
      ],
      "metadata": {
        "colab": {
          "base_uri": "https://localhost:8080/"
        },
        "id": "32QewGsVu5W9",
        "outputId": "d4022438-5d1b-4e38-abd8-9cddce30a24b"
      },
      "execution_count": 40,
      "outputs": [
        {
          "output_type": "stream",
          "name": "stdout",
          "text": [
            "w1hf2e2t4r3e3t57w1j"
          ]
        }
      ]
    }
  ]
}