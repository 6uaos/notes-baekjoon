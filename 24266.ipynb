{
  "nbformat": 4,
  "nbformat_minor": 0,
  "metadata": {
    "colab": {
      "provenance": [],
      "authorship_tag": "ABX9TyPBnO8ZNj8QGGeXztSS1+eH",
      "include_colab_link": true
    },
    "kernelspec": {
      "name": "python3",
      "display_name": "Python 3"
    },
    "language_info": {
      "name": "python"
    }
  },
  "cells": [
    {
      "cell_type": "markdown",
      "metadata": {
        "id": "view-in-github",
        "colab_type": "text"
      },
      "source": [
        "<a href=\"https://colab.research.google.com/github/uoahy-6uoas/notes-baekjoon/blob/main/24266.ipynb\" target=\"_parent\"><img src=\"https://colab.research.google.com/assets/colab-badge.svg\" alt=\"Open In Colab\"/></a>"
      ]
    },
    {
      "cell_type": "code",
      "source": [
        "def mop(cnt,n):\n",
        "  for i in range(1,n+1):\n",
        "    for j in range(i,n+1):\n",
        "      for k in range(1,n+1):\n",
        "        cnt+=1\n",
        "  return cnt"
      ],
      "metadata": {
        "id": "SFPA17I9i01b"
      },
      "execution_count": 14,
      "outputs": []
    },
    {
      "cell_type": "code",
      "source": [
        "n = int(input())\n",
        "#cnt=0\n",
        "#print(mop(cnt,n))\n",
        "#print(3)\n",
        "print(n**3)\n",
        "print(3)"
      ],
      "metadata": {
        "colab": {
          "base_uri": "https://localhost:8080/"
        },
        "id": "pa5cZ1Iai_aZ",
        "outputId": "ec640a91-47d0-4790-a8b3-20f36e6bc7e3"
      },
      "execution_count": 15,
      "outputs": [
        {
          "output_type": "stream",
          "name": "stdout",
          "text": [
            "7\n",
            "343\n",
            "3\n"
          ]
        }
      ]
    }
  ]
}