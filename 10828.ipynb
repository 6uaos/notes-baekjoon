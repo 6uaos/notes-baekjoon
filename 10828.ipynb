{
  "nbformat": 4,
  "nbformat_minor": 0,
  "metadata": {
    "colab": {
      "provenance": [],
      "authorship_tag": "ABX9TyOrVT2ZZgxShEliwPUX8ExD",
      "include_colab_link": true
    },
    "kernelspec": {
      "name": "python3",
      "display_name": "Python 3"
    },
    "language_info": {
      "name": "python"
    }
  },
  "cells": [
    {
      "cell_type": "markdown",
      "metadata": {
        "id": "view-in-github",
        "colab_type": "text"
      },
      "source": [
        "<a href=\"https://colab.research.google.com/github/uoahy-6uoas/notes-baekjoon/blob/main/10828.ipynb\" target=\"_parent\"><img src=\"https://colab.research.google.com/assets/colab-badge.svg\" alt=\"Open In Colab\"/></a>"
      ]
    },
    {
      "cell_type": "code",
      "source": [
        "class Stack:\n",
        "  def __init__(self):\n",
        "    self.stk = []\n",
        "\n",
        "  def push(self,x):\n",
        "    self.stk.append(x)\n",
        "\n",
        "  def pop(self):\n",
        "    print(self.stk.pop() if self.stk else -1)\n",
        "\n",
        "  def size(self):\n",
        "    print(len(self.stk))\n",
        "\n",
        "  def empty(self):\n",
        "    print(0 if self.stk else 1)\n",
        "\n",
        "  def top(self):\n",
        "    print(self.stk[-1] if self.stk else -1)"
      ],
      "metadata": {
        "id": "37QC4BYlk9hd"
      },
      "execution_count": 39,
      "outputs": []
    },
    {
      "cell_type": "code",
      "source": [
        "stack = Stack() # slef.stk를 계속 쓰려면 이렇게 불러와줘야함..\n",
        "\n",
        "n = int(input())\n",
        "\n",
        "\n",
        "for _ in range(n):\n",
        "  com = list(input().split())\n",
        "  if com[0] == 'push':\n",
        "    stack.push(int(com[1]))\n",
        "  elif com[0]=='pop':\n",
        "    stack.pop()\n",
        "  elif com[0]=='size':\n",
        "    stack.size()\n",
        "  elif com[0]=='empty':\n",
        "    stack.empty()\n",
        "  elif com[0]=='top':\n",
        "    stack.top()"
      ],
      "metadata": {
        "colab": {
          "base_uri": "https://localhost:8080/"
        },
        "id": "uA6oOK9jlWLp",
        "outputId": "a92e8ee1-9841-4dfb-a1ce-1e5be9c07aed"
      },
      "execution_count": 41,
      "outputs": [
        {
          "output_type": "stream",
          "name": "stdout",
          "text": [
            "14\n",
            "push 1\n",
            "push 2\n",
            "top\n",
            "2\n",
            "size\n",
            "2\n",
            "empty\n",
            "1\n",
            "pop\n",
            "2\n",
            "pop\n",
            "1\n",
            "pop\n",
            "-1\n",
            "size\n",
            "0\n",
            "empty\n",
            "0\n",
            "pop\n",
            "-1\n",
            "push 3\n",
            "empty\n",
            "1\n",
            "top\n",
            "3\n"
          ]
        }
      ]
    }
  ]
}