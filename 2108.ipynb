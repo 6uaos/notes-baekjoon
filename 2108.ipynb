{
  "nbformat": 4,
  "nbformat_minor": 0,
  "metadata": {
    "colab": {
      "provenance": [],
      "authorship_tag": "ABX9TyOeSnUSprJOOvyjmQLjOJm5",
      "include_colab_link": true
    },
    "kernelspec": {
      "name": "python3",
      "display_name": "Python 3"
    },
    "language_info": {
      "name": "python"
    }
  },
  "cells": [
    {
      "cell_type": "markdown",
      "metadata": {
        "id": "view-in-github",
        "colab_type": "text"
      },
      "source": [
        "<a href=\"https://colab.research.google.com/github/uoahy-6uoas/notes-baekjoon/blob/main/2108.ipynb\" target=\"_parent\"><img src=\"https://colab.research.google.com/assets/colab-badge.svg\" alt=\"Open In Colab\"/></a>"
      ]
    },
    {
      "cell_type": "code",
      "source": [
        "n = int(input())"
      ],
      "metadata": {
        "colab": {
          "base_uri": "https://localhost:8080/"
        },
        "id": "DLd2X6aRjJpz",
        "outputId": "81eb8b0d-4239-4f59-d5bb-ab2302db0c9a"
      },
      "execution_count": 42,
      "outputs": [
        {
          "name": "stdout",
          "output_type": "stream",
          "text": [
            "3\n"
          ]
        }
      ]
    },
    {
      "cell_type": "code",
      "source": [
        "n_sum = 0 # mean = int(round(n_sum/n,0))\n",
        "n_dict = {}\n",
        "n_mid = n//2 #mid = n_umbers[n_mid]\n",
        "n_umbers = []\n",
        "\n",
        "for _ in range(n):\n",
        "  number = int(input())\n",
        "\n",
        "  if number in n_dict:\n",
        "    n_dict[number] += 1\n",
        "  elif number not in n_dict:\n",
        "    n_dict[number] = 1\n",
        "\n",
        "  n_umbers.append(number)\n",
        "  n_sum += number"
      ],
      "metadata": {
        "colab": {
          "base_uri": "https://localhost:8080/"
        },
        "id": "Sb7AuFCVkTM5",
        "outputId": "55584383-154d-42f7-e5db-6f220a2c46dc"
      },
      "execution_count": 43,
      "outputs": [
        {
          "name": "stdout",
          "output_type": "stream",
          "text": [
            "0\n",
            "0\n",
            "-1\n"
          ]
        }
      ]
    },
    {
      "cell_type": "code",
      "source": [
        "n_umbers.sort() #n\n",
        "one = int(round(n_sum/n,0))\n",
        "two = n_umbers[n_mid]\n",
        "four = abs(n_umbers[-1]-n_umbers[0])\n",
        "\n",
        "#three : most\n",
        "maxi = 0\n",
        "for i in n_dict: #2n\n",
        "  if n_dict[i] > maxi:\n",
        "    maxi = n_dict[i]\n",
        "\n",
        "maxi_list = []\n",
        "for j in n_dict:\n",
        "  if n_dict[j] == maxi:\n",
        "    maxi_list.append(j)\n",
        "\n",
        "maxi_list.sort()\n",
        "if len(maxi_list) >= 2:\n",
        "  three = maxi_list[1]\n",
        "else:\n",
        "  three = maxi_list[0]\n",
        "\n",
        "#import sys 해야 시간초과 안뜸"
      ],
      "metadata": {
        "id": "ceTB0yoIl9t4"
      },
      "execution_count": 44,
      "outputs": []
    },
    {
      "cell_type": "code",
      "source": [
        "print(one)\n",
        "print(two)\n",
        "print(three)\n",
        "print(four)"
      ],
      "metadata": {
        "colab": {
          "base_uri": "https://localhost:8080/"
        },
        "id": "LUhXhROLmiIS",
        "outputId": "ba249e55-d643-4837-c171-c4d4c93657e7"
      },
      "execution_count": 45,
      "outputs": [
        {
          "output_type": "stream",
          "name": "stdout",
          "text": [
            "0\n",
            "0\n",
            "0\n",
            "1\n"
          ]
        }
      ]
    }
  ]
}