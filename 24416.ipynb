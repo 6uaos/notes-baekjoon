{
  "nbformat": 4,
  "nbformat_minor": 0,
  "metadata": {
    "colab": {
      "provenance": [],
      "authorship_tag": "ABX9TyOtFjlB3tmfQLjC4z4ZaHyI",
      "include_colab_link": true
    },
    "kernelspec": {
      "name": "python3",
      "display_name": "Python 3"
    },
    "language_info": {
      "name": "python"
    }
  },
  "cells": [
    {
      "cell_type": "markdown",
      "metadata": {
        "id": "view-in-github",
        "colab_type": "text"
      },
      "source": [
        "<a href=\"https://colab.research.google.com/github/6uaos/notes-baekjoon/blob/main/24416.ipynb\" target=\"_parent\"><img src=\"https://colab.research.google.com/assets/colab-badge.svg\" alt=\"Open In Colab\"/></a>"
      ]
    },
    {
      "cell_type": "code",
      "source": [
        "n = int(input())\n",
        "cnt2 = 0"
      ],
      "metadata": {
        "colab": {
          "base_uri": "https://localhost:8080/"
        },
        "id": "5mDdHXfpiEue",
        "outputId": "e633cc8a-f749-4071-a274-d5d882415ba4"
      },
      "execution_count": 49,
      "outputs": [
        {
          "name": "stdout",
          "output_type": "stream",
          "text": [
            "30\n"
          ]
        }
      ]
    },
    {
      "cell_type": "code",
      "source": [
        "'''\n",
        "시간초과 pypy3는 ㄱㅊ\n",
        "def fibo1(n):\n",
        "  if n==1 or n==2:\n",
        "    return 1\n",
        "  else:\n",
        "    return fibo1(n-1)+fibo1(n-2)\n",
        "\n",
        "def fibo2(n):\n",
        "  global cnt2\n",
        "  fib2 = [0] * 41\n",
        "  fib2[1] = fib2[2] = 1\n",
        "  for i in range(3,n+1):\n",
        "    fib2[i] = fib2[i-1]+fib2[i-2]\n",
        "    cnt2+=1\n",
        "  return cnt2\n",
        "'''"
      ],
      "metadata": {
        "id": "BowlcCUGfSn6"
      },
      "execution_count": 47,
      "outputs": []
    },
    {
      "cell_type": "code",
      "source": [
        "def fibo1(n):\n",
        "  fib1 = [0] * 41\n",
        "  fib1[1], fib1[2] = 1,1\n",
        "  for i in range(3,n+1):\n",
        "    fib1[i] = fib1[i-1] + fib1[i-2]\n",
        "  return fib1[n]\n",
        "\n",
        "def fibo2(n):\n",
        "  global cnt2\n",
        "  fib2 = [0] * 41\n",
        "  fib2[1], fib2[2] = 1,1\n",
        "  for i in range(3,n+1):\n",
        "    fib2[i] = fib2[i-1] + fib2[i-2]\n",
        "    cnt2+=1\n",
        "  return cnt2"
      ],
      "metadata": {
        "id": "fkV20KWSl5Yl"
      },
      "execution_count": 50,
      "outputs": []
    },
    {
      "cell_type": "code",
      "source": [
        "print(f'{fibo1(n)} {fibo2(n)}')"
      ],
      "metadata": {
        "colab": {
          "base_uri": "https://localhost:8080/"
        },
        "id": "u_D6STGKgUfT",
        "outputId": "ef56dd29-8b4d-4f59-d750-80f3b1cef778"
      },
      "execution_count": 51,
      "outputs": [
        {
          "output_type": "stream",
          "name": "stdout",
          "text": [
            "832040 28\n"
          ]
        }
      ]
    }
  ]
}