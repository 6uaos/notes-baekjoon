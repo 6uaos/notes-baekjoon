{
  "nbformat": 4,
  "nbformat_minor": 0,
  "metadata": {
    "colab": {
      "provenance": [],
      "authorship_tag": "ABX9TyNe2SZff1Gul8FZyM/j6ZDx",
      "include_colab_link": true
    },
    "kernelspec": {
      "name": "python3",
      "display_name": "Python 3"
    },
    "language_info": {
      "name": "python"
    }
  },
  "cells": [
    {
      "cell_type": "markdown",
      "metadata": {
        "id": "view-in-github",
        "colab_type": "text"
      },
      "source": [
        "<a href=\"https://colab.research.google.com/github/uoahy-6uoas/notes-baekjoon/blob/main/2292.ipynb\" target=\"_parent\"><img src=\"https://colab.research.google.com/assets/colab-badge.svg\" alt=\"Open In Colab\"/></a>"
      ]
    },
    {
      "cell_type": "code",
      "source": [
        "n = int(input())\n",
        "\n",
        "result = 1\n",
        "if n==1:\n",
        "  print(result)\n",
        "else:\n",
        "  k,maxi=6,7\n",
        "  result+=1\n",
        "  while True:\n",
        "    if n<=maxi:\n",
        "      print(result)\n",
        "      break\n",
        "    else:\n",
        "      k+=6\n",
        "      maxi = maxi+k\n",
        "      result+=1"
      ],
      "metadata": {
        "colab": {
          "base_uri": "https://localhost:8080/"
        },
        "id": "zHmt-vMVMLaU",
        "outputId": "7edf1fa4-17ec-4d04-cfed-5b39771bfd7e"
      },
      "execution_count": 50,
      "outputs": [
        {
          "output_type": "stream",
          "name": "stdout",
          "text": [
            "57\n",
            "5\n"
          ]
        }
      ]
    }
  ]
}