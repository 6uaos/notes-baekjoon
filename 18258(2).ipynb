{
  "nbformat": 4,
  "nbformat_minor": 0,
  "metadata": {
    "colab": {
      "provenance": [],
      "authorship_tag": "ABX9TyPijxLzimN/EuzBEjKUj9xn",
      "include_colab_link": true
    },
    "kernelspec": {
      "name": "python3",
      "display_name": "Python 3"
    },
    "language_info": {
      "name": "python"
    }
  },
  "cells": [
    {
      "cell_type": "markdown",
      "metadata": {
        "id": "view-in-github",
        "colab_type": "text"
      },
      "source": [
        "<a href=\"https://colab.research.google.com/github/uoahy-6uoas/notes-baekjoon/blob/main/18258(2).ipynb\" target=\"_parent\"><img src=\"https://colab.research.google.com/assets/colab-badge.svg\" alt=\"Open In Colab\"/></a>"
      ]
    },
    {
      "cell_type": "code",
      "source": [
        "from collections import deque #deque\n",
        "\n",
        "class Queue:\n",
        "  def __init__(self):\n",
        "    self.queue = deque([])\n",
        "\n",
        "  def push(self,x):\n",
        "    self.queue.append(x)\n",
        "\n",
        "  def pop(self) -> int:\n",
        "    if self.queue:\n",
        "      return self.queue.popleft()\n",
        "    else:\n",
        "      return -1\n",
        "\n",
        "  def size(self) -> int:\n",
        "    return len(self.queue)\n",
        "\n",
        "  def empty(self) -> int:\n",
        "    return 0 if self.queue else 1\n",
        "\n",
        "  def front(self) -> int:\n",
        "    return self.queue[0] if self.queue else -1\n",
        "\n",
        "  def back(self) -> int:\n",
        "    return self.queue[-1] if self.queue else -1"
      ],
      "metadata": {
        "id": "_0tbxN1GgQ_5"
      },
      "execution_count": 43,
      "outputs": []
    },
    {
      "cell_type": "code",
      "source": [
        "n = int(input())\n",
        "\n",
        "queue = Queue()\n",
        "\n",
        "for _ in range(n):\n",
        "  command = input().split()\n",
        "\n",
        "  if command[0] == 'push':\n",
        "    x = int(command[1])\n",
        "    queue.push(x)\n",
        "  elif command[0] == 'pop':\n",
        "    print(queue.pop())\n",
        "  elif command[0] == 'size':\n",
        "    print(queue.size())\n",
        "  elif command[0] == 'empty':\n",
        "    print(queue.empty())\n",
        "  elif command[0] == 'front':\n",
        "    print(queue.front())\n",
        "  elif command[0] == 'back':\n",
        "    print(queue.back())"
      ],
      "metadata": {
        "colab": {
          "base_uri": "https://localhost:8080/"
        },
        "id": "TjnZSYrehNq8",
        "outputId": "99bd8839-79db-4c79-c240-d9f5509b5680"
      },
      "execution_count": 45,
      "outputs": [
        {
          "output_type": "stream",
          "name": "stdout",
          "text": [
            "1\n",
            "pop\n",
            "-1\n"
          ]
        }
      ]
    }
  ]
}