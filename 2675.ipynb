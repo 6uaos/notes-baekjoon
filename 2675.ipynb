{
  "nbformat": 4,
  "nbformat_minor": 0,
  "metadata": {
    "colab": {
      "provenance": [],
      "authorship_tag": "ABX9TyNG4ovoHImtDGmS2p4FiNUq",
      "include_colab_link": true
    },
    "kernelspec": {
      "name": "python3",
      "display_name": "Python 3"
    },
    "language_info": {
      "name": "python"
    }
  },
  "cells": [
    {
      "cell_type": "markdown",
      "metadata": {
        "id": "view-in-github",
        "colab_type": "text"
      },
      "source": [
        "<a href=\"https://colab.research.google.com/github/uoahy-6uoas/notes-baekjoon/blob/main/2675.ipynb\" target=\"_parent\"><img src=\"https://colab.research.google.com/assets/colab-badge.svg\" alt=\"Open In Colab\"/></a>"
      ]
    },
    {
      "cell_type": "code",
      "source": [
        "t = int(input())\n",
        "for _ in range(t):\n",
        "  r,s = map(str,input().split())\n",
        "  for n in s:\n",
        "    print(n*int(r),end='')\n",
        "  print()"
      ],
      "metadata": {
        "colab": {
          "base_uri": "https://localhost:8080/"
        },
        "id": "EAHw_h-4iw7_",
        "outputId": "1575d901-5387-4f7a-e2d2-0a36f328cc5b"
      },
      "execution_count": 23,
      "outputs": [
        {
          "output_type": "stream",
          "name": "stdout",
          "text": [
            "2\n",
            "3 asdf\n",
            "aaasssdddfff3 rgwe\n",
            "rrrgggwwweee"
          ]
        }
      ]
    }
  ]
}