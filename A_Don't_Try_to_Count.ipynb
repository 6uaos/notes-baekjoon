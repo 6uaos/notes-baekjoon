{
  "nbformat": 4,
  "nbformat_minor": 0,
  "metadata": {
    "colab": {
      "provenance": [],
      "authorship_tag": "ABX9TyM7sCgjOUL6msmTFIrGhvkV",
      "include_colab_link": true
    },
    "kernelspec": {
      "name": "python3",
      "display_name": "Python 3"
    },
    "language_info": {
      "name": "python"
    }
  },
  "cells": [
    {
      "cell_type": "markdown",
      "metadata": {
        "id": "view-in-github",
        "colab_type": "text"
      },
      "source": [
        "<a href=\"https://colab.research.google.com/github/uoahy-6uoas/notes-codeforces/blob/main/A_Don't_Try_to_Count.ipynb\" target=\"_parent\"><img src=\"https://colab.research.google.com/assets/colab-badge.svg\" alt=\"Open In Colab\"/></a>"
      ]
    },
    {
      "cell_type": "markdown",
      "source": [
        "Given a string x of length n and a string s of length m (n⋅m≤25 ), consisting of lowercase Latin letters, you can apply any number of operations to the string x .\n",
        "\n",
        "In one operation, you append the current value of x to the end of the string x . Note that the value of x will change after this.\n",
        "\n",
        "For example, if x= \"aba\", then after applying operations, x will change as follows: \"aba\" → \"abaaba\" → \"abaabaabaaba\".\n",
        "\n",
        "After what minimum number of operations s will appear in x as a substring? A substring of a string is defined as a contiguous segment of it.\n",
        "\n",
        "---\n",
        "\n",
        "Input\n",
        "\n",
        "The first line of the input contains a single integer t (1≤t≤104 ) — the number of test cases.\n",
        "\n",
        "The first line of each test case contains two numbers n and m (1≤n⋅m≤25 ) — the lengths of strings x and s , respectively.\n",
        "\n",
        "The second line of each test case contains the string x of length n .\n",
        "\n",
        "The third line of each test case contains the string s of length m .\n",
        "\n",
        "---\n",
        "\n",
        "Output\n",
        "\n",
        "For each test case, output a single number — the minimum number of operations after which s will appear in x as a substring. If this is not possible, output −1 ."
      ],
      "metadata": {
        "id": "BrQ7Zp3w6KsS"
      }
    },
    {
      "cell_type": "code",
      "source": [
        "\n",
        "t = int(input())\n",
        "\n",
        "for _ in range(t):\n",
        "  n,m = map(int,input().split())\n",
        "  x = input() #len = n\n",
        "  s = input() #len = m\n",
        "\n",
        "  # todo : s in x = True\n",
        "\n",
        "  result,flag = 0, False\n",
        "\n",
        "  if s in x:\n",
        "    print(0)\n",
        "  else:\n",
        "    while True:\n",
        "      x = x*2\n",
        "      result += 1\n",
        "\n",
        "      if s in x:\n",
        "        print(result)\n",
        "        flag = True\n",
        "        break\n",
        "\n",
        "      if len(x) > m*2:\n",
        "        break\n",
        "\n",
        "    if not flag:\n",
        "      print(-1)\n",
        ""
      ],
      "metadata": {
        "id": "-xCZYxJH6IfZ"
      },
      "execution_count": null,
      "outputs": []
    }
  ]
}