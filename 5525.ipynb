{
  "nbformat": 4,
  "nbformat_minor": 0,
  "metadata": {
    "colab": {
      "provenance": [],
      "authorship_tag": "ABX9TyP/jU4raFq0wqc8BEEw31V1",
      "include_colab_link": true
    },
    "kernelspec": {
      "name": "python3",
      "display_name": "Python 3"
    },
    "language_info": {
      "name": "python"
    }
  },
  "cells": [
    {
      "cell_type": "markdown",
      "metadata": {
        "id": "view-in-github",
        "colab_type": "text"
      },
      "source": [
        "<a href=\"https://colab.research.google.com/github/6uaos/notes-baekjoon/blob/main/5525.ipynb\" target=\"_parent\"><img src=\"https://colab.research.google.com/assets/colab-badge.svg\" alt=\"Open In Colab\"/></a>"
      ]
    },
    {
      "cell_type": "code",
      "source": [
        "n = int(input())\n",
        "m = int(input()) #len(s)\n",
        "s = input()"
      ],
      "metadata": {
        "colab": {
          "base_uri": "https://localhost:8080/"
        },
        "id": "8B5uhxZGK_r_",
        "outputId": "ec2a645e-3abb-419d-c6d9-adf2d2907138"
      },
      "execution_count": 29,
      "outputs": [
        {
          "name": "stdout",
          "output_type": "stream",
          "text": [
            "2\n",
            "13\n",
            "OOIOIOIOIIOII\n"
          ]
        }
      ]
    },
    {
      "cell_type": "code",
      "source": [
        "target = 'IOI'+'OI'*(n-1)"
      ],
      "metadata": {
        "id": "Q7RBGwqSLNF2"
      },
      "execution_count": 30,
      "outputs": []
    },
    {
      "cell_type": "code",
      "source": [
        "result = 0\n",
        "for i in range(m-(3+2*(n-1))+1):\n",
        "  print(s[i:i+(3+2*(n-1))])\n",
        "  if target == s[i:i+(3+2*(n-1))]:\n",
        "    result+=1\n",
        "\n",
        "print(result)\n",
        "\n",
        "#50점임 --> 투포인터 배우고 나중에 다시 시도"
      ],
      "metadata": {
        "colab": {
          "base_uri": "https://localhost:8080/"
        },
        "id": "jc342pgyNIRh",
        "outputId": "56796e34-4032-4436-f39a-dc9623e9aade"
      },
      "execution_count": 33,
      "outputs": [
        {
          "output_type": "stream",
          "name": "stdout",
          "text": [
            "OOIOI\n",
            "OIOIO\n",
            "IOIOI\n",
            "OIOIO\n",
            "IOIOI\n",
            "OIOII\n",
            "IOIIO\n",
            "OIIOI\n",
            "IIOII\n",
            "2\n"
          ]
        }
      ]
    }
  ]
}