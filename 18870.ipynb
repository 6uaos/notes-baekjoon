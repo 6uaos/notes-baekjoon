{
  "nbformat": 4,
  "nbformat_minor": 0,
  "metadata": {
    "colab": {
      "provenance": [],
      "authorship_tag": "ABX9TyPuINsZNyPkKIz+zgvD9ECW",
      "include_colab_link": true
    },
    "kernelspec": {
      "name": "python3",
      "display_name": "Python 3"
    },
    "language_info": {
      "name": "python"
    }
  },
  "cells": [
    {
      "cell_type": "markdown",
      "metadata": {
        "id": "view-in-github",
        "colab_type": "text"
      },
      "source": [
        "<a href=\"https://colab.research.google.com/github/uoahy-6uoas/notes-baekjoon/blob/main/18870.ipynb\" target=\"_parent\"><img src=\"https://colab.research.google.com/assets/colab-badge.svg\" alt=\"Open In Colab\"/></a>"
      ]
    },
    {
      "cell_type": "code",
      "source": [
        "n = int(input())\n",
        "cor = list(map(int,input().split()))"
      ],
      "metadata": {
        "id": "w03ZoqaLG0-J",
        "colab": {
          "base_uri": "https://localhost:8080/"
        },
        "outputId": "4af6de7b-e86f-4f62-bdac-1f15a9af54ca"
      },
      "execution_count": 14,
      "outputs": [
        {
          "name": "stdout",
          "output_type": "stream",
          "text": [
            "5\n",
            "2 4 -10 4 -9\n"
          ]
        }
      ]
    },
    {
      "cell_type": "code",
      "source": [
        "tmp = sorted(cor)\n",
        "for i in cor:\n",
        "  print(tmp.index(i),end=' ')\n",
        "#시간초과"
      ],
      "metadata": {
        "colab": {
          "base_uri": "https://localhost:8080/"
        },
        "id": "4GC02a1yiKQ5",
        "outputId": "c0fdece3-2f0b-4054-c8bf-627e0689e37b"
      },
      "execution_count": 33,
      "outputs": [
        {
          "output_type": "stream",
          "name": "stdout",
          "text": [
            "2 3 0 3 1 "
          ]
        }
      ]
    },
    {
      "cell_type": "code",
      "source": [
        "for i in range(n):\n",
        "  rnk = 0\n",
        "  for j in range(n):\n",
        "    if cor[i] > cor[j]:\n",
        "      rnk+=1\n",
        "  print(rnk)\n",
        "#시간초과"
      ],
      "metadata": {
        "colab": {
          "base_uri": "https://localhost:8080/"
        },
        "id": "tyxeA5I8i8u1",
        "outputId": "f4676aee-d4b4-4892-c1de-d01d37d000fe"
      },
      "execution_count": 41,
      "outputs": [
        {
          "output_type": "stream",
          "name": "stdout",
          "text": [
            "2\n",
            "3\n",
            "0\n",
            "3\n",
            "1\n"
          ]
        }
      ]
    },
    {
      "cell_type": "code",
      "source": [
        "tmp = sorted(list(set(cor)))\n",
        "d, rnk = {},0\n",
        "for i in tmp: #dict의 시간복잡도 = O(1)\n",
        "  d[i] = rnk\n",
        "  rnk+=1\n",
        "for i in cor:\n",
        "  print(d[i],end=' ')"
      ],
      "metadata": {
        "colab": {
          "base_uri": "https://localhost:8080/"
        },
        "id": "zF92jmoslzpI",
        "outputId": "91df4ca4-fba2-4813-d91c-aadee8588fd5"
      },
      "execution_count": 45,
      "outputs": [
        {
          "output_type": "stream",
          "name": "stdout",
          "text": [
            "2 3 0 3 1 "
          ]
        }
      ]
    }
  ]
}