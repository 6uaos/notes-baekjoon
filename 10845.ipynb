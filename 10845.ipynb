{
  "nbformat": 4,
  "nbformat_minor": 0,
  "metadata": {
    "colab": {
      "provenance": [],
      "authorship_tag": "ABX9TyNYTATR75jY+3sZFJWm62r/",
      "include_colab_link": true
    },
    "kernelspec": {
      "name": "python3",
      "display_name": "Python 3"
    },
    "language_info": {
      "name": "python"
    }
  },
  "cells": [
    {
      "cell_type": "markdown",
      "metadata": {
        "id": "view-in-github",
        "colab_type": "text"
      },
      "source": [
        "<a href=\"https://colab.research.google.com/github/uoahy-6uoas/notes-baekjoon/blob/main/10845.ipynb\" target=\"_parent\"><img src=\"https://colab.research.google.com/assets/colab-badge.svg\" alt=\"Open In Colab\"/></a>"
      ]
    },
    {
      "cell_type": "code",
      "source": [
        "from collections import deque\n",
        "class Queue:\n",
        "  def __init__(self):\n",
        "    self.queue = deque([])\n",
        "\n",
        "  def push(self,x):\n",
        "    self.queue.append(x)\n",
        "\n",
        "  def pop(self):\n",
        "    print(self.queue.popleft() if self.queue else -1)\n",
        "\n",
        "  def size(self):\n",
        "    print(len(self.queue))\n",
        "\n",
        "  def empty(self):\n",
        "    print(0 if self.queue else 1)\n",
        "\n",
        "  def back(self):\n",
        "    print(self.queue[-1] if self.queue else -1)\n",
        "\n",
        "  def front(self):\n",
        "    print(self.queue[0] if self.queue else -1)"
      ],
      "metadata": {
        "id": "37QC4BYlk9hd"
      },
      "execution_count": 45,
      "outputs": []
    },
    {
      "cell_type": "code",
      "source": [
        "queue = Queue()\n",
        "\n",
        "n = int(input())\n",
        "\n",
        "\n",
        "for _ in range(n):\n",
        "  com = list(input().split())\n",
        "  if com[0] == 'push':\n",
        "    queue.push(int(com[1]))\n",
        "  elif com[0]=='pop':\n",
        "    queue.pop()\n",
        "  elif com[0]=='size':\n",
        "    queue.size()\n",
        "  elif com[0]=='empty':\n",
        "    queue.empty()\n",
        "  elif com[0]=='back':\n",
        "    queue.back()\n",
        "  elif com[0]=='front':\n",
        "    queue.front()"
      ],
      "metadata": {
        "colab": {
          "base_uri": "https://localhost:8080/"
        },
        "id": "uA6oOK9jlWLp",
        "outputId": "2425079d-4c97-4ef4-c4f7-203d15886f70"
      },
      "execution_count": 46,
      "outputs": [
        {
          "output_type": "stream",
          "name": "stdout",
          "text": [
            "15\n",
            "push 1\n",
            "oush 2\n",
            "push 2\n",
            "front\n",
            "1\n",
            "pop\n",
            "1\n",
            "back\n",
            "2\n",
            "pop\n",
            "2\n",
            "pop\n",
            "-1\n",
            "pop\n",
            "-1\n",
            "empty\n",
            "1\n",
            "back\n",
            "-1\n",
            "size\n",
            "0\n",
            "push 2\n",
            "empty\n",
            "0\n",
            "size\n",
            "1\n"
          ]
        }
      ]
    }
  ]
}