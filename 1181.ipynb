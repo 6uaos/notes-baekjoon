{
  "nbformat": 4,
  "nbformat_minor": 0,
  "metadata": {
    "colab": {
      "provenance": [],
      "authorship_tag": "ABX9TyNJGCirjJg/ECM4mAkUfWcu",
      "include_colab_link": true
    },
    "kernelspec": {
      "name": "python3",
      "display_name": "Python 3"
    },
    "language_info": {
      "name": "python"
    }
  },
  "cells": [
    {
      "cell_type": "markdown",
      "metadata": {
        "id": "view-in-github",
        "colab_type": "text"
      },
      "source": [
        "<a href=\"https://colab.research.google.com/github/uoahy-6uoas/notes-baekjoon/blob/main/1181.ipynb\" target=\"_parent\"><img src=\"https://colab.research.google.com/assets/colab-badge.svg\" alt=\"Open In Colab\"/></a>"
      ]
    },
    {
      "cell_type": "code",
      "source": [
        "n = int(input())"
      ],
      "metadata": {
        "id": "w03ZoqaLG0-J",
        "colab": {
          "base_uri": "https://localhost:8080/"
        },
        "outputId": "f47710e3-b471-4099-f2fa-eaa45fd37e1b"
      },
      "execution_count": 1,
      "outputs": [
        {
          "name": "stdout",
          "output_type": "stream",
          "text": [
            "13\n"
          ]
        }
      ]
    },
    {
      "cell_type": "code",
      "source": [
        "w = [[] for _ in range(51)]\n",
        "for _ in range(n):\n",
        "  tmp = input()\n",
        "  if tmp not in w[len(tmp)]:\n",
        "    w[len(tmp)].append(tmp)"
      ],
      "metadata": {
        "colab": {
          "base_uri": "https://localhost:8080/"
        },
        "id": "yzoDNLgebE5e",
        "outputId": "15dfa7ae-7459-4e3a-e38e-d113c1c8d916"
      },
      "execution_count": 8,
      "outputs": [
        {
          "name": "stdout",
          "output_type": "stream",
          "text": [
            "i\n",
            "i\n",
            "but\n",
            "butt\n",
            "buert\n",
            "biret\n",
            "aSD\n",
            "asd\n",
            "aaa\n",
            "sdf\n",
            "aaa\n",
            "sdf\n",
            ";kljdsf;g\n"
          ]
        }
      ]
    },
    {
      "cell_type": "code",
      "source": [
        "for i in w:\n",
        "  i.sort()\n",
        "  for j in i:\n",
        "    print(j)"
      ],
      "metadata": {
        "colab": {
          "base_uri": "https://localhost:8080/"
        },
        "id": "uhY_OP7bcL7g",
        "outputId": "688e8800-0442-473e-d235-42a8d8574eeb"
      },
      "execution_count": 10,
      "outputs": [
        {
          "output_type": "stream",
          "name": "stdout",
          "text": [
            "i\n",
            "aSD\n",
            "aaa\n",
            "asd\n",
            "but\n",
            "sdf\n",
            "butt\n",
            "biret\n",
            "buert\n",
            ";kljdsf;g\n"
          ]
        }
      ]
    }
  ]
}