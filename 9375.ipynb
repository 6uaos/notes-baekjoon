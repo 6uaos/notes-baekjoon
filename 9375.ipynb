{
  "nbformat": 4,
  "nbformat_minor": 0,
  "metadata": {
    "colab": {
      "provenance": [],
      "authorship_tag": "ABX9TyMLf9o5YLHTscoX1/JsGNmJ",
      "include_colab_link": true
    },
    "kernelspec": {
      "name": "python3",
      "display_name": "Python 3"
    },
    "language_info": {
      "name": "python"
    }
  },
  "cells": [
    {
      "cell_type": "markdown",
      "metadata": {
        "id": "view-in-github",
        "colab_type": "text"
      },
      "source": [
        "<a href=\"https://colab.research.google.com/github/6uaos/notes-baekjoon/blob/main/9375.ipynb\" target=\"_parent\"><img src=\"https://colab.research.google.com/assets/colab-badge.svg\" alt=\"Open In Colab\"/></a>"
      ]
    },
    {
      "cell_type": "code",
      "source": [
        "t = int(input())"
      ],
      "metadata": {
        "colab": {
          "base_uri": "https://localhost:8080/"
        },
        "id": "u4siOgNYbnOT",
        "outputId": "173a68f0-b93b-4d2f-dab6-4727beccf615"
      },
      "execution_count": 1,
      "outputs": [
        {
          "name": "stdout",
          "output_type": "stream",
          "text": [
            "2\n"
          ]
        }
      ]
    },
    {
      "cell_type": "code",
      "source": [
        "for _ in range(t):\n",
        "  n = int(input())\n",
        "\n",
        "  closet = dict()\n",
        "  result = 1\n",
        "  for _ in range(n):\n",
        "    name, category = input().split()\n",
        "    if category in closet:\n",
        "      closet[category].append(name)\n",
        "    else:\n",
        "      closet[category] = [name]\n",
        "\n",
        "  for i in closet:\n",
        "    result *= len(closet[i])+1\n",
        "\n",
        "  print(result-1)"
      ],
      "metadata": {
        "colab": {
          "base_uri": "https://localhost:8080/"
        },
        "id": "IACbhNDRbprZ",
        "outputId": "2bad4da0-3853-4c56-bc4f-91c26d7a7f4f"
      },
      "execution_count": 3,
      "outputs": [
        {
          "output_type": "stream",
          "name": "stdout",
          "text": [
            "3\n",
            "hat headgear\n",
            "sunglasses eyewear\n",
            "turban headgear\n",
            "5\n",
            "3\n",
            "mask face\n",
            "sunglasses face\n",
            "makeup face\n",
            "3\n"
          ]
        }
      ]
    }
  ]
}