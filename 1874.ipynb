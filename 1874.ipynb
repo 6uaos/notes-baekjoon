{
  "nbformat": 4,
  "nbformat_minor": 0,
  "metadata": {
    "colab": {
      "provenance": [],
      "authorship_tag": "ABX9TyNFbCB/iovDNNfMnGx7X95p",
      "include_colab_link": true
    },
    "kernelspec": {
      "name": "python3",
      "display_name": "Python 3"
    },
    "language_info": {
      "name": "python"
    }
  },
  "cells": [
    {
      "cell_type": "markdown",
      "metadata": {
        "id": "view-in-github",
        "colab_type": "text"
      },
      "source": [
        "<a href=\"https://colab.research.google.com/github/uoahy-6uoas/notes-baekjoon/blob/main/1874.ipynb\" target=\"_parent\"><img src=\"https://colab.research.google.com/assets/colab-badge.svg\" alt=\"Open In Colab\"/></a>"
      ]
    },
    {
      "cell_type": "code",
      "source": [
        "n = int(input())\n",
        "lines = []\n",
        "for _ in range(n):\n",
        "  lines.append(int(input()))"
      ],
      "metadata": {
        "colab": {
          "base_uri": "https://localhost:8080/"
        },
        "id": "wfFWKNCmvaCb",
        "outputId": "88e97dec-ba06-4fc5-bdb4-46cea1f5157a"
      },
      "execution_count": 24,
      "outputs": [
        {
          "name": "stdout",
          "output_type": "stream",
          "text": [
            "5\n",
            "1\n",
            "2\n",
            "5\n",
            "3\n",
            "4\n"
          ]
        }
      ]
    },
    {
      "cell_type": "code",
      "source": [
        "inputt = 1\n",
        "target = 0\n",
        "stk = [0]\n",
        "result = []\n",
        "while True:\n",
        "  if stk[-1]==lines[target]:\n",
        "    stk.pop()\n",
        "    if target != n-1:\n",
        "      target+=1\n",
        "    result.append('-')\n",
        "  else:\n",
        "    stk.append(inputt)\n",
        "    inputt+=1\n",
        "    result.append('+')\n",
        "\n",
        "#  print(stk,lines[target])\n",
        "\n",
        "  if stk[-1]==0 and target==n-1:\n",
        "    break\n",
        "  elif inputt>n+1:\n",
        "    result = []\n",
        "    break"
      ],
      "metadata": {
        "colab": {
          "base_uri": "https://localhost:8080/"
        },
        "id": "d_3SzYZe01Bx",
        "outputId": "f6f4dcb7-bc27-4ec6-f56f-c7f721dcc1ab"
      },
      "execution_count": 25,
      "outputs": [
        {
          "output_type": "stream",
          "name": "stdout",
          "text": [
            "[0, 1] 1\n",
            "[0] 2\n",
            "[0, 2] 2\n",
            "[0] 5\n",
            "[0, 3] 5\n",
            "[0, 3, 4] 5\n",
            "[0, 3, 4, 5] 5\n",
            "[0, 3, 4] 3\n",
            "[0, 3, 4, 6] 3\n"
          ]
        }
      ]
    },
    {
      "cell_type": "code",
      "source": [
        "if result:\n",
        "  for i in result:\n",
        "    print(i)\n",
        "else:\n",
        "  print('NO')"
      ],
      "metadata": {
        "colab": {
          "base_uri": "https://localhost:8080/"
        },
        "id": "ftR2vtve1eiv",
        "outputId": "6788525f-7d47-457f-abfb-5336ad6c7193"
      },
      "execution_count": 26,
      "outputs": [
        {
          "output_type": "stream",
          "name": "stdout",
          "text": [
            "NO\n"
          ]
        }
      ]
    }
  ]
}