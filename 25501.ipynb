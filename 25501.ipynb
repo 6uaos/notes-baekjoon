{
  "nbformat": 4,
  "nbformat_minor": 0,
  "metadata": {
    "colab": {
      "provenance": [],
      "authorship_tag": "ABX9TyMMZXj2gknxZ87laRX+bhjS",
      "include_colab_link": true
    },
    "kernelspec": {
      "name": "python3",
      "display_name": "Python 3"
    },
    "language_info": {
      "name": "python"
    }
  },
  "cells": [
    {
      "cell_type": "markdown",
      "metadata": {
        "id": "view-in-github",
        "colab_type": "text"
      },
      "source": [
        "<a href=\"https://colab.research.google.com/github/uoahy-6uoas/notes-baekjoon/blob/main/25501.ipynb\" target=\"_parent\"><img src=\"https://colab.research.google.com/assets/colab-badge.svg\" alt=\"Open In Colab\"/></a>"
      ]
    },
    {
      "cell_type": "code",
      "source": [
        "n = int(input())"
      ],
      "metadata": {
        "colab": {
          "base_uri": "https://localhost:8080/"
        },
        "id": "4OHBZzABHAPV",
        "outputId": "879dafea-8197-4a17-f852-d95481dcba80"
      },
      "execution_count": 125,
      "outputs": [
        {
          "name": "stdout",
          "output_type": "stream",
          "text": [
            "5\n"
          ]
        }
      ]
    },
    {
      "cell_type": "code",
      "source": [
        "def isPalindrome(word,l,r,cnt):\n",
        "  if l >= r:\n",
        "    return 1,cnt\n",
        "  elif word[l] != word[r]:\n",
        "    return 0,cnt\n",
        "  else:\n",
        "    cnt+=1\n",
        "    return isPalindrome(word,l+1,r-1,cnt)"
      ],
      "metadata": {
        "id": "lCxEFUV9KcP7"
      },
      "execution_count": 126,
      "outputs": []
    },
    {
      "cell_type": "code",
      "source": [
        "for _ in range(n):\n",
        "  word = input()\n",
        "  cnt = 1\n",
        "\n",
        "  tmp1 = isPalindrome(word,0,len(word)-1, cnt)[0]\n",
        "  tmp2 = isPalindrome(word,0,len(word)-1, cnt)[1]\n",
        "  print(f'{tmp1} {tmp2}')"
      ],
      "metadata": {
        "colab": {
          "base_uri": "https://localhost:8080/"
        },
        "id": "BZfAelOfNt6y",
        "outputId": "e1ac7038-cffe-4102-a7e4-2adf1fecfd92"
      },
      "execution_count": 127,
      "outputs": [
        {
          "output_type": "stream",
          "name": "stdout",
          "text": [
            "AVVA\n",
            "1 3\n",
            "AAA\n",
            "1 2\n",
            "ASD\n",
            "0 1\n",
            "AAAA\n",
            "1 3\n",
            "asdfasdf\n",
            "0 1\n"
          ]
        }
      ]
    }
  ]
}