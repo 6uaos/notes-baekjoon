{
  "nbformat": 4,
  "nbformat_minor": 0,
  "metadata": {
    "colab": {
      "provenance": [],
      "authorship_tag": "ABX9TyP2FyzNtZ/vN0SLIvo5fTFb",
      "include_colab_link": true
    },
    "kernelspec": {
      "name": "python3",
      "display_name": "Python 3"
    },
    "language_info": {
      "name": "python"
    }
  },
  "cells": [
    {
      "cell_type": "markdown",
      "metadata": {
        "id": "view-in-github",
        "colab_type": "text"
      },
      "source": [
        "<a href=\"https://colab.research.google.com/github/uoahy-6uoas/notes-baekjoon/blob/main/5073.ipynb\" target=\"_parent\"><img src=\"https://colab.research.google.com/assets/colab-badge.svg\" alt=\"Open In Colab\"/></a>"
      ]
    },
    {
      "cell_type": "code",
      "source": [
        "while True:\n",
        "  a,b,c = map(int,input().split())\n",
        "  if a==0 and b==0 and c==0:\n",
        "    break\n",
        "  else:\n",
        "    if a==b and b==c:\n",
        "      print(\"Equilateral\")\n",
        "    elif a+b<=c or a+c<=b or c+b<=a:\n",
        "      print(\"Invalid\")\n",
        "    elif a!=b and b!=c and c!=a:\n",
        "      print(\"Scalene\")\n",
        "    else:\n",
        "      print(\"Isosceles\")"
      ],
      "metadata": {
        "colab": {
          "base_uri": "https://localhost:8080/"
        },
        "id": "fVNea3JqAtQh",
        "outputId": "906e50e1-d736-4dbf-c7fc-d3d318768372"
      },
      "execution_count": 9,
      "outputs": [
        {
          "name": "stdout",
          "output_type": "stream",
          "text": [
            "7 7 7\n",
            "Equilateral\n",
            "6 5 4\n",
            "Scalene\n",
            "3 2 5\n",
            "Scalene\n",
            "0 0 0\n"
          ]
        }
      ]
    },
    {
      "cell_type": "code",
      "source": [],
      "metadata": {
        "id": "3ZSZSgTQDGvs"
      },
      "execution_count": null,
      "outputs": []
    }
  ]
}