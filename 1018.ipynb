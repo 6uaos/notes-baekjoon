{
  "nbformat": 4,
  "nbformat_minor": 0,
  "metadata": {
    "colab": {
      "provenance": [],
      "authorship_tag": "ABX9TyMJT5P3XsNK4wC9hTnx5Sno",
      "include_colab_link": true
    },
    "kernelspec": {
      "name": "python3",
      "display_name": "Python 3"
    },
    "language_info": {
      "name": "python"
    }
  },
  "cells": [
    {
      "cell_type": "markdown",
      "metadata": {
        "id": "view-in-github",
        "colab_type": "text"
      },
      "source": [
        "<a href=\"https://colab.research.google.com/github/uoahy-6uoas/notes-baekjoon/blob/main/1018.ipynb\" target=\"_parent\"><img src=\"https://colab.research.google.com/assets/colab-badge.svg\" alt=\"Open In Colab\"/></a>"
      ]
    },
    {
      "cell_type": "code",
      "source": [
        "n,m = map(int,input().split())\n",
        "board = []\n",
        "for _ in range(n):\n",
        "  board.append(list(input()))"
      ],
      "metadata": {
        "colab": {
          "base_uri": "https://localhost:8080/"
        },
        "id": "0O_YLt_1iRy2",
        "outputId": "dd8f4d99-ad84-4a20-c213-adacd202acd8"
      },
      "execution_count": 66,
      "outputs": [
        {
          "name": "stdout",
          "output_type": "stream",
          "text": [
            "10 13\n",
            "BBBBBBBBWBWBW\n",
            "BBBBBBBBBWBWB\n",
            "BBBBBBBBWBWBW\n",
            "BBBBBBBBBWBWB\n",
            "BBBBBBBBWBWBW\n",
            "BBBBBBBBBWBWB\n",
            "BBBBBBBBWBWBW\n",
            "BBBBBBBBBWBWB\n",
            "WWWWWWWWWWBWB\n",
            "WWWWWWWWWWBWB\n"
          ]
        }
      ]
    },
    {
      "cell_type": "code",
      "source": [
        "mini, m = 64,13\n",
        "b_board = [['B','W','B','W','B','W','B','W'],['W','B','W','B','W','B','W','B'],['B','W','B','W','B','W','B','W'],['W','B','W','B','W','B','W','B'],['B','W','B','W','B','W','B','W'],['W','B','W','B','W','B','W','B'],['B','W','B','W','B','W','B','W'],['W','B','W','B','W','B','W','B']]\n",
        "w_board = [['W','B','W','B','W','B','W','B'],['B','W','B','W','B','W','B','W'],['W','B','W','B','W','B','W','B'],['B','W','B','W','B','W','B','W'],['W','B','W','B','W','B','W','B'],['B','W','B','W','B','W','B','W'],['W','B','W','B','W','B','W','B'],['B','W','B','W','B','W','B','W']]\n",
        "\n",
        "for i in range(n-7):\n",
        "  for j in range(m-7):\n",
        "    answer_b = 0\n",
        "    answer_w = 0\n",
        "    for k in range(i,i+8):\n",
        "      for h in range(j,j+8):\n",
        "        if b_board[k-i][h-j] != board[k][h]:\n",
        "            answer_b += 1\n",
        "        if w_board[k-i][h-j] != board[k][h]:\n",
        "            answer_w += 1\n",
        "    answer = min(answer_b,answer_w)\n",
        "    if answer <= mini:\n",
        "      mini = answer\n",
        "print(mini)"
      ],
      "metadata": {
        "colab": {
          "base_uri": "https://localhost:8080/"
        },
        "id": "jCS6PxAijrtu",
        "outputId": "a0e77f33-2f17-400b-e752-68f089660127"
      },
      "execution_count": 67,
      "outputs": [
        {
          "output_type": "stream",
          "name": "stdout",
          "text": [
            "12\n"
          ]
        }
      ]
    },
    {
      "cell_type": "code",
      "source": [],
      "metadata": {
        "id": "yuw2KztpofgR"
      },
      "execution_count": null,
      "outputs": []
    }
  ]
}