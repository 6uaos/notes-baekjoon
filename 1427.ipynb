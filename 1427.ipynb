{
  "nbformat": 4,
  "nbformat_minor": 0,
  "metadata": {
    "colab": {
      "provenance": [],
      "authorship_tag": "ABX9TyPBv+j2tTyNrjodAXYuK8pp",
      "include_colab_link": true
    },
    "kernelspec": {
      "name": "python3",
      "display_name": "Python 3"
    },
    "language_info": {
      "name": "python"
    }
  },
  "cells": [
    {
      "cell_type": "markdown",
      "metadata": {
        "id": "view-in-github",
        "colab_type": "text"
      },
      "source": [
        "<a href=\"https://colab.research.google.com/github/uoahy-6uoas/notes-baekjoon/blob/main/1427.ipynb\" target=\"_parent\"><img src=\"https://colab.research.google.com/assets/colab-badge.svg\" alt=\"Open In Colab\"/></a>"
      ]
    },
    {
      "cell_type": "code",
      "source": [
        "n = int(input())"
      ],
      "metadata": {
        "colab": {
          "base_uri": "https://localhost:8080/"
        },
        "id": "8CSfQAy3KMIr",
        "outputId": "233d4d4c-bd66-4743-fe1a-bcd1416dbfc6"
      },
      "execution_count": 1,
      "outputs": [
        {
          "name": "stdout",
          "output_type": "stream",
          "text": [
            "324985700\n"
          ]
        }
      ]
    },
    {
      "cell_type": "code",
      "source": [
        "tmp = [0]*10\n",
        "for i in str(n):\n",
        "  tmp[int(i)] += 1\n",
        "result = ''\n",
        "for i in range(len(tmp)-1,-1,-1):\n",
        "  for j in range(tmp[i]):\n",
        "    result+=str(i)\n",
        "print(int(result))"
      ],
      "metadata": {
        "colab": {
          "base_uri": "https://localhost:8080/"
        },
        "id": "FicTGOW8KONt",
        "outputId": "408350a5-1cbe-4e4f-ac96-a7e4026ceebf"
      },
      "execution_count": 6,
      "outputs": [
        {
          "output_type": "stream",
          "name": "stdout",
          "text": [
            "987543200\n"
          ]
        }
      ]
    },
    {
      "cell_type": "code",
      "source": [],
      "metadata": {
        "id": "FK74Kny6Koia"
      },
      "execution_count": null,
      "outputs": []
    }
  ]
}