{
  "nbformat": 4,
  "nbformat_minor": 0,
  "metadata": {
    "colab": {
      "provenance": [],
      "authorship_tag": "ABX9TyN+/0mWzqSBzZJGue9jL2gM",
      "include_colab_link": true
    },
    "kernelspec": {
      "name": "python3",
      "display_name": "Python 3"
    },
    "language_info": {
      "name": "python"
    }
  },
  "cells": [
    {
      "cell_type": "markdown",
      "metadata": {
        "id": "view-in-github",
        "colab_type": "text"
      },
      "source": [
        "<a href=\"https://colab.research.google.com/github/uoahy-6uoas/notes-baekjoon/blob/main/24060.ipynb\" target=\"_parent\"><img src=\"https://colab.research.google.com/assets/colab-badge.svg\" alt=\"Open In Colab\"/></a>"
      ]
    },
    {
      "cell_type": "code",
      "source": [
        "n,k = map(int,input().split())\n",
        "a = list(map(int,input().split()))\n",
        "\n",
        "cnt,result = 0,-1 #->global"
      ],
      "metadata": {
        "colab": {
          "base_uri": "https://localhost:8080/"
        },
        "id": "nBfxKiUb7Qif",
        "outputId": "aa28241a-8040-404c-940a-7138f816e906"
      },
      "execution_count": 86,
      "outputs": [
        {
          "name": "stdout",
          "output_type": "stream",
          "text": [
            "5 7\n",
            "4 5 1 3 2\n"
          ]
        }
      ]
    },
    {
      "cell_type": "code",
      "source": [
        "def merge_sort(a,p,r):\n",
        "  if p < r and cnt != k:\n",
        "    q = (p+r)//2\n",
        "    merge_sort(a,p,q)\n",
        "    merge_sort(a,q+1,r)\n",
        "    merge(a,p,q,r)\n",
        "\n",
        "def merge(a,p,q,r):\n",
        "  i,j = p,q+1\n",
        "  tmp = []\n",
        "  global cnt, result\n",
        "\n",
        "  while i<=q and j<=r:\n",
        "    if a[i]<=a[j]:\n",
        "      tmp.append(a[i])\n",
        "      i+=1\n",
        "    else:\n",
        "      tmp.append(a[j])\n",
        "      j+=1\n",
        "  while i<=q:\n",
        "    tmp.append(a[i])\n",
        "    i+=1\n",
        "  while j<=r:\n",
        "    tmp.append(a[j])\n",
        "    j+=1\n",
        "\n",
        "  i,t=p,0\n",
        "  while i<=r:\n",
        "    a[i] = tmp[t]\n",
        "    cnt+=1\n",
        "    if cnt == k:\n",
        "      result = a[i]\n",
        "      break\n",
        "    i+=1\n",
        "    t+=1"
      ],
      "metadata": {
        "id": "yn2F2d1x7g1n"
      },
      "execution_count": 88,
      "outputs": []
    },
    {
      "cell_type": "code",
      "source": [
        "merge_sort(a,0,n-1)\n",
        "print(result)"
      ],
      "metadata": {
        "colab": {
          "base_uri": "https://localhost:8080/"
        },
        "id": "b-84ztOR7qP6",
        "outputId": "55d60e9c-83f3-4de6-e2be-7c748d3a25b3"
      },
      "execution_count": 89,
      "outputs": [
        {
          "output_type": "stream",
          "name": "stdout",
          "text": [
            "3\n"
          ]
        }
      ]
    }
  ]
}