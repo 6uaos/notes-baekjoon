{
  "nbformat": 4,
  "nbformat_minor": 0,
  "metadata": {
    "colab": {
      "provenance": [],
      "authorship_tag": "ABX9TyOIfwe0R7zjdP5chghUMTF3",
      "include_colab_link": true
    },
    "kernelspec": {
      "name": "python3",
      "display_name": "Python 3"
    },
    "language_info": {
      "name": "python"
    }
  },
  "cells": [
    {
      "cell_type": "markdown",
      "metadata": {
        "id": "view-in-github",
        "colab_type": "text"
      },
      "source": [
        "<a href=\"https://colab.research.google.com/github/uoahy-6uoas/notes-codeforces/blob/main/A_Watermelon.ipynb\" target=\"_parent\"><img src=\"https://colab.research.google.com/assets/colab-badge.svg\" alt=\"Open In Colab\"/></a>"
      ]
    },
    {
      "cell_type": "markdown",
      "source": [
        "One hot summer day Pete and his friend Billy decided to buy a watermelon. They chose the biggest and the ripest one, in their opinion. After that the watermelon was weighed, and the scales showed w kilos. They rushed home, dying of thirst, and decided to divide the berry, however they faced a hard problem.\n",
        "\n",
        "Pete and Billy are great fans of even numbers, that's why they want to divide the watermelon in such a way that each of the two parts weighs even number of kilos, at the same time it is not obligatory that the parts are equal. The boys are extremely tired and want to start their meal as soon as possible, that's why you should help them and find out, if they can divide the watermelon in the way they want. For sure, each of them should get a part of positive weight.\n",
        "\n",
        "Input\n",
        "\n",
        "The first (and the only) input line contains integer number w (1 ≤ w ≤ 100) — the weight of the watermelon bought by the boys.\n",
        "\n",
        "Output\n",
        "\n",
        "Print YES, if the boys can divide the watermelon into two parts, each of them weighing even number of kilos; and NO in the opposite case."
      ],
      "metadata": {
        "id": "zcomw_2k3EGg"
      }
    },
    {
      "cell_type": "markdown",
      "source": [
        "어느 더운 여름날, 피터와 빌리는 수박을 사기로 했다. 그들은 그들이 보기에 가장 크고 가장 익어 보이는 것을 골랐다. 그 후, 수박 무게를 쟀고, 체중게는 w kg이라고 표시했다. 그들은 목말라 죽어가며 집으로 달려갔고 그 과일을 나누기로 했으나 그들은 큰 문제에 봉착한다.\n",
        "\n",
        "피터와 빌리는 짝수의 훌리건들이기 때문에 그들은 수박을 두 개로 쪼개고 싶었는데 그 두 조각은 각각 짝수 kg이어야 하며 항상 두 조각의 무게가 같을 필요는 없게끔 쪼개고 싶었다. 소년들은 매우 지쳤고 빨리 밥을 먹고 싶었기 때문에 당신이 그들을 도와주었으면 하고 그들의 방식대로 수박을 자를 수 있는지 알려주었으면 한다. 당연히 자른 수박 각각의 무게는 양의 무게이다.\n",
        "\n",
        "입력\n",
        "\n",
        "첫 번째 입력 줄에는 소년들이 산 수박의 무게인 정수 w가 주어진다.\n",
        "\n",
        "출력\n",
        "\n",
        "YES를 출력해라 소년들의 방식으로 자를 수 있는 수박이면, 반대의 경우엔 NO를 출력해라"
      ],
      "metadata": {
        "id": "MB6k8WoO3Jyu"
      }
    },
    {
      "cell_type": "code",
      "source": [
        "n = int(input())\n",
        "if n==2 or n%2==1:\n",
        "    print('NO')\n",
        "else:\n",
        "    print('YES')"
      ],
      "metadata": {
        "colab": {
          "base_uri": "https://localhost:8080/"
        },
        "id": "ZJeVgx8b6l24",
        "outputId": "a86ea871-802c-4266-e822-3b4794ddaf66"
      },
      "execution_count": 3,
      "outputs": [
        {
          "output_type": "stream",
          "name": "stdout",
          "text": [
            "8\n",
            "YES\n"
          ]
        }
      ]
    }
  ]
}