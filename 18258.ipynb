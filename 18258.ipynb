{
  "nbformat": 4,
  "nbformat_minor": 0,
  "metadata": {
    "colab": {
      "provenance": [],
      "authorship_tag": "ABX9TyOV2v9RqP88to0v4RP+QDBz",
      "include_colab_link": true
    },
    "kernelspec": {
      "name": "python3",
      "display_name": "Python 3"
    },
    "language_info": {
      "name": "python"
    }
  },
  "cells": [
    {
      "cell_type": "markdown",
      "metadata": {
        "id": "view-in-github",
        "colab_type": "text"
      },
      "source": [
        "<a href=\"https://colab.research.google.com/github/uoahy-6uoas/notes-baekjoon/blob/main/18258.ipynb\" target=\"_parent\"><img src=\"https://colab.research.google.com/assets/colab-badge.svg\" alt=\"Open In Colab\"/></a>"
      ]
    },
    {
      "cell_type": "code",
      "source": [
        "n = int(input())"
      ],
      "metadata": {
        "colab": {
          "base_uri": "https://localhost:8080/"
        },
        "id": "qH11r_qzTYhP",
        "outputId": "5296e461-2989-4402-8a7f-6d84b102b388"
      },
      "execution_count": 1,
      "outputs": [
        {
          "name": "stdout",
          "output_type": "stream",
          "text": [
            "15\n"
          ]
        }
      ]
    },
    {
      "cell_type": "code",
      "source": [
        "class Queue:\n",
        "  def __init__(self):\n",
        "    self.queue = []\n",
        "    self.count = 0\n",
        "\n",
        "  def push(self, x):\n",
        "    self.queue.append(x)\n",
        "\n",
        "  def pop(self) -> int: #새로 queue[1:] 할당하면 시간초과\n",
        "    if len(self.queue) > self.count:\n",
        "      result = self.queue[self.count]\n",
        "      self.count += 1\n",
        "      return result\n",
        "    else:\n",
        "      return -1\n",
        "\n",
        "  def size(self) -> int:\n",
        "    return len(self.queue)-self.count\n",
        "\n",
        "  def empty(self) -> bool:\n",
        "    return len(self.queue)-self.count == 0\n",
        "\n",
        "  def front(self) -> int:\n",
        "    if len(self.queue)-self.count != 0:\n",
        "      return self.queue[self.count]\n",
        "    else:\n",
        "      return -1\n",
        "\n",
        "  def back(self) -> int:\n",
        "    if len(self.queue)-self.count != 0:\n",
        "      return self.queue[-1]\n",
        "    else:\n",
        "      return -1"
      ],
      "metadata": {
        "id": "3IHpUrpVTcbM"
      },
      "execution_count": 34,
      "outputs": []
    },
    {
      "cell_type": "code",
      "source": [
        "queue = Queue()\n",
        "\n",
        "import time\n",
        "\n",
        "for _ in range(n):\n",
        "\n",
        "  command = input().split()\n",
        "\n",
        "  start_time = time.time()\n",
        "\n",
        "  if command[0] == 'push':\n",
        "    x = int(command[1])\n",
        "    queue.push(x)\n",
        "  elif command[0] == 'pop': #0.001\n",
        "    print(queue.pop())\n",
        "  elif command[0] == 'size':\n",
        "    print(queue.size())\n",
        "  elif command[0] == 'empty': #0.001\n",
        "    print(int(queue.empty()))\n",
        "  elif command[0] == 'front':\n",
        "    print(queue.front())\n",
        "  elif command[0] == 'back':\n",
        "    print(queue.back())\n",
        "\n",
        "  end_time = time.time()\n",
        "\n",
        "  print(f'{command[0]} : {end_time-start_time}s')"
      ],
      "metadata": {
        "colab": {
          "base_uri": "https://localhost:8080/"
        },
        "id": "uGiAO-nNU5Bd",
        "outputId": "cbd61dfc-5393-4ec7-f3c7-236e23aef1ce"
      },
      "execution_count": 35,
      "outputs": [
        {
          "output_type": "stream",
          "name": "stdout",
          "text": [
            "push 1\n",
            "push : 7.3909759521484375e-06s\n",
            "push 2\n",
            "push : 7.3909759521484375e-06s\n",
            "push 3\n",
            "push : 9.059906005859375e-06s\n",
            "pop\n",
            "1\n",
            "pop : 0.000797271728515625s\n",
            "pop\n",
            "2\n",
            "pop : 0.0007877349853515625s\n",
            "pop\n",
            "3\n",
            "pop : 0.0004935264587402344s\n",
            "pop\n",
            "-1\n",
            "pop : 0.0009136199951171875s\n",
            "pop\n",
            "-1\n",
            "pop : 0.0012335777282714844s\n",
            "pop\n",
            "-1\n",
            "pop : 0.0011553764343261719s\n",
            "push 2\n",
            "push : 8.106231689453125e-06s\n",
            "pop\n",
            "2\n",
            "pop : 0.0011241436004638672s\n",
            "push 54\n",
            "push : 9.298324584960938e-06s\n",
            "pop\n",
            "54\n",
            "pop : 0.0009808540344238281s\n",
            "pus h1\n",
            "pus : 4.5299530029296875e-06s\n",
            "empty\n",
            "1\n",
            "empty : 0.00014925003051757812s\n"
          ]
        }
      ]
    }
  ]
}