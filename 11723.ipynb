{
  "nbformat": 4,
  "nbformat_minor": 0,
  "metadata": {
    "colab": {
      "provenance": [],
      "authorship_tag": "ABX9TyOtZvaDb8JPFPoBUH0vt4zu",
      "include_colab_link": true
    },
    "kernelspec": {
      "name": "python3",
      "display_name": "Python 3"
    },
    "language_info": {
      "name": "python"
    }
  },
  "cells": [
    {
      "cell_type": "markdown",
      "metadata": {
        "id": "view-in-github",
        "colab_type": "text"
      },
      "source": [
        "<a href=\"https://colab.research.google.com/github/6uaos/notes-baekjoon/blob/main/11723.ipynb\" target=\"_parent\"><img src=\"https://colab.research.google.com/assets/colab-badge.svg\" alt=\"Open In Colab\"/></a>"
      ]
    },
    {
      "cell_type": "code",
      "source": [
        "m = int(input())\n",
        "s = set()"
      ],
      "metadata": {
        "colab": {
          "base_uri": "https://localhost:8080/"
        },
        "id": "L8U0GjL7eOuT",
        "outputId": "d4256f83-869e-4041-bc48-623114f8bf4b"
      },
      "execution_count": 44,
      "outputs": [
        {
          "name": "stdout",
          "output_type": "stream",
          "text": [
            "5\n"
          ]
        }
      ]
    },
    {
      "cell_type": "code",
      "source": [
        "for _ in range(m):\n",
        "  command = list(map(str,input().split()))\n",
        "\n",
        "  if command[0] == 'add':\n",
        "    s.add(int(command[1]))\n",
        "  elif command[0] == 'remove':\n",
        "    s.discard(int(command[1]))\n",
        "  elif command[0] == 'check':\n",
        "    if int(command[1]) in s: print(1)\n",
        "    else: print(0)\n",
        "  elif command[0] == 'toggle':\n",
        "    if command[1] in s: s.remove(command[1])\n",
        "    else: s.add(command[1])\n",
        "  elif int(command[0]) == 'all':\n",
        "    s = set(range(1,21))\n",
        "  elif command[0] == 'empty':\n",
        "    s.clear()\n",
        "\n",
        "  print(s)\n",
        "  #ㄱㅊ"
      ],
      "metadata": {
        "colab": {
          "base_uri": "https://localhost:8080/"
        },
        "id": "BYIO__UmeR70",
        "outputId": "99652a53-c83c-43d3-f1e2-353306b11b35"
      },
      "execution_count": 45,
      "outputs": [
        {
          "output_type": "stream",
          "name": "stdout",
          "text": [
            "add 1\n",
            "{1}\n",
            "add 2\n",
            "{1, 2}\n",
            "check 1\n",
            "1\n",
            "{1, 2}\n",
            "check 2\n",
            "1\n",
            "{1, 2}\n",
            "check 3\n",
            "0\n",
            "{1, 2}\n"
          ]
        }
      ]
    }
  ]
}