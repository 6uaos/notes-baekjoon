{
  "nbformat": 4,
  "nbformat_minor": 0,
  "metadata": {
    "colab": {
      "provenance": [],
      "authorship_tag": "ABX9TyMR9ThHFufuJMXJPubB5xAQ",
      "include_colab_link": true
    },
    "kernelspec": {
      "name": "python3",
      "display_name": "Python 3"
    },
    "language_info": {
      "name": "python"
    }
  },
  "cells": [
    {
      "cell_type": "markdown",
      "metadata": {
        "id": "view-in-github",
        "colab_type": "text"
      },
      "source": [
        "<a href=\"https://colab.research.google.com/github/uoahy-6uoas/notes-baekjoon/blob/main/2775.ipynb\" target=\"_parent\"><img src=\"https://colab.research.google.com/assets/colab-badge.svg\" alt=\"Open In Colab\"/></a>"
      ]
    },
    {
      "cell_type": "code",
      "source": [
        "t = int(input())"
      ],
      "metadata": {
        "colab": {
          "base_uri": "https://localhost:8080/"
        },
        "id": "dQTI8L5JnCMZ",
        "outputId": "be2bede3-f0e2-44e5-cc33-64a27dd2a619"
      },
      "execution_count": 9,
      "outputs": [
        {
          "name": "stdout",
          "output_type": "stream",
          "text": [
            "2\n"
          ]
        }
      ]
    },
    {
      "cell_type": "code",
      "source": [
        "for _ in range(t):\n",
        "  k = int(input()) #k층\n",
        "  n = int(input()) #n호\n",
        "\n",
        "  result = []\n",
        "\n",
        "  for i in range(1,n+1):\n",
        "    result.append(i)\n",
        "\n",
        "  for _ in range(k):\n",
        "    tmp = []\n",
        "    for i in range(n):\n",
        "      tmp.append(sum(result[:i+1]))\n",
        "    result = tmp\n",
        "\n",
        "  print(result[-1])"
      ],
      "metadata": {
        "colab": {
          "base_uri": "https://localhost:8080/"
        },
        "id": "ziXc5Xm9nDLe",
        "outputId": "f2494a32-4f57-4730-f4f3-1a972c2ec1dc"
      },
      "execution_count": 24,
      "outputs": [
        {
          "output_type": "stream",
          "name": "stdout",
          "text": [
            "1\n",
            "3\n",
            "6\n",
            "2\n",
            "3\n",
            "10\n"
          ]
        }
      ]
    }
  ]
}