{
  "nbformat": 4,
  "nbformat_minor": 0,
  "metadata": {
    "colab": {
      "provenance": [],
      "authorship_tag": "ABX9TyPLM0ZEzXwDh9Oe5914Esp0",
      "include_colab_link": true
    },
    "kernelspec": {
      "name": "python3",
      "display_name": "Python 3"
    },
    "language_info": {
      "name": "python"
    }
  },
  "cells": [
    {
      "cell_type": "markdown",
      "metadata": {
        "id": "view-in-github",
        "colab_type": "text"
      },
      "source": [
        "<a href=\"https://colab.research.google.com/github/uoahy-6uoas/notes-baekjoon/blob/main/9012.ipynb\" target=\"_parent\"><img src=\"https://colab.research.google.com/assets/colab-badge.svg\" alt=\"Open In Colab\"/></a>"
      ]
    },
    {
      "cell_type": "code",
      "source": [
        "t = int(input())\n",
        "\n",
        "for _ in range(t):\n",
        "  ps = input()\n",
        "\n",
        "  result = 0\n",
        "  flag = False\n",
        "\n",
        "  for i in ps:\n",
        "    if i == '(':\n",
        "      result += 1\n",
        "    else:\n",
        "      result -= 1\n",
        "\n",
        "    if result < 0:\n",
        "      print('NO')\n",
        "      flag = True\n",
        "      break\n",
        "    else:\n",
        "      pass\n",
        "  if result == 0 :\n",
        "    print('YES')\n",
        "  else:\n",
        "    if flag:\n",
        "      pass\n",
        "    else:\n",
        "      print('NO')"
      ],
      "metadata": {
        "colab": {
          "base_uri": "https://localhost:8080/"
        },
        "id": "gmrrfrC7W1S6",
        "outputId": "4dcfa60d-4c80-4240-9f20-bc2e3111974f"
      },
      "execution_count": 10,
      "outputs": [
        {
          "output_type": "stream",
          "name": "stdout",
          "text": [
            "1\n",
            "(())())\n",
            "NO\n"
          ]
        }
      ]
    }
  ]
}