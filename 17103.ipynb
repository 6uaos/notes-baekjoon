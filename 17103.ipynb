{
  "nbformat": 4,
  "nbformat_minor": 0,
  "metadata": {
    "colab": {
      "provenance": [],
      "authorship_tag": "ABX9TyP/DGnyg9X3NgXnj/s/IM5A",
      "include_colab_link": true
    },
    "kernelspec": {
      "name": "python3",
      "display_name": "Python 3"
    },
    "language_info": {
      "name": "python"
    }
  },
  "cells": [
    {
      "cell_type": "markdown",
      "metadata": {
        "id": "view-in-github",
        "colab_type": "text"
      },
      "source": [
        "<a href=\"https://colab.research.google.com/github/uoahy-6uoas/notes-baekjoon/blob/main/17103.ipynb\" target=\"_parent\"><img src=\"https://colab.research.google.com/assets/colab-badge.svg\" alt=\"Open In Colab\"/></a>"
      ]
    },
    {
      "cell_type": "code",
      "source": [
        "import time\n",
        "\n",
        "ti = time.time()\n",
        "def prime(n):\n",
        "  result = [False]*2 + [True]*(n-2) #1,0보단 논리 연산자가 더 빠름\n",
        "  m = int(n**0.5)+1 #for문 밖으로 연산 빼는 건 큰 차이 없을 듯..?\n",
        "  for i in range(2,m):\n",
        "    if result[i]: #0이면 이미 i 배수는 처리됨\n",
        "      for j in range(2*i,n,i): #i배수보단 i간격이 훨씬 빠름..\n",
        "        result[j]=False\n",
        "  return result\n",
        "result = prime(1000000) #함수로 만들어서 호출하면 더 빨라짐..\n",
        "#시간초과\n",
        "tf = time.time()\n",
        "print(tf-ti)"
      ],
      "metadata": {
        "colab": {
          "base_uri": "https://localhost:8080/"
        },
        "id": "frIWcGWDa8Lz",
        "outputId": "3ee3ee5e-ca75-45a6-e316-b813c13b0532"
      },
      "execution_count": 16,
      "outputs": [
        {
          "output_type": "stream",
          "name": "stdout",
          "text": [
            "0.15407466888427734\n"
          ]
        }
      ]
    },
    {
      "cell_type": "code",
      "source": [
        "t = int(input())\n",
        "for _ in range(t):\n",
        "  answer = 0\n",
        "  tmp = int(input())\n",
        "  for i in range(2,tmp//2+1):\n",
        "    if result[i] and result[tmp-i]: #논리연산이 훨씬 빠름22\n",
        "      answer+=1\n",
        "  print(answer)"
      ],
      "metadata": {
        "colab": {
          "base_uri": "https://localhost:8080/"
        },
        "id": "XYWSba3siRpt",
        "outputId": "bdabeb09-d02a-43e9-ddeb-6631f5064c2a"
      },
      "execution_count": 17,
      "outputs": [
        {
          "output_type": "stream",
          "name": "stdout",
          "text": [
            "4\n",
            "4\n",
            "1\n",
            "5\n",
            "1\n",
            "10\n",
            "2\n",
            "8\n",
            "1\n"
          ]
        }
      ]
    }
  ]
}