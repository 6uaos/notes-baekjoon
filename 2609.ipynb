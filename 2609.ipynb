{
  "nbformat": 4,
  "nbformat_minor": 0,
  "metadata": {
    "colab": {
      "provenance": [],
      "authorship_tag": "ABX9TyMNUCtyu1hxMI+OtortFCqA",
      "include_colab_link": true
    },
    "kernelspec": {
      "name": "python3",
      "display_name": "Python 3"
    },
    "language_info": {
      "name": "python"
    }
  },
  "cells": [
    {
      "cell_type": "markdown",
      "metadata": {
        "id": "view-in-github",
        "colab_type": "text"
      },
      "source": [
        "<a href=\"https://colab.research.google.com/github/uoahy-6uoas/notes-baekjoon/blob/main/2609.ipynb\" target=\"_parent\"><img src=\"https://colab.research.google.com/assets/colab-badge.svg\" alt=\"Open In Colab\"/></a>"
      ]
    },
    {
      "cell_type": "code",
      "source": [
        "a,b = map(int,input().split())"
      ],
      "metadata": {
        "colab": {
          "base_uri": "https://localhost:8080/"
        },
        "id": "OWmNVRQueZtj",
        "outputId": "237704d1-8ea3-4d58-d592-aa6bdc6e1e9a"
      },
      "execution_count": 4,
      "outputs": [
        {
          "name": "stdout",
          "output_type": "stream",
          "text": [
            "24 18\n"
          ]
        }
      ]
    },
    {
      "cell_type": "code",
      "source": [
        "gcf,lcm = 1,1 #최대공약수, 최소공배수\n",
        "\n",
        "for i in range(min(a,b),1,-1):\n",
        "  if a%i==0 and b%i==0:\n",
        "    gcf = i\n",
        "    break\n",
        "\n",
        "lcm = gcf * (a//gcf) * (b//gcf)\n",
        "\n",
        "print(gcf)\n",
        "print(lcm)"
      ],
      "metadata": {
        "colab": {
          "base_uri": "https://localhost:8080/"
        },
        "id": "moNXW16zedbD",
        "outputId": "c6316511-6154-4614-e271-886d44ba9d35"
      },
      "execution_count": 5,
      "outputs": [
        {
          "output_type": "stream",
          "name": "stdout",
          "text": [
            "6\n",
            "72\n"
          ]
        }
      ]
    }
  ]
}