{
  "nbformat": 4,
  "nbformat_minor": 0,
  "metadata": {
    "colab": {
      "provenance": [],
      "authorship_tag": "ABX9TyOk3lk6wHK/SN4Z+Nj1dSOt",
      "include_colab_link": true
    },
    "kernelspec": {
      "name": "python3",
      "display_name": "Python 3"
    },
    "language_info": {
      "name": "python"
    }
  },
  "cells": [
    {
      "cell_type": "markdown",
      "metadata": {
        "id": "view-in-github",
        "colab_type": "text"
      },
      "source": [
        "<a href=\"https://colab.research.google.com/github/uoahy-6uoas/notes-baekjoon/blob/main/2869.ipynb\" target=\"_parent\"><img src=\"https://colab.research.google.com/assets/colab-badge.svg\" alt=\"Open In Colab\"/></a>"
      ]
    },
    {
      "cell_type": "code",
      "source": [
        "a,b,v = map(int,input().split())\n",
        "#a올라감 b내려감 v높이"
      ],
      "metadata": {
        "colab": {
          "base_uri": "https://localhost:8080/"
        },
        "id": "kZauC2hYSKzT",
        "outputId": "fd214289-a152-4fab-8e36-2f88c5dec45e"
      },
      "execution_count": 59,
      "outputs": [
        {
          "name": "stdout",
          "output_type": "stream",
          "text": [
            "100 99 1000000000\n"
          ]
        }
      ]
    },
    {
      "cell_type": "code",
      "source": [
        "tmp = (v-b)/(a-b)\n",
        "if tmp==int(tmp):\n",
        "    print(int(tmp))\n",
        "else:\n",
        "    print(int(tmp)+1)"
      ],
      "metadata": {
        "colab": {
          "base_uri": "https://localhost:8080/"
        },
        "id": "Xnvk_TMRSbz3",
        "outputId": "da4ceb33-6355-4225-d876-5b3453d80547"
      },
      "execution_count": 60,
      "outputs": [
        {
          "output_type": "stream",
          "name": "stdout",
          "text": [
            "999999901\n"
          ]
        }
      ]
    }
  ]
}