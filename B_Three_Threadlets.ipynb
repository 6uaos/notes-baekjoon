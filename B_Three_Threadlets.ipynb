{
  "nbformat": 4,
  "nbformat_minor": 0,
  "metadata": {
    "colab": {
      "provenance": [],
      "authorship_tag": "ABX9TyPaEo4HrIVuXx/xjl+DgWqj",
      "include_colab_link": true
    },
    "kernelspec": {
      "name": "python3",
      "display_name": "Python 3"
    },
    "language_info": {
      "name": "python"
    }
  },
  "cells": [
    {
      "cell_type": "markdown",
      "metadata": {
        "id": "view-in-github",
        "colab_type": "text"
      },
      "source": [
        "<a href=\"https://colab.research.google.com/github/uoahy-6uoas/notes-codeforces/blob/main/B_Three_Threadlets.ipynb\" target=\"_parent\"><img src=\"https://colab.research.google.com/assets/colab-badge.svg\" alt=\"Open In Colab\"/></a>"
      ]
    },
    {
      "cell_type": "markdown",
      "source": [
        "Once upon a time, bartender Decim found three threadlets and a pair of scissors.\n",
        "\n",
        "In one operation, Decim chooses any threadlet and cuts it into two threadlets, whose lengths are positive integers and their sum is equal to the length of the threadlet being cut.\n",
        "\n",
        "For example, he can cut a threadlet of length 5\n",
        " into threadlets of lengths 2\n",
        " and 3\n",
        ", but he cannot cut it into threadlets of lengths 2.5\n",
        " and 2.5\n",
        ", or lengths 0\n",
        " and 5\n",
        ", or lengths 3\n",
        " and 4\n",
        ".\n",
        "\n",
        "Decim can perform at most three operations. He is allowed to cut the threadlets obtained from previous cuts. Will he be able to make all the threadlets of equal length?\n",
        "\n",
        "---\n",
        "\n",
        "Input\n",
        "\n",
        "The first line contains an integer t\n",
        " (1≤t≤104\n",
        ") — the number of test cases. Then follows the description of each test case.\n",
        "\n",
        "In a single line of each test case, there are three integers a\n",
        ", b\n",
        ", c\n",
        " (1≤a,b,c≤109\n",
        ") — the lengths of the threadlets.\n",
        "\n",
        "---\n",
        "\n",
        "Output\n",
        "\n",
        "For each test case, output \"YES\" if it is possible to make all the threadlets of equal length by performing at most three operations, otherwise output \"NO\".\n",
        "\n",
        "You can output \"YES\" and \"NO\" in any case (for example, the strings \"yEs\", \"yes\", \"Yes\", and \"YES\" will be recognized as a positive answer)."
      ],
      "metadata": {
        "id": "BrQ7Zp3w6KsS"
      }
    },
    {
      "cell_type": "code",
      "source": [
        "def euclidean(a,b):\n",
        "  if a%b==0:\n",
        "    return b\n",
        "  else:\n",
        "    return euclidean(b,a%b)\n",
        "\n",
        "t = int(input())\n",
        "\n",
        "for _ in range(t):\n",
        "  a,b,c = map(int,input().split())\n",
        "  count,gcd = 0,1\n",
        "\n",
        "  #gcd fast\n",
        "  gcd = euclidean(a,b)\n",
        "  gcd = euclidean(gcd,c)\n",
        "\n",
        "  tmp,flag = 0, True\n",
        "  for i in [a,b,c]:\n",
        "    if i != gcd:\n",
        "      tmp += ((i//gcd)-1)\n",
        "      if tmp > 3:\n",
        "        flag = False\n",
        "        break\n",
        "\n",
        "  if flag:\n",
        "    print('YES')\n",
        "  else:\n",
        "    print('NO')"
      ],
      "metadata": {
        "colab": {
          "base_uri": "https://localhost:8080/"
        },
        "id": "SOq8-mBR6xeQ",
        "outputId": "495941c7-fe0f-4688-e210-5af9f223454e"
      },
      "execution_count": 30,
      "outputs": [
        {
          "output_type": "stream",
          "name": "stdout",
          "text": [
            "1\n",
            "366915360 910906117 615347366\n",
            "NO\n"
          ]
        }
      ]
    }
  ]
}