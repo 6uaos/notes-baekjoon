{
  "nbformat": 4,
  "nbformat_minor": 0,
  "metadata": {
    "colab": {
      "provenance": [],
      "authorship_tag": "ABX9TyODoUEGP1GybLAWTFc1+ivM",
      "include_colab_link": true
    },
    "kernelspec": {
      "name": "python3",
      "display_name": "Python 3"
    },
    "language_info": {
      "name": "python"
    }
  },
  "cells": [
    {
      "cell_type": "markdown",
      "metadata": {
        "id": "view-in-github",
        "colab_type": "text"
      },
      "source": [
        "<a href=\"https://colab.research.google.com/github/uoahy-6uoas/notes-baekjoon/blob/main/24511.ipynb\" target=\"_parent\"><img src=\"https://colab.research.google.com/assets/colab-badge.svg\" alt=\"Open In Colab\"/></a>"
      ]
    },
    {
      "cell_type": "code",
      "source": [
        "#??????????? 문제 설명이 난해..\n",
        "\n",
        "n = int(input())\n",
        "#0=q / 1=stk\n",
        "na = list(map(int,input().split()))\n",
        "nb = list(map(int,input().split()))\n",
        "\n",
        "m = int(input())\n",
        "mc = list(map(int,input().split()))"
      ],
      "metadata": {
        "colab": {
          "base_uri": "https://localhost:8080/"
        },
        "id": "wOO786SUub9u",
        "outputId": "3c18e6ab-10b2-4f97-e07e-1a3ea7e4ce59"
      },
      "execution_count": 66,
      "outputs": [
        {
          "name": "stdout",
          "output_type": "stream",
          "text": [
            "4\n",
            "0 1 1 0\n",
            "1 2 3 4\n",
            "3\n",
            "2 4 7\n"
          ]
        }
      ]
    },
    {
      "cell_type": "code",
      "source": [
        "from collections import deque\n",
        "result = deque([])\n",
        "\n",
        "for i in range(n):\n",
        "  if na[i]==0: result.append(nb[i])\n",
        "for i in range(m):\n",
        "  result.appendleft(mc[i])\n",
        "  print(result.pop(),end=' ')"
      ],
      "metadata": {
        "colab": {
          "base_uri": "https://localhost:8080/"
        },
        "id": "zAIo-MwO5KFI",
        "outputId": "a0c3dbc3-c2c1-4663-fd52-a8723fde48af"
      },
      "execution_count": 68,
      "outputs": [
        {
          "output_type": "stream",
          "name": "stdout",
          "text": [
            "4 1 2 "
          ]
        }
      ]
    },
    {
      "cell_type": "code",
      "source": [
        "'''\n",
        "시간초과\n",
        "from collections import deque\n",
        "\n",
        "def queuestack(x,nb,na,n):\n",
        "  result = [None] * n\n",
        "  for i in range(n):\n",
        "    if na[i]==0:\n",
        "      result[i] = x\n",
        "    else:\n",
        "      result[i] = nb[i]\n",
        "  return x, result\n",
        "\n",
        "result = []\n",
        "for x in mc:\n",
        "  tmp,nb = queuestack(x,nb,na,n)\n",
        "  result.append(tmp)\n",
        "print(' '.join(map(str,result)))\n",
        "'''"
      ],
      "metadata": {
        "id": "T5sjHRZlyXEn"
      },
      "execution_count": 62,
      "outputs": []
    }
  ]
}