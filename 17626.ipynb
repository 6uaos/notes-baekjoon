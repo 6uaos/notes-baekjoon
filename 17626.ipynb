{
  "nbformat": 4,
  "nbformat_minor": 0,
  "metadata": {
    "colab": {
      "provenance": [],
      "authorship_tag": "ABX9TyOfa1iv1yuu341uvXTQUZKd",
      "include_colab_link": true
    },
    "kernelspec": {
      "name": "python3",
      "display_name": "Python 3"
    },
    "language_info": {
      "name": "python"
    }
  },
  "cells": [
    {
      "cell_type": "markdown",
      "metadata": {
        "id": "view-in-github",
        "colab_type": "text"
      },
      "source": [
        "<a href=\"https://colab.research.google.com/github/6uoas/Programming-Judge-Solution/blob/main/17626.ipynb\" target=\"_parent\"><img src=\"https://colab.research.google.com/assets/colab-badge.svg\" alt=\"Open In Colab\"/></a>"
      ]
    },
    {
      "cell_type": "code",
      "source": [
        "n = int(input())"
      ],
      "metadata": {
        "colab": {
          "base_uri": "https://localhost:8080/"
        },
        "id": "VbbhmXSNkCZe",
        "outputId": "96be1637-dc1e-4e79-9609-649d4d2a3b60"
      },
      "execution_count": 10,
      "outputs": [
        {
          "name": "stdout",
          "output_type": "stream",
          "text": [
            "26\n"
          ]
        }
      ]
    },
    {
      "cell_type": "code",
      "source": [
        "result = [0,1]\n",
        "for i in range(2,n+1):\n",
        "  minn = float('inf')\n",
        "  for j in range(1,int(i**(0.5))+1):\n",
        "    if result[i-j**2] < minn:\n",
        "      minn = result[i-j**2]\n",
        "  result.append(minn+1)\n",
        "\n",
        "print(result[n])\n",
        "# only pypy3 not python3"
      ],
      "metadata": {
        "colab": {
          "base_uri": "https://localhost:8080/"
        },
        "id": "qJLyEbXIl39Y",
        "outputId": "58b715e7-2b2e-4fd2-ba34-2e8c77345034"
      },
      "execution_count": 12,
      "outputs": [
        {
          "output_type": "stream",
          "name": "stdout",
          "text": [
            "2\n"
          ]
        }
      ]
    }
  ]
}