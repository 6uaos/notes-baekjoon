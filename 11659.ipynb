{
  "nbformat": 4,
  "nbformat_minor": 0,
  "metadata": {
    "colab": {
      "provenance": [],
      "authorship_tag": "ABX9TyPkmByDGubpTTTgkjY66NBf",
      "include_colab_link": true
    },
    "kernelspec": {
      "name": "python3",
      "display_name": "Python 3"
    },
    "language_info": {
      "name": "python"
    }
  },
  "cells": [
    {
      "cell_type": "markdown",
      "metadata": {
        "id": "view-in-github",
        "colab_type": "text"
      },
      "source": [
        "<a href=\"https://colab.research.google.com/github/6uoas/Programming-Judge-Solution/blob/main/11659.ipynb\" target=\"_parent\"><img src=\"https://colab.research.google.com/assets/colab-badge.svg\" alt=\"Open In Colab\"/></a>"
      ]
    },
    {
      "cell_type": "code",
      "source": [
        "n,m = map(int,input().split())\n",
        "n_list = list(map(int,input().split()))\n",
        "\n",
        "result = [0]\n",
        "summ = 0\n",
        "for i in range(len(n_list)):\n",
        "  summ += n_list[i]\n",
        "  result.append(summ)\n",
        "\n",
        "for _ in range(m):\n",
        "  i,j = map(int,input().split())\n",
        "  print(result[j]-result[i-1])"
      ],
      "metadata": {
        "colab": {
          "base_uri": "https://localhost:8080/"
        },
        "id": "VbbhmXSNkCZe",
        "outputId": "71ec05c6-8fee-4a8b-e03b-132851fc7c5a"
      },
      "execution_count": 3,
      "outputs": [
        {
          "output_type": "stream",
          "name": "stdout",
          "text": [
            "5 3\n",
            "5 4 3 2 1\n",
            "1 3\n",
            "12\n",
            "2 4\n",
            "9\n",
            "5 5\n",
            "1\n"
          ]
        }
      ]
    }
  ]
}