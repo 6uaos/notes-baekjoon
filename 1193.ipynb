{
  "nbformat": 4,
  "nbformat_minor": 0,
  "metadata": {
    "colab": {
      "provenance": [],
      "authorship_tag": "ABX9TyPhmihD8p60a0dkqykGCO1f",
      "include_colab_link": true
    },
    "kernelspec": {
      "name": "python3",
      "display_name": "Python 3"
    },
    "language_info": {
      "name": "python"
    }
  },
  "cells": [
    {
      "cell_type": "markdown",
      "metadata": {
        "id": "view-in-github",
        "colab_type": "text"
      },
      "source": [
        "<a href=\"https://colab.research.google.com/github/uoahy-6uoas/notes-baekjoon/blob/main/1193.ipynb\" target=\"_parent\"><img src=\"https://colab.research.google.com/assets/colab-badge.svg\" alt=\"Open In Colab\"/></a>"
      ]
    },
    {
      "cell_type": "code",
      "source": [
        "n = int(input())"
      ],
      "metadata": {
        "colab": {
          "base_uri": "https://localhost:8080/"
        },
        "id": "r0QJHGhh92Vi",
        "outputId": "657d62f8-e46a-47d8-a647-bbdc950c5978"
      },
      "execution_count": 1,
      "outputs": [
        {
          "name": "stdout",
          "output_type": "stream",
          "text": [
            "100000\n"
          ]
        }
      ]
    },
    {
      "cell_type": "code",
      "source": [
        "# 시간초과발생.. O(n)\n",
        "import time\n",
        "i = time.time()\n",
        "x,y,flag=1,1,'+'\n",
        "for _ in range(n-1):\n",
        "  if x==1 and flag=='+':\n",
        "    y+=1\n",
        "    flag='-'\n",
        "  elif y==1 and flag=='-':\n",
        "    x+=1\n",
        "    flag='+'\n",
        "  elif flag=='-':\n",
        "    x+=1\n",
        "    y-=1\n",
        "  elif flag=='+':\n",
        "    x-=1\n",
        "    y+=1\n",
        "f = time.time()\n",
        "print(f-i)\n",
        "print(f\"{x}/{y}\")"
      ],
      "metadata": {
        "colab": {
          "base_uri": "https://localhost:8080/"
        },
        "id": "FqvhquvL99DX",
        "outputId": "83993d5f-50c8-45f5-c516-fb5b1ad44e7f"
      },
      "execution_count": 4,
      "outputs": [
        {
          "output_type": "stream",
          "name": "stdout",
          "text": [
            "0.13320255279541016\n",
            "129/319\n"
          ]
        }
      ]
    },
    {
      "cell_type": "code",
      "source": [
        "ti = time.time()\n",
        "i=1\n",
        "while i*(i+1)//2 < n:\n",
        "  i+=1\n",
        "if (i-1)%2==0:\n",
        "  x = i-(n-(i*(i-1)//2)-1)\n",
        "  y = 1 + (n-(i*(i-1)//2)-1)\n",
        "else:\n",
        "  y = i-(n-(i*(i-1)//2)-1)\n",
        "  x = 1 + (n-(i*(i-1)//2)-1)\n",
        "print(f\"{x}/{y}\")\n",
        "tf = time.time()\n",
        "print(tf-ti)\n",
        "#규칙 수식화해서 때려박는 방법.. O(n^{1/2})"
      ],
      "metadata": {
        "colab": {
          "base_uri": "https://localhost:8080/"
        },
        "id": "9Rcxd-Ue-xoV",
        "outputId": "33a70aac-64e1-43d4-faac-c4b9d3a91774"
      },
      "execution_count": 5,
      "outputs": [
        {
          "output_type": "stream",
          "name": "stdout",
          "text": [
            "129/319\n",
            "0.001997232437133789\n"
          ]
        }
      ]
    },
    {
      "cell_type": "code",
      "source": [],
      "metadata": {
        "id": "5RfacbbYN0cz"
      },
      "execution_count": null,
      "outputs": []
    }
  ]
}