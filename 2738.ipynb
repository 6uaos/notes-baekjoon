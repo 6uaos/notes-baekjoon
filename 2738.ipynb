{
  "nbformat": 4,
  "nbformat_minor": 0,
  "metadata": {
    "colab": {
      "provenance": [],
      "authorship_tag": "ABX9TyM9Y4XtlREzMRNSaCYZ9lQO",
      "include_colab_link": true
    },
    "kernelspec": {
      "name": "python3",
      "display_name": "Python 3"
    },
    "language_info": {
      "name": "python"
    }
  },
  "cells": [
    {
      "cell_type": "markdown",
      "metadata": {
        "id": "view-in-github",
        "colab_type": "text"
      },
      "source": [
        "<a href=\"https://colab.research.google.com/github/uoahy-6uoas/notes-baekjoon/blob/main/2738.ipynb\" target=\"_parent\"><img src=\"https://colab.research.google.com/assets/colab-badge.svg\" alt=\"Open In Colab\"/></a>"
      ]
    },
    {
      "cell_type": "code",
      "source": [
        "n,m = map(int,input().split())\n",
        "a,b = list(),list()\n",
        "for _ in range(n):\n",
        "  a.append(list(map(int,input().split())))\n",
        "for _ in range(n):\n",
        "  b.append(list(map(int,input().split())))"
      ],
      "metadata": {
        "colab": {
          "base_uri": "https://localhost:8080/"
        },
        "id": "15LYAIvanxTu",
        "outputId": "8347158e-3166-46cc-ded3-7d9c25d3e0ed"
      },
      "execution_count": 23,
      "outputs": [
        {
          "name": "stdout",
          "output_type": "stream",
          "text": [
            "3 4\n",
            "35 7 5 3\n",
            "3 7 4 2\n",
            "2 654 36 2\n",
            "2 5 4 6\n",
            "346 16 7 4\n",
            "45 8 5 4\n"
          ]
        }
      ]
    },
    {
      "cell_type": "code",
      "source": [
        "def sum_matrix(a,b,n,m) -> list:\n",
        "  result = list()\n",
        "  for i in range(n):\n",
        "    tmp = []\n",
        "    for j in range(m):\n",
        "      tmp.append(str(a[i][j]+b[i][j]))\n",
        "    result.append(tmp)\n",
        "  return result"
      ],
      "metadata": {
        "id": "-qDhNGucpC4h"
      },
      "execution_count": 24,
      "outputs": []
    },
    {
      "cell_type": "code",
      "source": [
        "for i in sum_matrix(a,b,n,m):\n",
        "  print(' '.join(i))"
      ],
      "metadata": {
        "colab": {
          "base_uri": "https://localhost:8080/"
        },
        "id": "JT7W5nELp5kg",
        "outputId": "1947507e-7bf4-459b-e2b5-358a2eca4e7e"
      },
      "execution_count": 25,
      "outputs": [
        {
          "output_type": "stream",
          "name": "stdout",
          "text": [
            "37 12 9 9\n",
            "349 23 11 6\n",
            "47 662 41 6\n"
          ]
        }
      ]
    }
  ]
}