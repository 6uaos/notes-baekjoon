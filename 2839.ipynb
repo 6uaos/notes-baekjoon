{
  "nbformat": 4,
  "nbformat_minor": 0,
  "metadata": {
    "colab": {
      "provenance": [],
      "authorship_tag": "ABX9TyMoUQ/++IPDXeEZHEhtuaHb",
      "include_colab_link": true
    },
    "kernelspec": {
      "name": "python3",
      "display_name": "Python 3"
    },
    "language_info": {
      "name": "python"
    }
  },
  "cells": [
    {
      "cell_type": "markdown",
      "metadata": {
        "id": "view-in-github",
        "colab_type": "text"
      },
      "source": [
        "<a href=\"https://colab.research.google.com/github/uoahy-6uoas/notes-baekjoon/blob/main/2839.ipynb\" target=\"_parent\"><img src=\"https://colab.research.google.com/assets/colab-badge.svg\" alt=\"Open In Colab\"/></a>"
      ]
    },
    {
      "cell_type": "code",
      "source": [
        "n = int(input())\n",
        "answer = -1\n",
        "mini = 10000\n",
        "for a in range(n//3+1):\n",
        "  for b in range(n//5+1):\n",
        "    if 3*a+5*b == n:\n",
        "      if mini > a+b:\n",
        "        mini = a+b\n",
        "if mini == 10000:\n",
        "  print(answer)\n",
        "else:\n",
        "  print(mini)"
      ],
      "metadata": {
        "colab": {
          "base_uri": "https://localhost:8080/"
        },
        "id": "GU7ON7cVybKR",
        "outputId": "213f301e-1ccf-4731-ed65-7bd087907eb8"
      },
      "execution_count": 81,
      "outputs": [
        {
          "output_type": "stream",
          "name": "stdout",
          "text": [
            "3\n",
            "1\n"
          ]
        }
      ]
    },
    {
      "cell_type": "code",
      "source": [],
      "metadata": {
        "id": "wvRbv3j608p7"
      },
      "execution_count": null,
      "outputs": []
    }
  ]
}