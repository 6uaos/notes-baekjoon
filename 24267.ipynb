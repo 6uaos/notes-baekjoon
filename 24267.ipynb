{
  "nbformat": 4,
  "nbformat_minor": 0,
  "metadata": {
    "colab": {
      "provenance": [],
      "authorship_tag": "ABX9TyMChBFqhqCaMY9fZR3zl5Br",
      "include_colab_link": true
    },
    "kernelspec": {
      "name": "python3",
      "display_name": "Python 3"
    },
    "language_info": {
      "name": "python"
    }
  },
  "cells": [
    {
      "cell_type": "markdown",
      "metadata": {
        "id": "view-in-github",
        "colab_type": "text"
      },
      "source": [
        "<a href=\"https://colab.research.google.com/github/uoahy-6uoas/notes-baekjoon/blob/main/24267.ipynb\" target=\"_parent\"><img src=\"https://colab.research.google.com/assets/colab-badge.svg\" alt=\"Open In Colab\"/></a>"
      ]
    },
    {
      "cell_type": "code",
      "source": [
        "def mop(cnt,n):\n",
        "  for i in range(1,n-1):\n",
        "    for j in range(i+1,n):\n",
        "      for k in range(j,n):\n",
        "        cnt+=1\n",
        "  return cnt"
      ],
      "metadata": {
        "id": "SFPA17I9i01b"
      },
      "execution_count": 16,
      "outputs": []
    },
    {
      "cell_type": "code",
      "source": [
        "n = int(input())\n",
        "#cnt=0\n",
        "#print(mop(cnt,n))\n",
        "#print(3)\n",
        "result = 0\n",
        "for i in range(1,n-1):\n",
        "  result+=(i*(i+1)//2)\n",
        "print(result)\n",
        "print(3)"
      ],
      "metadata": {
        "colab": {
          "base_uri": "https://localhost:8080/"
        },
        "id": "pa5cZ1Iai_aZ",
        "outputId": "f4dd8953-7b94-46af-93a7-c8fe712f4c4c"
      },
      "execution_count": 17,
      "outputs": [
        {
          "output_type": "stream",
          "name": "stdout",
          "text": [
            "7\n",
            "35\n",
            "3\n"
          ]
        }
      ]
    }
  ]
}