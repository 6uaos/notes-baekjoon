{
  "nbformat": 4,
  "nbformat_minor": 0,
  "metadata": {
    "colab": {
      "provenance": [],
      "authorship_tag": "ABX9TyPq8DCikE+Uwvzvmbscf3PR",
      "include_colab_link": true
    },
    "kernelspec": {
      "name": "python3",
      "display_name": "Python 3"
    },
    "language_info": {
      "name": "python"
    }
  },
  "cells": [
    {
      "cell_type": "markdown",
      "metadata": {
        "id": "view-in-github",
        "colab_type": "text"
      },
      "source": [
        "<a href=\"https://colab.research.google.com/github/uoahy-6uoas/notes-baekjoon/blob/main/9063.ipynb\" target=\"_parent\"><img src=\"https://colab.research.google.com/assets/colab-badge.svg\" alt=\"Open In Colab\"/></a>"
      ]
    },
    {
      "cell_type": "code",
      "source": [
        "t = int(input())\n",
        "dots = []\n",
        "for _ in range(t):\n",
        "  dots.append(list(map(int,input().split())))"
      ],
      "metadata": {
        "colab": {
          "base_uri": "https://localhost:8080/"
        },
        "id": "MYDVL8rsdJ8s",
        "outputId": "54d090e7-08d2-4abf-d89a-01f6e4c39fc0"
      },
      "execution_count": 9,
      "outputs": [
        {
          "name": "stdout",
          "output_type": "stream",
          "text": [
            "4\n",
            "2 1\n",
            "3 2\n",
            "5 2\n",
            "3 4\n"
          ]
        }
      ]
    },
    {
      "cell_type": "code",
      "source": [
        "x_min,x_max = 10000,-10000\n",
        "y_min,y_max = 10000,-10000\n",
        "for dot in dots:\n",
        "  if dot[0]>x_max:\n",
        "    x_max = dot[0]\n",
        "  if dot[0]<x_min:\n",
        "    x_min = dot[0]\n",
        "  if dot[1]>y_max:\n",
        "    y_max = dot[1]\n",
        "  if dot[1]<y_min:\n",
        "    y_min = dot[1]\n",
        "\n",
        "print((x_max-x_min)*(y_max-y_min))"
      ],
      "metadata": {
        "colab": {
          "base_uri": "https://localhost:8080/"
        },
        "id": "zgjFDQbaeM-R",
        "outputId": "3091633d-0456-4a99-9105-0109148902a2"
      },
      "execution_count": 10,
      "outputs": [
        {
          "output_type": "stream",
          "name": "stdout",
          "text": [
            "9\n"
          ]
        }
      ]
    }
  ]
}