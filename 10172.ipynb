{
  "nbformat": 4,
  "nbformat_minor": 0,
  "metadata": {
    "colab": {
      "provenance": [],
      "authorship_tag": "ABX9TyO47JF+WGBhvrfp5LtVFZtL",
      "include_colab_link": true
    },
    "kernelspec": {
      "name": "python3",
      "display_name": "Python 3"
    },
    "language_info": {
      "name": "python"
    }
  },
  "cells": [
    {
      "cell_type": "markdown",
      "metadata": {
        "id": "view-in-github",
        "colab_type": "text"
      },
      "source": [
        "<a href=\"https://colab.research.google.com/github/uoahy-6uoas/notes-baekjoon/blob/main/10172.ipynb\" target=\"_parent\"><img src=\"https://colab.research.google.com/assets/colab-badge.svg\" alt=\"Open In Colab\"/></a>"
      ]
    },
    {
      "cell_type": "code",
      "source": [
        "'''\n",
        "|\\_/|\n",
        "|q p|   /}\n",
        "( 0 )\"\"\"\\\n",
        "|\"^\"`    |\n",
        "||_/=\\\\__|\n",
        "'''\n",
        "print('|\\\\_/|')\n",
        "print('|q p|   /}')\n",
        "print('( 0 )\\\"\\\"\\\"\\\\')\n",
        "print('|\\\"^\\\"`    |')\n",
        "print('||_/=\\\\\\\\__|')"
      ],
      "metadata": {
        "id": "r-GQ0D3L6RXO",
        "colab": {
          "base_uri": "https://localhost:8080/"
        },
        "outputId": "b950cb58-5f4a-4564-e7b1-3efdeb14faf4"
      },
      "execution_count": 8,
      "outputs": [
        {
          "output_type": "stream",
          "name": "stdout",
          "text": [
            "|\\_/|\n",
            "|q p|   /}\n",
            "( 0 )\"\"\"\\\n",
            "|\"^\"`    |\n",
            "||_/=\\\\__|\n"
          ]
        }
      ]
    }
  ]
}