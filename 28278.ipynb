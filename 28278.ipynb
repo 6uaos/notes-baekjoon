{
  "nbformat": 4,
  "nbformat_minor": 0,
  "metadata": {
    "colab": {
      "provenance": [],
      "authorship_tag": "ABX9TyN0XZSp8TiKKKv7twMzxsDf",
      "include_colab_link": true
    },
    "kernelspec": {
      "name": "python3",
      "display_name": "Python 3"
    },
    "language_info": {
      "name": "python"
    }
  },
  "cells": [
    {
      "cell_type": "markdown",
      "metadata": {
        "id": "view-in-github",
        "colab_type": "text"
      },
      "source": [
        "<a href=\"https://colab.research.google.com/github/uoahy-6uoas/notes-baekjoon/blob/main/28278.ipynb\" target=\"_parent\"><img src=\"https://colab.research.google.com/assets/colab-badge.svg\" alt=\"Open In Colab\"/></a>"
      ]
    },
    {
      "cell_type": "code",
      "source": [
        "def one(stk,x):\n",
        "  stk.append(int(x))\n",
        "\n",
        "def two(stk):\n",
        "  if len(stk)==0:\n",
        "    print(-1)\n",
        "  else:\n",
        "    print(stk.pop())\n",
        "\n",
        "def three(stk):\n",
        "  print(len(stk))\n",
        "\n",
        "def four(stk):\n",
        "  if len(stk)==0:\n",
        "    print(1)\n",
        "  else:\n",
        "    print(0)\n",
        "\n",
        "def five(stk):\n",
        "  if len(stk)==0:\n",
        "    print(-1)\n",
        "  else:\n",
        "    print(stk[-1])"
      ],
      "metadata": {
        "id": "qg_NKtsIJljt"
      },
      "execution_count": 12,
      "outputs": []
    },
    {
      "cell_type": "code",
      "source": [
        "n = int(input())"
      ],
      "metadata": {
        "colab": {
          "base_uri": "https://localhost:8080/"
        },
        "id": "3xPoOIgsKVkl",
        "outputId": "afde49b3-a796-48c4-b6d9-a3426ff90142"
      },
      "execution_count": 13,
      "outputs": [
        {
          "name": "stdout",
          "output_type": "stream",
          "text": [
            "9\n"
          ]
        }
      ]
    },
    {
      "cell_type": "code",
      "source": [
        "stk = []\n",
        "for _ in range(n):\n",
        "  tmp = input()\n",
        "  if tmp[0] == '1':\n",
        "    one(stk,tmp[-1])\n",
        "  elif tmp == '2':\n",
        "    two(stk)\n",
        "  elif tmp == '3':\n",
        "    three(stk)\n",
        "  elif tmp == '4':\n",
        "    four(stk)\n",
        "  else:\n",
        "    five(stk)\n",
        "\n",
        "#시간초과 & 틀림.."
      ],
      "metadata": {
        "colab": {
          "base_uri": "https://localhost:8080/"
        },
        "id": "b-S7v8k8KXbl",
        "outputId": "7bbc3160-6444-4622-affe-f206632425e3"
      },
      "execution_count": 15,
      "outputs": [
        {
          "output_type": "stream",
          "name": "stdout",
          "text": [
            "1 5\n",
            "1 3\n",
            "1 4\n",
            "2\n",
            "4\n",
            "2\n",
            "3\n",
            "2\n",
            "5\n",
            "2\n",
            "-1\n",
            "3\n",
            "0\n",
            "4\n",
            "1\n"
          ]
        }
      ]
    },
    {
      "cell_type": "code",
      "source": [
        "n = int(input())\n",
        "stk = []\n",
        "for _ in range(n):\n",
        "  tmp = input()\n",
        "\n",
        "  #append\n",
        "  if tmp[0]=='1':\n",
        "    stk.append(int(tmp[2:]))\n",
        "    #input함수로 문자열을 받으면 양 끝에 불순물(\\n)들이 낄 수 있다..\n",
        "    #rstrip해도 문제가 될 수 있으니 주의할 것\n",
        "\n",
        "  #pop\n",
        "  elif tmp == '2':\n",
        "    if len(stk)==0:\n",
        "      print(-1)\n",
        "    else:\n",
        "      print(stk.pop())\n",
        "\n",
        "  #len\n",
        "  elif tmp == '3':\n",
        "    print(len(stk))\n",
        "\n",
        "  #is_empty\n",
        "  elif tmp == '4':\n",
        "    if len(stk)==0:\n",
        "      print(1)\n",
        "    else:\n",
        "      print(0)\n",
        "  #tail\n",
        "  elif tmp == '5':\n",
        "    if len(stk)==0:\n",
        "      print(-1)\n",
        "    else:\n",
        "      print(stk[-1])\n",
        "\n",
        "#시간초과 나기 때문에\n",
        "'''\n",
        "import sys\n",
        "input = sys.stdin.readline\n",
        "'''"
      ],
      "metadata": {
        "colab": {
          "base_uri": "https://localhost:8080/"
        },
        "id": "X73NbMtOKwFK",
        "outputId": "bfa1dd83-6824-4626-ef37-c5706dfcae50"
      },
      "execution_count": 16,
      "outputs": [
        {
          "output_type": "stream",
          "name": "stdout",
          "text": [
            "9\n",
            "1 3\n",
            "1 4\n",
            "2\n",
            "4\n",
            "2\n",
            "3\n",
            "3\n",
            "0\n",
            "4\n",
            "1\n",
            "5\n",
            "-1\n",
            "1 5\n",
            "5\n",
            "5\n"
          ]
        }
      ]
    }
  ]
}