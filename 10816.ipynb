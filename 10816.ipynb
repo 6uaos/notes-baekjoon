{
  "nbformat": 4,
  "nbformat_minor": 0,
  "metadata": {
    "colab": {
      "provenance": [],
      "authorship_tag": "ABX9TyN5kWMw2WXpi0JaDNkvCLr/",
      "include_colab_link": true
    },
    "kernelspec": {
      "name": "python3",
      "display_name": "Python 3"
    },
    "language_info": {
      "name": "python"
    }
  },
  "cells": [
    {
      "cell_type": "markdown",
      "metadata": {
        "id": "view-in-github",
        "colab_type": "text"
      },
      "source": [
        "<a href=\"https://colab.research.google.com/github/uoahy-6uoas/notes-baekjoon/blob/main/10816.ipynb\" target=\"_parent\"><img src=\"https://colab.research.google.com/assets/colab-badge.svg\" alt=\"Open In Colab\"/></a>"
      ]
    },
    {
      "cell_type": "code",
      "source": [
        "n = int(input())\n",
        "sang_list = list(map(int,input().split()))\n",
        "m = int(input())\n",
        "ref = list(map(int, input().split()))"
      ],
      "metadata": {
        "id": "fitQztpi_8k_",
        "colab": {
          "base_uri": "https://localhost:8080/"
        },
        "outputId": "4169cb79-f307-4dde-f249-b98ca656448e"
      },
      "execution_count": 1,
      "outputs": [
        {
          "name": "stdout",
          "output_type": "stream",
          "text": [
            "10\n",
            "6 3 2 10 10 10 -10 -10 7 3\n",
            "8\n",
            "10 9 -5 2 3 4 5 -10\n"
          ]
        }
      ]
    },
    {
      "cell_type": "code",
      "source": [
        "result = {}\n",
        "\n",
        "for i in sang_list:\n",
        "  if i in result:\n",
        "    result[i]+=1\n",
        "  else:\n",
        "    result[i]=1\n",
        "\n",
        "for i in ref:\n",
        "  if i in result:\n",
        "    print(result[i],end=' ')\n",
        "  else:\n",
        "    print(0, end=' ')"
      ],
      "metadata": {
        "colab": {
          "base_uri": "https://localhost:8080/"
        },
        "id": "Kd9_1SRMkGH-",
        "outputId": "3df24565-6bff-460c-c713-5dfe10bacd2e"
      },
      "execution_count": 8,
      "outputs": [
        {
          "output_type": "stream",
          "name": "stdout",
          "text": [
            "3 0 0 1 2 0 0 2 "
          ]
        }
      ]
    },
    {
      "cell_type": "code",
      "source": [
        "#m도 같은 값을 가질 수 있기 때문에 아래 풀이가 틀림..\n",
        "result = {}\n",
        "for i in ref:\n",
        "  result[i] = 0\n",
        "\n",
        "for i in sang_list:\n",
        "  if i in result:\n",
        "    result[i]+=1\n",
        "\n",
        "for i in result:\n",
        "  print(result[i],end=' ')"
      ],
      "metadata": {
        "colab": {
          "base_uri": "https://localhost:8080/"
        },
        "id": "JURxNusipZzm",
        "outputId": "2c732973-bba5-493b-8f9c-fc47ec6bf70c"
      },
      "execution_count": 9,
      "outputs": [
        {
          "output_type": "stream",
          "name": "stdout",
          "text": [
            "3 0 0 1 2 0 0 2 "
          ]
        }
      ]
    }
  ]
}