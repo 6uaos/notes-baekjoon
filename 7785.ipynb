{
  "nbformat": 4,
  "nbformat_minor": 0,
  "metadata": {
    "colab": {
      "provenance": [],
      "authorship_tag": "ABX9TyM6IbNuKpklWNBmnsOQM7pp",
      "include_colab_link": true
    },
    "kernelspec": {
      "name": "python3",
      "display_name": "Python 3"
    },
    "language_info": {
      "name": "python"
    }
  },
  "cells": [
    {
      "cell_type": "markdown",
      "metadata": {
        "id": "view-in-github",
        "colab_type": "text"
      },
      "source": [
        "<a href=\"https://colab.research.google.com/github/uoahy-6uoas/notes-baekjoon/blob/main/7785.ipynb\" target=\"_parent\"><img src=\"https://colab.research.google.com/assets/colab-badge.svg\" alt=\"Open In Colab\"/></a>"
      ]
    },
    {
      "cell_type": "code",
      "source": [
        "n = int(input())\n",
        "tmp = {} #set에서 add, discard하면 더 빠르다고 한다.\n",
        "for _ in range(n):\n",
        "  tmp_name,tmp_where = map(str,input().split())\n",
        "  if tmp_where == 'leave':\n",
        "    del tmp[tmp_name] # 입력단계에서 안빼주면 시간초과남..\n",
        "  else:\n",
        "    tmp[tmp_name] = tmp_where\n",
        "\n",
        "result = sorted(tmp.items(),reverse=True) #how to make dict total recall\n",
        "\n",
        "for i in result:\n",
        "  print(i[0])"
      ],
      "metadata": {
        "colab": {
          "base_uri": "https://localhost:8080/"
        },
        "id": "TGBjPXuz2_e4",
        "outputId": "54e09353-73e5-43c7-c1ab-cb757b61c692"
      },
      "execution_count": 8,
      "outputs": [
        {
          "output_type": "stream",
          "name": "stdout",
          "text": [
            "4\n",
            "Baha enter\n",
            "Askar enter\n",
            "Baha leave\n",
            "Artem enter\n",
            "Askar\n",
            "Artem\n"
          ]
        }
      ]
    }
  ]
}