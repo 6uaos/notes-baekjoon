{
  "nbformat": 4,
  "nbformat_minor": 0,
  "metadata": {
    "colab": {
      "provenance": [],
      "authorship_tag": "ABX9TyOC8C2LuIGxXP1OSoNCyJy5",
      "include_colab_link": true
    },
    "kernelspec": {
      "name": "python3",
      "display_name": "Python 3"
    },
    "language_info": {
      "name": "python"
    }
  },
  "cells": [
    {
      "cell_type": "markdown",
      "metadata": {
        "id": "view-in-github",
        "colab_type": "text"
      },
      "source": [
        "<a href=\"https://colab.research.google.com/github/uoahy-6uoas/notes-baekjoon/blob/main/1735.ipynb\" target=\"_parent\"><img src=\"https://colab.research.google.com/assets/colab-badge.svg\" alt=\"Open In Colab\"/></a>"
      ]
    },
    {
      "cell_type": "code",
      "source": [
        "a1,b1 = map(int,input().split())\n",
        "a2,b2 = map(int,input().split())"
      ],
      "metadata": {
        "colab": {
          "base_uri": "https://localhost:8080/"
        },
        "id": "A6vgLpD68tP1",
        "outputId": "91e6b866-2e62-4f4c-d1ae-b12160f41656"
      },
      "execution_count": 13,
      "outputs": [
        {
          "name": "stdout",
          "output_type": "stream",
          "text": [
            "2 5\n",
            "1 10\n"
          ]
        }
      ]
    },
    {
      "cell_type": "code",
      "source": [
        "tmp_a, tmp_b = a1*b2+a2*b1, b1*b2"
      ],
      "metadata": {
        "id": "TgvbE0U78_NE"
      },
      "execution_count": 14,
      "outputs": []
    },
    {
      "cell_type": "code",
      "source": [
        "def euclidean(a,b):\n",
        "  if a%b==0:\n",
        "    return b\n",
        "  else:\n",
        "    return euclidean(b,a%b)\n",
        "\n",
        "tmp = euclidean(tmp_a,tmp_b)\n",
        "print(f\"{tmp_a//tmp} {tmp_b//tmp}\")"
      ],
      "metadata": {
        "colab": {
          "base_uri": "https://localhost:8080/"
        },
        "id": "FSyfv4Bj9e0W",
        "outputId": "02ec67da-df30-43af-87e2-da0700f0f267"
      },
      "execution_count": 15,
      "outputs": [
        {
          "output_type": "stream",
          "name": "stdout",
          "text": [
            "1 2\n"
          ]
        }
      ]
    },
    {
      "cell_type": "code",
      "source": [],
      "metadata": {
        "id": "2ynPgTTF9xfX"
      },
      "execution_count": null,
      "outputs": []
    }
  ]
}