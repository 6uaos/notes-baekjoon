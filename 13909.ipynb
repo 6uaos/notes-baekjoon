{
  "nbformat": 4,
  "nbformat_minor": 0,
  "metadata": {
    "colab": {
      "provenance": [],
      "authorship_tag": "ABX9TyP9ukhl/m9ZuEI4iYD6Q1GO",
      "include_colab_link": true
    },
    "kernelspec": {
      "name": "python3",
      "display_name": "Python 3"
    },
    "language_info": {
      "name": "python"
    }
  },
  "cells": [
    {
      "cell_type": "markdown",
      "metadata": {
        "id": "view-in-github",
        "colab_type": "text"
      },
      "source": [
        "<a href=\"https://colab.research.google.com/github/uoahy-6uoas/notes-baekjoon/blob/main/13909.ipynb\" target=\"_parent\"><img src=\"https://colab.research.google.com/assets/colab-badge.svg\" alt=\"Open In Colab\"/></a>"
      ]
    },
    {
      "cell_type": "code",
      "source": [
        "n = int(input())\n",
        "#약수의 개수가 짝수인 창문은 닫힌다.\n",
        "#i의 제곱인 값은 약수가 홀수이므로 열려있다.\n",
        "import time\n",
        "ti = time.time()\n",
        "\n",
        "i,answer=1,0\n",
        "while i <= (n**0.5):\n",
        "  answer+=1\n",
        "  i+=1\n",
        "print(answer)\n",
        "\n",
        "tf=time.time()\n",
        "print(tf-ti)"
      ],
      "metadata": {
        "colab": {
          "base_uri": "https://localhost:8080/"
        },
        "id": "5TKLF5zt7JSq",
        "outputId": "ffe79f69-d53e-4689-e564-e2826f6969d1"
      },
      "execution_count": 6,
      "outputs": [
        {
          "output_type": "stream",
          "name": "stdout",
          "text": [
            "1000000000\n",
            "31622\n",
            "0.01653909683227539\n"
          ]
        }
      ]
    },
    {
      "cell_type": "code",
      "source": [],
      "metadata": {
        "id": "jCSmGOlM81uX"
      },
      "execution_count": null,
      "outputs": []
    }
  ]
}