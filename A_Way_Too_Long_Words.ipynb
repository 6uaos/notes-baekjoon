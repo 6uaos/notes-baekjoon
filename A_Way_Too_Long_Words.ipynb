{
  "nbformat": 4,
  "nbformat_minor": 0,
  "metadata": {
    "colab": {
      "provenance": [],
      "authorship_tag": "ABX9TyPWhKuD+YjmvcAdXv/gKJd8",
      "include_colab_link": true
    },
    "kernelspec": {
      "name": "python3",
      "display_name": "Python 3"
    },
    "language_info": {
      "name": "python"
    }
  },
  "cells": [
    {
      "cell_type": "markdown",
      "metadata": {
        "id": "view-in-github",
        "colab_type": "text"
      },
      "source": [
        "<a href=\"https://colab.research.google.com/github/uoahy-6uoas/notes-codeforces/blob/main/A_Way_Too_Long_Words.ipynb\" target=\"_parent\"><img src=\"https://colab.research.google.com/assets/colab-badge.svg\" alt=\"Open In Colab\"/></a>"
      ]
    },
    {
      "cell_type": "markdown",
      "source": [
        "Sometimes some words like \"localization\" or \"internationalization\" are so long that writing them many times in one text is quite tiresome.\n",
        "\n",
        "Let's consider a word too long, if its length is strictly more than 10 characters. All too long words should be replaced with a special abbreviation.\n",
        "\n",
        "This abbreviation is made like this: we write down the first and the last letter of a word and between them we write the number of letters between the first and the last letters. That number is in decimal system and doesn't contain any leading zeroes.\n",
        "\n",
        "Thus, \"localization\" will be spelt as \"l10n\", and \"internationalization» will be spelt as \"i18n\".\n",
        "\n",
        "You are suggested to automatize the process of changing the words with abbreviations. At that all too long words should be replaced by the abbreviation and the words that are not too long should not undergo any changes.\n",
        "\n",
        "Input\n",
        "\n",
        "The first line contains an integer n (1 ≤ n ≤ 100). Each of the following n lines contains one word. All the words consist of lowercase Latin letters and possess the lengths of from 1 to 100 characters.\n",
        "\n",
        "Output\n",
        "\n",
        "Print n lines. The i-th line should contain the result of replacing of the i-th word from the input data."
      ],
      "metadata": {
        "id": "9uAyIwrAP8Yu"
      }
    },
    {
      "cell_type": "markdown",
      "source": [
        "때때로 localization이나 internationalization같은 단어는 너무 길어서 한 문단에 여러번 쓰기가 귀찮다.\n",
        "\n",
        "10자가 넘는 긴 단어를 생각해 보자. 긴 단어들은 특별한 약어들로 대체 되었으면 한다.\n",
        "\n",
        "이 약어는 단어의 첫번째와 마지막 문자를 적고 그 사이에 있는 문자의 개수를 첫번쨰와 마지막 문자 사이에 적어 만든다. 이 숫자는 10진수이고 숫자앞에 선행되는 0들은 없다.\n",
        "\n",
        "따라서 localization은 l10n으로, internationalization은 i18n으로 쓸 수 있다.\n",
        "\n",
        "당신은 이 약어 변환과정 자동화를 요청받았다. 모든 긴 단어들은 약어로 대체되어야 하며, 길지 않은 단어들은 변환을 수행하지 않는다.\n",
        "\n",
        "입력\n",
        "\n",
        "첫 줄에는 정수n을 포함한다. 이어지는 n번의 줄에는 한 단어가 주어진다. 모든 단어는 영어소문자로 되어있고 길이는 1~100자 이다.\n",
        "\n",
        "출력\n",
        "\n",
        "n줄을 출력해라. i번째 줄에는 i번째 입력데이터의 변환결과가 있어야 한다."
      ],
      "metadata": {
        "id": "WZJ9zo23QFYF"
      }
    },
    {
      "cell_type": "code",
      "source": [
        "n = int(input())\n",
        "for _ in range(n):\n",
        "  word = input()\n",
        "  if len(word) > 10:\n",
        "    print(f\"{word[0]}{len(word)-2}{word[-1]}\")\n",
        "  else:\n",
        "    print(word)"
      ],
      "metadata": {
        "id": "3ZSZSgTQDGvs",
        "colab": {
          "base_uri": "https://localhost:8080/"
        },
        "outputId": "f505b532-2ce1-49cb-ceed-113e47d1be41"
      },
      "execution_count": 1,
      "outputs": [
        {
          "output_type": "stream",
          "name": "stdout",
          "text": [
            "4\n",
            "word\n",
            "word\n",
            "localization\n",
            "l10n\n",
            "internationalization\n",
            "i18n\n",
            "pneumonoultramicroscopicsilicovolcanoconiosis\n",
            "p43s\n"
          ]
        }
      ]
    }
  ]
}