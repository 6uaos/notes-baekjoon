{
  "nbformat": 4,
  "nbformat_minor": 0,
  "metadata": {
    "colab": {
      "provenance": [],
      "authorship_tag": "ABX9TyPQ69jefRMP+jQVl1fnUWoL",
      "include_colab_link": true
    },
    "kernelspec": {
      "name": "python3",
      "display_name": "Python 3"
    },
    "language_info": {
      "name": "python"
    }
  },
  "cells": [
    {
      "cell_type": "markdown",
      "metadata": {
        "id": "view-in-github",
        "colab_type": "text"
      },
      "source": [
        "<a href=\"https://colab.research.google.com/github/uoahy-6uoas/notes-baekjoon/blob/main/10171.ipynb\" target=\"_parent\"><img src=\"https://colab.research.google.com/assets/colab-badge.svg\" alt=\"Open In Colab\"/></a>"
      ]
    },
    {
      "cell_type": "code",
      "source": [
        "'''\n",
        "\\    /\\\n",
        " )  ( ')\n",
        "(  /  )\n",
        " \\(__)|\n",
        "'''\n",
        "print('\\\\    /\\\\')\n",
        "print(' )  ( \\')')\n",
        "print('(  /  )')\n",
        "print(' \\\\(__)|')"
      ],
      "metadata": {
        "id": "r-GQ0D3L6RXO",
        "colab": {
          "base_uri": "https://localhost:8080/"
        },
        "outputId": "991a2b8e-0bdf-4103-f4b3-335ff977cbca"
      },
      "execution_count": 6,
      "outputs": [
        {
          "output_type": "stream",
          "name": "stdout",
          "text": [
            "|\\_/|\n",
            "|q p|   /}\n",
            "( 0 )\"\"\"\\\n",
            "|\"^\"`    |\n",
            "||_/=\\\\__|\n"
          ]
        }
      ]
    },
    {
      "cell_type": "code",
      "source": [],
      "metadata": {
        "id": "8wiJ1KH6ha_9"
      },
      "execution_count": null,
      "outputs": []
    }
  ]
}