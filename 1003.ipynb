{
  "nbformat": 4,
  "nbformat_minor": 0,
  "metadata": {
    "colab": {
      "provenance": [],
      "authorship_tag": "ABX9TyPbbCvJ025QEJp1emGsJgYv",
      "include_colab_link": true
    },
    "kernelspec": {
      "name": "python3",
      "display_name": "Python 3"
    },
    "language_info": {
      "name": "python"
    }
  },
  "cells": [
    {
      "cell_type": "markdown",
      "metadata": {
        "id": "view-in-github",
        "colab_type": "text"
      },
      "source": [
        "<a href=\"https://colab.research.google.com/github/6uaos/notes-baekjoon/blob/main/1003.ipynb\" target=\"_parent\"><img src=\"https://colab.research.google.com/assets/colab-badge.svg\" alt=\"Open In Colab\"/></a>"
      ]
    },
    {
      "cell_type": "code",
      "source": [
        "result0 = [0] * 41\n",
        "result1 = [0] * 41\n",
        "result0[0] = 1\n",
        "result1[1] = 1\n",
        "\n",
        "t = int(input())"
      ],
      "metadata": {
        "colab": {
          "base_uri": "https://localhost:8080/"
        },
        "id": "7b6jgP1er7A-",
        "outputId": "3d246036-f610-4363-a9a5-54bf9a189f17"
      },
      "execution_count": 56,
      "outputs": [
        {
          "name": "stdout",
          "output_type": "stream",
          "text": [
            "2\n"
          ]
        }
      ]
    },
    {
      "cell_type": "code",
      "source": [
        "def fib(n):\n",
        "  f = [0] *41\n",
        "  if n==0:\n",
        "    return result0[n], result1[n]\n",
        "  if n==1:\n",
        "    return result0[n], result1[n]\n",
        "  for i in range(2,n+1):\n",
        "    result0[i] = result0[i-1]+result0[i-2]\n",
        "    result1[i] = result1[i-1]+result1[i-2]\n",
        "    f[i] = f[i-1]+f[i-2]\n",
        "\n",
        "  return result0[n], result1[n]"
      ],
      "metadata": {
        "id": "fguBPJOysRIg"
      },
      "execution_count": 57,
      "outputs": []
    },
    {
      "cell_type": "code",
      "source": [
        "for _ in range(t):\n",
        "  n = int(input())\n",
        "  r0,r1 = fib(n)\n",
        "  print(f\"{r0} {r1}\")"
      ],
      "metadata": {
        "colab": {
          "base_uri": "https://localhost:8080/"
        },
        "id": "Dou-VinosLwm",
        "outputId": "03b291c5-7ae8-4bab-ac81-77c94b032659"
      },
      "execution_count": 58,
      "outputs": [
        {
          "output_type": "stream",
          "name": "stdout",
          "text": [
            "6\n",
            "5 8\n",
            "22\n",
            "10946 17711\n"
          ]
        }
      ]
    }
  ]
}