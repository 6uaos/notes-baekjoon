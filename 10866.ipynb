{
  "nbformat": 4,
  "nbformat_minor": 0,
  "metadata": {
    "colab": {
      "provenance": [],
      "authorship_tag": "ABX9TyPOymaEikljMjG18Wjlbf6S",
      "include_colab_link": true
    },
    "kernelspec": {
      "name": "python3",
      "display_name": "Python 3"
    },
    "language_info": {
      "name": "python"
    }
  },
  "cells": [
    {
      "cell_type": "markdown",
      "metadata": {
        "id": "view-in-github",
        "colab_type": "text"
      },
      "source": [
        "<a href=\"https://colab.research.google.com/github/uoahy-6uoas/notes-baekjoon/blob/main/10866.ipynb\" target=\"_parent\"><img src=\"https://colab.research.google.com/assets/colab-badge.svg\" alt=\"Open In Colab\"/></a>"
      ]
    },
    {
      "cell_type": "code",
      "source": [
        "from collections import deque\n",
        "class Deque:\n",
        "  def __init__(self):\n",
        "    self.deque = deque([])\n",
        "\n",
        "  def push_back(self,x):\n",
        "    self.deque.append(x)\n",
        "\n",
        "  def push_front(self,x):\n",
        "    self.deque.insert(0,x)\n",
        "\n",
        "  def pop_front(self):\n",
        "    print(self.deque.popleft() if self.deque else -1)\n",
        "\n",
        "  def pop_back(self):\n",
        "    print(self.deque.pop() if self.deque else -1)\n",
        "\n",
        "  def size(self):\n",
        "    print(len(self.deque))\n",
        "\n",
        "  def empty(self):\n",
        "    print(0 if self.deque else 1)\n",
        "\n",
        "  def front(self):\n",
        "    print(self.deque[0] if self.deque else -1)\n",
        "\n",
        "  def back(self):\n",
        "    print(self.deque[-1] if self.deque else -1)"
      ],
      "metadata": {
        "id": "37QC4BYlk9hd"
      },
      "execution_count": 49,
      "outputs": []
    },
    {
      "cell_type": "code",
      "source": [
        "deque = Deque()\n",
        "\n",
        "n = int(input())\n",
        "\n",
        "\n",
        "for _ in range(n):\n",
        "  com = list(input().split())\n",
        "  if com[0] == 'push_back':\n",
        "    deque.push_back(int(com[1]))\n",
        "  elif com[0] == 'push_front':\n",
        "    deque.push_front(int(com[1]))\n",
        "  elif com[0]=='pop_front':\n",
        "    deque.pop_front()\n",
        "  elif com[0]=='pop_back':\n",
        "    deque.pop_back()\n",
        "  elif com[0]=='size':\n",
        "    deque.size()\n",
        "  elif com[0]=='empty':\n",
        "    deque.empty()\n",
        "  elif com[0]=='back':\n",
        "    deque.back()\n",
        "  elif com[0]=='front':\n",
        "    deque.front()"
      ],
      "metadata": {
        "colab": {
          "base_uri": "https://localhost:8080/"
        },
        "id": "uA6oOK9jlWLp",
        "outputId": "8b651a30-a69c-43d7-f240-868d51795268"
      },
      "execution_count": 50,
      "outputs": [
        {
          "output_type": "stream",
          "name": "stdout",
          "text": [
            "15\n",
            "push_back 1\n",
            "push_front 2\n",
            "front\n",
            "2\n",
            "back\n",
            "1\n",
            "size\n",
            "2\n",
            "empty\n",
            "0\n",
            "pop_front\n",
            "2\n",
            "pop_back\n",
            "1\n",
            "pop_front\n",
            "-1\n",
            "size\n",
            "0\n",
            "empty\n",
            "1\n",
            "pop_back\n",
            "-1\n",
            "push_front 3\n",
            "empty\n",
            "0\n",
            "front\n",
            "3\n"
          ]
        }
      ]
    }
  ]
}