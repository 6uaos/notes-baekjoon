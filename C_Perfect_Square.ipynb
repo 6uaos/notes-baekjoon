{
  "nbformat": 4,
  "nbformat_minor": 0,
  "metadata": {
    "colab": {
      "provenance": [],
      "authorship_tag": "ABX9TyPiB9IhKDmF1cp1fGuiJpzw",
      "include_colab_link": true
    },
    "kernelspec": {
      "name": "python3",
      "display_name": "Python 3"
    },
    "language_info": {
      "name": "python"
    }
  },
  "cells": [
    {
      "cell_type": "markdown",
      "metadata": {
        "id": "view-in-github",
        "colab_type": "text"
      },
      "source": [
        "<a href=\"https://colab.research.google.com/github/uoahy-6uoas/notes-codeforces/blob/main/C_Perfect_Square.ipynb\" target=\"_parent\"><img src=\"https://colab.research.google.com/assets/colab-badge.svg\" alt=\"Open In Colab\"/></a>"
      ]
    },
    {
      "cell_type": "markdown",
      "source": [
        "Kristina has a matrix of size n\n",
        " by n\n",
        ", filled with lowercase Latin letters. The value of n\n",
        " is even.\n",
        "\n",
        "She wants to change some characters so that her matrix becomes a perfect square. A matrix is called a perfect square if it remains unchanged when rotated 90∘\n",
        " clockwise once.\n",
        "\n",
        "Here is an example of rotating a matrix by 90∘\n",
        ":\n",
        "\n",
        "https://espresso.codeforces.com/f31ca811677514ff724a6af677d2e4a129b8fcfb.png\n",
        "\n",
        "\n",
        "In one operation, Kristina can choose any cell and replace its value with the next character in the alphabet. If the character is equal to \"z\", its value does not change.\n",
        "\n",
        "Find the minimum number of operations required to make the matrix a perfect square.\n",
        "\n",
        "For example, if the 4\n",
        " by 4\n",
        " matrix looks like this:\n",
        "\n",
        "abba <br>\n",
        "bc**b**b <br>\n",
        "bccb <br>\n",
        "abba\n",
        "\n",
        "\n",
        "then it is enough to apply 1\n",
        " operation to the letter b, highlighted in bold.\n",
        "\n",
        "---\n",
        "\n",
        "Input\n",
        "\n",
        "The first line of the input contains a single integer t\n",
        " (1≤t≤102\n",
        ") — the number of test cases.\n",
        "\n",
        "Then follows the description of each test case.\n",
        "\n",
        "The first line of each test case contains a single even integer n\n",
        " (2≤n≤103\n",
        ") — the number of rows and columns in the matrix.\n",
        "\n",
        "Then follows n\n",
        " lines, each containing exactly n\n",
        " lowercase Latin letters.\n",
        "\n",
        "It is guaranteed that the sum of n\n",
        " over all test cases does not exceed 103\n",
        ".\n",
        "\n",
        "---\n",
        "\n",
        "Output\n",
        "\n",
        "For each test case, output a single number on a separate line: the minimum number of operations required for Kristina to obtain a perfect square."
      ],
      "metadata": {
        "id": "BrQ7Zp3w6KsS"
      }
    },
    {
      "cell_type": "code",
      "source": [
        "ref = {'a':1,'b':2,'c':3,'d':4,'e':5,'f':6,'g':7,'h':8,'i':9,'j':10,\n",
        "       'k':11,'l':12,'m':13,'n':14,'o':15,'p':16,'q':17,'r':18,'s':19,'t':20,\n",
        "       'u':21,'v':22,'w':23,'x':24,'y':25,'z':26}\n",
        "\n",
        "t = int(input())\n",
        "\n",
        "for _ in range(t):\n",
        "  matrix,result = [], 0\n",
        "  n = int(input())\n",
        "\n",
        "  for _ in range(n):\n",
        "    matrix.append(list(input()))\n",
        "\n",
        "  # [i][j] -> [j][n-1-i] -> [n-1-i][n-1-j] -> [n-1-j][i]\n",
        "  for i in range(n):\n",
        "    for j in range(n):\n",
        "      make_same = [ref[matrix[i][j]],ref[matrix[j][n-1-i]],ref[matrix[n-1-i][n-1-j]],ref[matrix[n-1-j][i]]]\n",
        "      tmp_max = max(make_same)\n",
        "      for k in make_same:\n",
        "        result += tmp_max - k\n",
        "\n",
        "  print(result//4)"
      ],
      "metadata": {
        "colab": {
          "base_uri": "https://localhost:8080/"
        },
        "id": "ifoj1R_WFG5B",
        "outputId": "e27efdf4-f0ad-4274-fa2e-031442ddbef3"
      },
      "execution_count": 37,
      "outputs": [
        {
          "output_type": "stream",
          "name": "stdout",
          "text": [
            "1\n",
            "6\n",
            "aaaaaa\n",
            "aaaaaa\n",
            "aaaaaa\n",
            "abbbba\n",
            "aaaaaa\n",
            "aaaaaa\n",
            "8\n"
          ]
        }
      ]
    }
  ]
}