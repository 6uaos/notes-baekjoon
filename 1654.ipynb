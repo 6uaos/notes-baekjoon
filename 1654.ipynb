{
  "nbformat": 4,
  "nbformat_minor": 0,
  "metadata": {
    "colab": {
      "provenance": [],
      "authorship_tag": "ABX9TyPSbt5w5ycD6d03RWD+cw9Y",
      "include_colab_link": true
    },
    "kernelspec": {
      "name": "python3",
      "display_name": "Python 3"
    },
    "language_info": {
      "name": "python"
    }
  },
  "cells": [
    {
      "cell_type": "markdown",
      "metadata": {
        "id": "view-in-github",
        "colab_type": "text"
      },
      "source": [
        "<a href=\"https://colab.research.google.com/github/uoahy-6uoas/notes-baekjoon/blob/main/1654.ipynb\" target=\"_parent\"><img src=\"https://colab.research.google.com/assets/colab-badge.svg\" alt=\"Open In Colab\"/></a>"
      ]
    },
    {
      "cell_type": "code",
      "source": [
        "k,n = map(int,input().split())\n",
        "lans = []\n",
        "for _ in range(k):\n",
        "  lans.append(int(input()))"
      ],
      "metadata": {
        "colab": {
          "base_uri": "https://localhost:8080/"
        },
        "id": "HGSKbjqT_QOq",
        "outputId": "e456aa43-c3c6-42c1-a00a-724dca5ff966"
      },
      "execution_count": 22,
      "outputs": [
        {
          "name": "stdout",
          "output_type": "stream",
          "text": [
            "4 11\n",
            "802\n",
            "743\n",
            "457\n",
            "539\n"
          ]
        }
      ]
    },
    {
      "cell_type": "code",
      "source": [
        "'''\n",
        "시간초과\n",
        "mid = max(lans)//2\n",
        "result = 0\n",
        "for lan in lans:\n",
        "  result += lan//mid\n",
        "if result >= n:\n",
        "  start = mid\n",
        "else:\n",
        "  start = max(lans)\n",
        "\n",
        "for i in range(start,0,-1):\n",
        "  result = 0\n",
        "  for lan in lans:\n",
        "    result += lan//i\n",
        "  if result >= n:\n",
        "    print(i)\n",
        "    break\n",
        "'''"
      ],
      "metadata": {
        "colab": {
          "base_uri": "https://localhost:8080/",
          "height": 147
        },
        "id": "q9HDciW_DR78",
        "outputId": "7e3db2d8-7b8e-46af-8cea-ed6fabf60c9b"
      },
      "execution_count": 28,
      "outputs": [
        {
          "output_type": "error",
          "ename": "SyntaxError",
          "evalue": "ignored",
          "traceback": [
            "\u001b[0;36m  File \u001b[0;32m\"<ipython-input-28-ef4c603b5d1a>\"\u001b[0;36m, line \u001b[0;32m1\u001b[0m\n\u001b[0;31m    '''\u001b[0m\n\u001b[0m    ^\u001b[0m\n\u001b[0;31mSyntaxError\u001b[0m\u001b[0;31m:\u001b[0m incomplete input\n"
          ]
        }
      ]
    },
    {
      "cell_type": "code",
      "source": [
        "#이진탐색\n",
        "left,right = 1,max(lans)\n",
        "\n",
        "while left<=right:\n",
        "  mid = (left+right)//2\n",
        "\n",
        "  result = 0\n",
        "  for lan in lans:\n",
        "    result += lan//mid\n",
        "\n",
        "  if result>=n:\n",
        "    left = mid+1\n",
        "  else:\n",
        "    right = mid-1\n",
        "print(right)"
      ],
      "metadata": {
        "colab": {
          "base_uri": "https://localhost:8080/"
        },
        "id": "EVCj5lDCD7pU",
        "outputId": "3977f7a2-530c-4877-c061-d950f4818ecb"
      },
      "execution_count": 38,
      "outputs": [
        {
          "output_type": "stream",
          "name": "stdout",
          "text": [
            "200\n"
          ]
        }
      ]
    }
  ]
}