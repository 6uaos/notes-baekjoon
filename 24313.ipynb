{
  "nbformat": 4,
  "nbformat_minor": 0,
  "metadata": {
    "colab": {
      "provenance": [],
      "authorship_tag": "ABX9TyMy3l7o1Y2eq364d5d5DYYS",
      "include_colab_link": true
    },
    "kernelspec": {
      "name": "python3",
      "display_name": "Python 3"
    },
    "language_info": {
      "name": "python"
    }
  },
  "cells": [
    {
      "cell_type": "markdown",
      "metadata": {
        "id": "view-in-github",
        "colab_type": "text"
      },
      "source": [
        "<a href=\"https://colab.research.google.com/github/uoahy-6uoas/notes-baekjoon/blob/main/24313.ipynb\" target=\"_parent\"><img src=\"https://colab.research.google.com/assets/colab-badge.svg\" alt=\"Open In Colab\"/></a>"
      ]
    },
    {
      "cell_type": "code",
      "source": [
        "a1,a0 = map(int,input().split()) #f(n)=a1*n+a0, g(n)=n\n",
        "c = int(input())\n",
        "n0 = int(input())\n",
        "\n",
        "if c==a1:\n",
        "  pt = n0\n",
        "else:\n",
        "  pt = a0/(c-a1) #교점"
      ],
      "metadata": {
        "colab": {
          "base_uri": "https://localhost:8080/"
        },
        "id": "gnXZvmtKe1Ps",
        "outputId": "780d4d1a-ebb7-4ce3-aae5-3456ae0384d3"
      },
      "execution_count": 22,
      "outputs": [
        {
          "name": "stdout",
          "output_type": "stream",
          "text": [
            " 7 7\n",
            "8\n",
            "10\n"
          ]
        }
      ]
    },
    {
      "cell_type": "code",
      "source": [
        "#a1*n+a0 <= c*n 을 만족 -> 1\n",
        "if a1*n0+a0 <= c*n0:\n",
        "  if a1*(pt+1)+a0 <= c*(pt+1):\n",
        "    answer = 1\n",
        "  else:\n",
        "    answer = 0 #NameError\n",
        "else:\n",
        "  answer = 0\n",
        "print(answer)\n",
        "# (ZeroDivisionError).. pt값 수정"
      ],
      "metadata": {
        "colab": {
          "base_uri": "https://localhost:8080/"
        },
        "id": "qkMVG-FQfB9L",
        "outputId": "84d965d1-b40e-430a-9e30-01cf63a5cadc"
      },
      "execution_count": 26,
      "outputs": [
        {
          "output_type": "stream",
          "name": "stdout",
          "text": [
            "1\n"
          ]
        }
      ]
    }
  ]
}