{
  "nbformat": 4,
  "nbformat_minor": 0,
  "metadata": {
    "colab": {
      "provenance": [],
      "authorship_tag": "ABX9TyMQicDsBy5ukic7IupGlKM7",
      "include_colab_link": true
    },
    "kernelspec": {
      "name": "python3",
      "display_name": "Python 3"
    },
    "language_info": {
      "name": "python"
    }
  },
  "cells": [
    {
      "cell_type": "markdown",
      "metadata": {
        "id": "view-in-github",
        "colab_type": "text"
      },
      "source": [
        "<a href=\"https://colab.research.google.com/github/uoahy-6uoas/notes-baekjoon/blob/main/1966.ipynb\" target=\"_parent\"><img src=\"https://colab.research.google.com/assets/colab-badge.svg\" alt=\"Open In Colab\"/></a>"
      ]
    },
    {
      "cell_type": "code",
      "source": [
        "t = int(input())"
      ],
      "metadata": {
        "id": "WFJygRrmFjnE",
        "colab": {
          "base_uri": "https://localhost:8080/"
        },
        "outputId": "49d86932-6944-4078-8060-b52532ea4416"
      },
      "execution_count": 1,
      "outputs": [
        {
          "name": "stdout",
          "output_type": "stream",
          "text": [
            "3\n"
          ]
        }
      ]
    },
    {
      "cell_type": "code",
      "source": [
        "from collections import deque\n",
        "for _ in range(t):\n",
        "  n,m = map(int,input().split())\n",
        "  nums = deque(map(int,input().split()))\n",
        "\n",
        "  maxx = max(nums)\n",
        "  cnt = 1\n",
        "\n",
        "  while nums:\n",
        "    if m==0:\n",
        "      if nums[0] == maxx:\n",
        "        print(cnt)\n",
        "        break\n",
        "      else:\n",
        "        nums.append(nums.popleft())\n",
        "        m = len(nums)-1\n",
        "    else:\n",
        "      if nums[0] == maxx:\n",
        "        nums.popleft()\n",
        "        if nums:\n",
        "          maxx = max(nums)\n",
        "        cnt+=1\n",
        "        m-=1\n",
        "      else:\n",
        "        nums.append(nums.popleft())\n",
        "        m-=1"
      ],
      "metadata": {
        "colab": {
          "base_uri": "https://localhost:8080/"
        },
        "id": "lFRlpyru2B0e",
        "outputId": "42d25c5c-f08b-4e22-a3f5-0f6ad9c973d3"
      },
      "execution_count": 11,
      "outputs": [
        {
          "output_type": "stream",
          "name": "stdout",
          "text": [
            "1 0\n",
            "5\n",
            "1\n",
            "4 2\n",
            "1 2 3 4\n",
            "2\n",
            "6 0\n",
            "1 1 9 1 1 1\n",
            "5\n"
          ]
        }
      ]
    }
  ]
}