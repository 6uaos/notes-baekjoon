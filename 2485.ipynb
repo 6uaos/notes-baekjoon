{
  "nbformat": 4,
  "nbformat_minor": 0,
  "metadata": {
    "colab": {
      "provenance": [],
      "authorship_tag": "ABX9TyMVgQSHMSRF2aMNLyKo6r38",
      "include_colab_link": true
    },
    "kernelspec": {
      "name": "python3",
      "display_name": "Python 3"
    },
    "language_info": {
      "name": "python"
    }
  },
  "cells": [
    {
      "cell_type": "markdown",
      "metadata": {
        "id": "view-in-github",
        "colab_type": "text"
      },
      "source": [
        "<a href=\"https://colab.research.google.com/github/uoahy-6uoas/notes-baekjoon/blob/main/2485.ipynb\" target=\"_parent\"><img src=\"https://colab.research.google.com/assets/colab-badge.svg\" alt=\"Open In Colab\"/></a>"
      ]
    },
    {
      "cell_type": "code",
      "source": [
        "n = int(input())\n",
        "trees = [0]\n",
        "dist = [] # 맨 앞에건 빼야함!\n",
        "for _ in range(n):\n",
        "  tmp = int(input())\n",
        "  dist.append(tmp-trees[-1])\n",
        "  trees.append(tmp)"
      ],
      "metadata": {
        "id": "2ynPgTTF9xfX",
        "colab": {
          "base_uri": "https://localhost:8080/"
        },
        "outputId": "0696a21d-9879-425d-835e-f193e4954bee"
      },
      "execution_count": null,
      "outputs": [
        {
          "name": "stdout",
          "output_type": "stream",
          "text": [
            "4\n",
            "1\n",
            "4\n",
            "10\n",
            "13\n"
          ]
        }
      ]
    },
    {
      "cell_type": "code",
      "source": [
        "def euclidean(a,b): #최대공약수 추출할 때 유용\n",
        "  if a%b==0:\n",
        "    return b\n",
        "  else:\n",
        "    return euclidean(b,a%b)"
      ],
      "metadata": {
        "id": "8TwJYAYU-AoQ"
      },
      "execution_count": null,
      "outputs": []
    },
    {
      "cell_type": "code",
      "source": [
        "result = euclidean(dist[1],dist[2])\n",
        "for i in range(3,n):\n",
        "  result = euclidean(result,dist[i])"
      ],
      "metadata": {
        "id": "Xu_feqWK-USw"
      },
      "execution_count": null,
      "outputs": []
    },
    {
      "cell_type": "code",
      "source": [
        "answer = 0\n",
        "for i in range(1,n):\n",
        "  answer += (dist[i]//result)-1"
      ],
      "metadata": {
        "id": "tKfVsrpgAL-J"
      },
      "execution_count": null,
      "outputs": []
    },
    {
      "cell_type": "code",
      "source": [
        "answer"
      ],
      "metadata": {
        "colab": {
          "base_uri": "https://localhost:8080/"
        },
        "id": "saAjd7ooAfw4",
        "outputId": "19d07c17-d07a-4064-dd94-ce6f93102270"
      },
      "execution_count": null,
      "outputs": [
        {
          "output_type": "execute_result",
          "data": {
            "text/plain": [
              "1"
            ]
          },
          "metadata": {},
          "execution_count": 31
        }
      ]
    },
    {
      "cell_type": "code",
      "source": [],
      "metadata": {
        "id": "mPOFOS7dAhHg"
      },
      "execution_count": null,
      "outputs": []
    }
  ]
}