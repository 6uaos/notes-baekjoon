{
  "nbformat": 4,
  "nbformat_minor": 0,
  "metadata": {
    "colab": {
      "provenance": [],
      "authorship_tag": "ABX9TyO3GD8UsLQNR69TbZlOsEYu",
      "include_colab_link": true
    },
    "kernelspec": {
      "name": "python3",
      "display_name": "Python 3"
    },
    "language_info": {
      "name": "python"
    }
  },
  "cells": [
    {
      "cell_type": "markdown",
      "metadata": {
        "id": "view-in-github",
        "colab_type": "text"
      },
      "source": [
        "<a href=\"https://colab.research.google.com/github/uoahy-6uoas/notes-baekjoon/blob/main/10814.ipynb\" target=\"_parent\"><img src=\"https://colab.research.google.com/assets/colab-badge.svg\" alt=\"Open In Colab\"/></a>"
      ]
    },
    {
      "cell_type": "code",
      "source": [
        "n = int(input())"
      ],
      "metadata": {
        "id": "w03ZoqaLG0-J",
        "colab": {
          "base_uri": "https://localhost:8080/"
        },
        "outputId": "0d6de7ae-6594-45c7-f407-60d261f703d0"
      },
      "execution_count": 1,
      "outputs": [
        {
          "name": "stdout",
          "output_type": "stream",
          "text": [
            "5\n"
          ]
        }
      ]
    },
    {
      "cell_type": "code",
      "source": [
        "members = []\n",
        "for _ in range(n):\n",
        "  tmp_age, tmp_name = map(str, input().split())\n",
        "  members.append([int(tmp_age),tmp_name])"
      ],
      "metadata": {
        "colab": {
          "base_uri": "https://localhost:8080/"
        },
        "id": "Lh1_pNEmezA4",
        "outputId": "70b740cc-def3-4d0d-bc0a-739ef3bdaa22"
      },
      "execution_count": 9,
      "outputs": [
        {
          "name": "stdout",
          "output_type": "stream",
          "text": [
            "21 Junkyu\n",
            "21 Dohyun\n",
            "20 Sunyoung\n",
            "20 Sunyoung2\n",
            "20 Sunyoung1\n"
          ]
        }
      ]
    },
    {
      "cell_type": "code",
      "source": [
        "for i in sorted(members,key = lambda x : x[0]): #lambda 쓰임좀 알아봐야할 듯 하다\n",
        "  print(f\"{i[0]} {i[1]}\")\n",
        "#시간 아슬아슬하게 통과"
      ],
      "metadata": {
        "colab": {
          "base_uri": "https://localhost:8080/"
        },
        "id": "QGTdaXr2fGhG",
        "outputId": "ff3d13c9-2839-4920-889f-4cb776c9acf4"
      },
      "execution_count": 13,
      "outputs": [
        {
          "output_type": "stream",
          "name": "stdout",
          "text": [
            "20 Sunyoung\n",
            "20 Sunyoung2\n",
            "20 Sunyoung1\n",
            "21 Junkyu\n",
            "21 Dohyun\n"
          ]
        }
      ]
    }
  ]
}