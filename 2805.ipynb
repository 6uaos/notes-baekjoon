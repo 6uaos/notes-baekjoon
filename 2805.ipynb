{
  "nbformat": 4,
  "nbformat_minor": 0,
  "metadata": {
    "colab": {
      "provenance": [],
      "authorship_tag": "ABX9TyPNVig2VbLEBWhQ1oTHwP5M",
      "include_colab_link": true
    },
    "kernelspec": {
      "name": "python3",
      "display_name": "Python 3"
    },
    "language_info": {
      "name": "python"
    }
  },
  "cells": [
    {
      "cell_type": "markdown",
      "metadata": {
        "id": "view-in-github",
        "colab_type": "text"
      },
      "source": [
        "<a href=\"https://colab.research.google.com/github/6uaos/notes-baekjoon/blob/main/2805.ipynb\" target=\"_parent\"><img src=\"https://colab.research.google.com/assets/colab-badge.svg\" alt=\"Open In Colab\"/></a>"
      ]
    },
    {
      "cell_type": "code",
      "source": [
        "n,m = map(int,input().split()) # 나무수, 가져갈 높이\n",
        "h = list(map(int,input().split()))"
      ],
      "metadata": {
        "colab": {
          "base_uri": "https://localhost:8080/"
        },
        "id": "0WSZOF1KSRkh",
        "outputId": "170d9bbc-e036-41b5-e5fb-ce653d2983ef"
      },
      "execution_count": 5,
      "outputs": [
        {
          "name": "stdout",
          "output_type": "stream",
          "text": [
            "4 7\n",
            "20 15 10 17\n"
          ]
        }
      ]
    },
    {
      "cell_type": "code",
      "source": [
        "start, end = 1, max(h)\n",
        "while start <= end:\n",
        "  mid = (start+end)//2\n",
        "  target = 0\n",
        "\n",
        "  for tree in h:\n",
        "    if tree > mid:\n",
        "      target+= tree-mid\n",
        "\n",
        "  if target >= m:\n",
        "    start = mid+1\n",
        "  else:\n",
        "    end = mid-1"
      ],
      "metadata": {
        "id": "0r9nlFQrTk22"
      },
      "execution_count": 6,
      "outputs": []
    },
    {
      "cell_type": "code",
      "source": [
        "print(end)"
      ],
      "metadata": {
        "colab": {
          "base_uri": "https://localhost:8080/"
        },
        "id": "r-ImMOQaVrS6",
        "outputId": "a1ae27ac-e16d-43b7-8c82-e867b777e3a2"
      },
      "execution_count": 7,
      "outputs": [
        {
          "output_type": "stream",
          "name": "stdout",
          "text": [
            "15\n"
          ]
        }
      ]
    }
  ]
}