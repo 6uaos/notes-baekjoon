{
  "nbformat": 4,
  "nbformat_minor": 0,
  "metadata": {
    "colab": {
      "provenance": [],
      "authorship_tag": "ABX9TyN7GhVbU9ZEjBlQjYnvbs8r",
      "include_colab_link": true
    },
    "kernelspec": {
      "name": "python3",
      "display_name": "Python 3"
    },
    "language_info": {
      "name": "python"
    }
  },
  "cells": [
    {
      "cell_type": "markdown",
      "metadata": {
        "id": "view-in-github",
        "colab_type": "text"
      },
      "source": [
        "<a href=\"https://colab.research.google.com/github/6uaos/notes-baekjoon/blob/main/2579.ipynb\" target=\"_parent\"><img src=\"https://colab.research.google.com/assets/colab-badge.svg\" alt=\"Open In Colab\"/></a>"
      ]
    },
    {
      "cell_type": "code",
      "source": [
        "n = int(input())\n",
        "steps = [0] * (n+1)\n",
        "for i in range(1, n+1):\n",
        "    steps[i] = int(input())"
      ],
      "metadata": {
        "colab": {
          "base_uri": "https://localhost:8080/"
        },
        "id": "9CZUIRCoYHkD",
        "outputId": "07f1e006-ff1f-4b5a-e2ba-5ecb7109b31b"
      },
      "execution_count": 7,
      "outputs": [
        {
          "name": "stdout",
          "output_type": "stream",
          "text": [
            "6\n",
            "10\n",
            "20\n",
            "15\n",
            "25\n",
            "10\n",
            "20\n"
          ]
        }
      ]
    },
    {
      "cell_type": "code",
      "source": [
        "result = [0] * (n+1)\n",
        "result[1] = steps[1]\n",
        "try:\n",
        "  result[2] = steps[1]+steps[2]\n",
        "  result[3] = max(steps[1] + steps[3], steps[2] + steps[3])\n",
        "except:\n",
        "  pass"
      ],
      "metadata": {
        "id": "rb83wOpMYVU2"
      },
      "execution_count": 8,
      "outputs": []
    },
    {
      "cell_type": "code",
      "source": [
        "for i in range(4, n+1):\n",
        "    result[i] = max(result[i-3]+steps[i-1]+steps[i], result[i-2]+steps[i])\n",
        "\n",
        "print(result[n])"
      ],
      "metadata": {
        "colab": {
          "base_uri": "https://localhost:8080/"
        },
        "id": "4a9FmFPhYiiP",
        "outputId": "7476af3e-38f6-436d-f1f4-b936a483d051"
      },
      "execution_count": 9,
      "outputs": [
        {
          "output_type": "stream",
          "name": "stdout",
          "text": [
            "75\n"
          ]
        }
      ]
    }
  ]
}