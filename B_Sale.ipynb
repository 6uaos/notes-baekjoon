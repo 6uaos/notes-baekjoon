{
  "nbformat": 4,
  "nbformat_minor": 0,
  "metadata": {
    "colab": {
      "provenance": [],
      "authorship_tag": "ABX9TyNGXsYWG6mcbPpp+ZqBxhYf",
      "include_colab_link": true
    },
    "kernelspec": {
      "name": "python3",
      "display_name": "Python 3"
    },
    "language_info": {
      "name": "python"
    }
  },
  "cells": [
    {
      "cell_type": "markdown",
      "metadata": {
        "id": "view-in-github",
        "colab_type": "text"
      },
      "source": [
        "<a href=\"https://colab.research.google.com/github/uoahy-6uoas/notes-codeforces/blob/main/B_Sale.ipynb\" target=\"_parent\"><img src=\"https://colab.research.google.com/assets/colab-badge.svg\" alt=\"Open In Colab\"/></a>"
      ]
    },
    {
      "cell_type": "markdown",
      "source": [
        "Once Bob got to a sale of old TV sets. There were n TV sets at that sale. TV set with index i costs ai bellars. Some TV sets have a negative price — their owners are ready to pay Bob if he buys their useless apparatus. Bob can «buy» any TV sets he wants. Though he's very strong, Bob can carry at most m TV sets, and he has no desire to go to the sale for the second time. Please, help Bob find out the maximum sum of money that he can earn.\n",
        "\n",
        "---\n",
        "\n",
        "Input\n",
        "\n",
        "The first line contains two space-separated integers n and m (1 ≤ m ≤ n ≤ 100) — amount of TV sets at the sale, and amount of TV sets that Bob can carry. The following line contains n space-separated integers ai ( - 1000 ≤ ai ≤ 1000) — prices of the TV sets.\n",
        "\n",
        "---\n",
        "\n",
        "Output\n",
        "\n",
        "Output the only number — the maximum sum of money that Bob can earn, given that he can carry at most m TV sets."
      ],
      "metadata": {
        "id": "BrQ7Zp3w6KsS"
      }
    },
    {
      "cell_type": "code",
      "source": [
        "n, m = map(int,input().split())\n",
        "tv_costs = list(map(int, input().split()))"
      ],
      "metadata": {
        "id": "1t6TSNJE5bje"
      },
      "execution_count": null,
      "outputs": []
    },
    {
      "cell_type": "code",
      "source": [
        "\n",
        "tv_costs.sort()\n",
        "result = 0\n",
        "\n",
        "for cost in tv_costs[:m]:\n",
        "  if result < result-cost:\n",
        "    result -= cost\n",
        "\n",
        "print(result)"
      ],
      "metadata": {
        "id": "-xCZYxJH6IfZ"
      },
      "execution_count": null,
      "outputs": []
    }
  ]
}