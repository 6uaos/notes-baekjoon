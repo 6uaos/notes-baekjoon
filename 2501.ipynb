{
  "nbformat": 4,
  "nbformat_minor": 0,
  "metadata": {
    "colab": {
      "provenance": [],
      "authorship_tag": "ABX9TyNQwaLHF185tMFN9e/FCalU",
      "include_colab_link": true
    },
    "kernelspec": {
      "name": "python3",
      "display_name": "Python 3"
    },
    "language_info": {
      "name": "python"
    }
  },
  "cells": [
    {
      "cell_type": "markdown",
      "metadata": {
        "id": "view-in-github",
        "colab_type": "text"
      },
      "source": [
        "<a href=\"https://colab.research.google.com/github/uoahy-6uoas/notes-baekjoon/blob/main/2501.ipynb\" target=\"_parent\"><img src=\"https://colab.research.google.com/assets/colab-badge.svg\" alt=\"Open In Colab\"/></a>"
      ]
    },
    {
      "cell_type": "code",
      "source": [
        "n,k = map(int,input().split())\n",
        "\n",
        "flag=True\n",
        "for i in range(1,n+1):\n",
        "  if n%i==0:\n",
        "    k-=1\n",
        "  if k==0:\n",
        "    print(i)\n",
        "    flag=False\n",
        "    break\n",
        "if flag: print(0)"
      ],
      "metadata": {
        "colab": {
          "base_uri": "https://localhost:8080/"
        },
        "id": "Rf19MH60NSIV",
        "outputId": "fee31bc3-89d0-4cc6-8152-ea26bc634ed7"
      },
      "execution_count": 7,
      "outputs": [
        {
          "output_type": "stream",
          "name": "stdout",
          "text": [
            "6 3\n",
            "3\n"
          ]
        }
      ]
    }
  ]
}