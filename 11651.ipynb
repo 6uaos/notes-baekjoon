{
  "nbformat": 4,
  "nbformat_minor": 0,
  "metadata": {
    "colab": {
      "provenance": [],
      "authorship_tag": "ABX9TyPe/pkcW8UJzyFGEoe83UKL",
      "include_colab_link": true
    },
    "kernelspec": {
      "name": "python3",
      "display_name": "Python 3"
    },
    "language_info": {
      "name": "python"
    }
  },
  "cells": [
    {
      "cell_type": "markdown",
      "metadata": {
        "id": "view-in-github",
        "colab_type": "text"
      },
      "source": [
        "<a href=\"https://colab.research.google.com/github/uoahy-6uoas/notes-baekjoon/blob/main/11651.ipynb\" target=\"_parent\"><img src=\"https://colab.research.google.com/assets/colab-badge.svg\" alt=\"Open In Colab\"/></a>"
      ]
    },
    {
      "cell_type": "code",
      "source": [
        "n = int(input())\n",
        "xy = []\n",
        "for _ in range(n):\n",
        "  x_tmp, y_tmp = map(int, input().split())\n",
        "  xy.append([y_tmp,x_tmp])\n",
        "\n",
        "xy.sort()\n",
        "for i in xy:\n",
        "  print(f'{i[1]} {i[0]}')"
      ],
      "metadata": {
        "id": "w03ZoqaLG0-J"
      },
      "execution_count": null,
      "outputs": []
    }
  ]
}