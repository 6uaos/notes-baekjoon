{
  "nbformat": 4,
  "nbformat_minor": 0,
  "metadata": {
    "colab": {
      "provenance": [],
      "authorship_tag": "ABX9TyP95W5MPCcrJDZpFrEljWOc",
      "include_colab_link": true
    },
    "kernelspec": {
      "name": "python3",
      "display_name": "Python 3"
    },
    "language_info": {
      "name": "python"
    }
  },
  "cells": [
    {
      "cell_type": "markdown",
      "metadata": {
        "id": "view-in-github",
        "colab_type": "text"
      },
      "source": [
        "<a href=\"https://colab.research.google.com/github/uoahy-6uoas/notes-baekjoon/blob/main/2346.ipynb\" target=\"_parent\"><img src=\"https://colab.research.google.com/assets/colab-badge.svg\" alt=\"Open In Colab\"/></a>"
      ]
    },
    {
      "cell_type": "code",
      "source": [
        "#import sys\n",
        "#input = sys.stdin.readline\n",
        "\n",
        "from collections import deque\n",
        "\n",
        "n = int(input())\n",
        "circle = deque(enumerate(map(int, input().split())))"
      ],
      "metadata": {
        "colab": {
          "base_uri": "https://localhost:8080/"
        },
        "id": "N-1qBGLONpFd",
        "outputId": "a9e4a89f-43ec-45f5-ab24-b5295b639684"
      },
      "execution_count": 45,
      "outputs": [
        {
          "name": "stdout",
          "output_type": "stream",
          "text": [
            "5\n",
            "3 2 1 -3 -1\n"
          ]
        }
      ]
    },
    {
      "cell_type": "code",
      "source": [
        "result = []\n",
        "\n",
        "while circle:\n",
        "  rank, move = circle.popleft()\n",
        "  result.append(rank+1)\n",
        "\n",
        "  #rotate 시계방향+\n",
        "\n",
        "  if move>0: circle.rotate(-move+1)\n",
        "  else: circle.rotate(-move)"
      ],
      "metadata": {
        "colab": {
          "base_uri": "https://localhost:8080/"
        },
        "id": "pYvcrcFusK48",
        "outputId": "1d05f847-536e-4dfd-e4eb-0ed6e74fafc5"
      },
      "execution_count": 51,
      "outputs": [
        {
          "output_type": "stream",
          "name": "stdout",
          "text": [
            "deque([(3, -3), (4, -1), (1, 2), (2, 1)])\n",
            "deque([(4, -1), (1, 2), (2, 1)])\n",
            "deque([(2, 1), (1, 2)])\n",
            "deque([(1, 2)])\n",
            "deque([])\n"
          ]
        }
      ]
    },
    {
      "cell_type": "code",
      "source": [
        "print(' '.join(map(str,result)))"
      ],
      "metadata": {
        "colab": {
          "base_uri": "https://localhost:8080/"
        },
        "id": "L6v6s-Mksi1H",
        "outputId": "e044cd3f-4d66-412b-fd78-83539419d9e8"
      },
      "execution_count": 55,
      "outputs": [
        {
          "output_type": "stream",
          "name": "stdout",
          "text": [
            "1 4 5 3 2\n"
          ]
        }
      ]
    }
  ]
}