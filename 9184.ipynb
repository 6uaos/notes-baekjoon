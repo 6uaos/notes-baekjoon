{
  "nbformat": 4,
  "nbformat_minor": 0,
  "metadata": {
    "colab": {
      "provenance": [],
      "authorship_tag": "ABX9TyMX4TH3EMo33fg5dbT8Xn4j",
      "include_colab_link": true
    },
    "kernelspec": {
      "name": "python3",
      "display_name": "Python 3"
    },
    "language_info": {
      "name": "python"
    }
  },
  "cells": [
    {
      "cell_type": "markdown",
      "metadata": {
        "id": "view-in-github",
        "colab_type": "text"
      },
      "source": [
        "<a href=\"https://colab.research.google.com/github/6uaos/notes-baekjoon/blob/main/9184.ipynb\" target=\"_parent\"><img src=\"https://colab.research.google.com/assets/colab-badge.svg\" alt=\"Open In Colab\"/></a>"
      ]
    },
    {
      "cell_type": "code",
      "source": [
        "result = [[[None]*21 for _ in range(21)] for _ in range(21)]"
      ],
      "metadata": {
        "id": "IJXnbSNhQHvF"
      },
      "execution_count": 10,
      "outputs": []
    },
    {
      "cell_type": "code",
      "source": [
        "def w(a,b,c):\n",
        "  if a<=0 or b<=0 or c<=0:\n",
        "    return 1\n",
        "  if a>20 or b>20 or c>20:\n",
        "    return w(20,20,20)\n",
        "\n",
        "  if result[a][b][c] != None:\n",
        "    return result[a][b][c]\n",
        "\n",
        "  if a<b and b<c:\n",
        "    result[a][b][c] =  w(a,b,c-1) + w(a,b-1,c-1) - w(a,b-1,c)\n",
        "    return result[a][b][c]\n",
        "  else:\n",
        "    result[a][b][c] =  w(a-1,b,c) + w(a-1,b-1,c) + w(a-1,b,c-1) - w(a-1,b-1,c-1)\n",
        "    return result[a][b][c]"
      ],
      "metadata": {
        "id": "18KMLDClD3HA"
      },
      "execution_count": 11,
      "outputs": []
    },
    {
      "cell_type": "code",
      "source": [
        "while True:\n",
        "  a,b,c = map(int,input().split())\n",
        "  if a==-1 and b==-1 and c==-1:\n",
        "    break\n",
        "\n",
        "  print(f\"w({a}, {b}, {c}) = {w(a,b,c)}\")"
      ],
      "metadata": {
        "colab": {
          "base_uri": "https://localhost:8080/"
        },
        "id": "RQQ70HydE-0T",
        "outputId": "0eaf2ea0-9d5c-4a0a-d9e2-887ed927af2a"
      },
      "execution_count": 12,
      "outputs": [
        {
          "name": "stdout",
          "output_type": "stream",
          "text": [
            "1 1 1\n",
            "w(1, 1, 1) = 2\n",
            "2 2 2 \n",
            "w(2, 2, 2) = 4\n",
            "10 4 6\n",
            "w(10, 4, 6) = 523\n",
            "50 50 50\n",
            "w(50, 50, 50) = 1048576\n",
            "-1 7 18\n",
            "w(-1, 7, 18) = 1\n",
            "-1 -1 -1\n"
          ]
        }
      ]
    }
  ]
}