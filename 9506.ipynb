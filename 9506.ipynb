{
  "nbformat": 4,
  "nbformat_minor": 0,
  "metadata": {
    "colab": {
      "provenance": [],
      "authorship_tag": "ABX9TyPbZKJIQYp9DEEqS03UjfJz",
      "include_colab_link": true
    },
    "kernelspec": {
      "name": "python3",
      "display_name": "Python 3"
    },
    "language_info": {
      "name": "python"
    }
  },
  "cells": [
    {
      "cell_type": "markdown",
      "metadata": {
        "id": "view-in-github",
        "colab_type": "text"
      },
      "source": [
        "<a href=\"https://colab.research.google.com/github/uoahy-6uoas/notes-baekjoon/blob/main/9506.ipynb\" target=\"_parent\"><img src=\"https://colab.research.google.com/assets/colab-badge.svg\" alt=\"Open In Colab\"/></a>"
      ]
    },
    {
      "cell_type": "code",
      "source": [
        "while True:\n",
        "  n = int(input())\n",
        "  if n==-1: break\n",
        "\n",
        "  factors = []\n",
        "  result = 0\n",
        "  for i in range(1,n):\n",
        "    if n%i==0:\n",
        "      factors.append(i)\n",
        "      result += i\n",
        "  if result == n:\n",
        "    print(f\"{n} = \",end='')\n",
        "    for i in range(len(factors)-1):\n",
        "      print(f\"{factors[i]} + \",end='')\n",
        "    print(factors[-1])\n",
        "  else:\n",
        "    print(f\"{n} is NOT perfect.\")"
      ],
      "metadata": {
        "colab": {
          "base_uri": "https://localhost:8080/"
        },
        "id": "Rf19MH60NSIV",
        "outputId": "c4be53e8-3460-4cca-a4e7-6adfa5045926"
      },
      "execution_count": 10,
      "outputs": [
        {
          "name": "stdout",
          "output_type": "stream",
          "text": [
            "6\n",
            "6 = 1 + 2 + 3\n",
            "12\n",
            "12 is NOT perfect.\n",
            "28\n",
            "28 = 1 + 2 + 4 + 7 + 14\n",
            "-1\n"
          ]
        }
      ]
    }
  ]
}