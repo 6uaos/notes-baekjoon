{
  "nbformat": 4,
  "nbformat_minor": 0,
  "metadata": {
    "colab": {
      "provenance": [],
      "authorship_tag": "ABX9TyMHcxmciBjwZgYeOXzpez1l",
      "include_colab_link": true
    },
    "kernelspec": {
      "name": "python3",
      "display_name": "Python 3"
    },
    "language_info": {
      "name": "python"
    }
  },
  "cells": [
    {
      "cell_type": "markdown",
      "metadata": {
        "id": "view-in-github",
        "colab_type": "text"
      },
      "source": [
        "<a href=\"https://colab.research.google.com/github/uoahy-6uoas/notes-baekjoon/blob/main/20920.ipynb\" target=\"_parent\"><img src=\"https://colab.research.google.com/assets/colab-badge.svg\" alt=\"Open In Colab\"/></a>"
      ]
    },
    {
      "cell_type": "code",
      "source": [
        "n,m = map(int,input().split())"
      ],
      "metadata": {
        "colab": {
          "base_uri": "https://localhost:8080/"
        },
        "id": "acO-NgF3pkKc",
        "outputId": "235f20f7-aea7-4ce5-dd60-922ea7548f2c"
      },
      "execution_count": 84,
      "outputs": [
        {
          "name": "stdout",
          "output_type": "stream",
          "text": [
            "12 5\n"
          ]
        }
      ]
    },
    {
      "cell_type": "code",
      "source": [
        "words = dict()\n",
        "for _ in range(n):\n",
        "  word = input()\n",
        "  if len(word) >= m:\n",
        "    if word in words:\n",
        "      words[word] += 1\n",
        "    else:\n",
        "      words[word] = 1"
      ],
      "metadata": {
        "colab": {
          "base_uri": "https://localhost:8080/"
        },
        "id": "_mABgBRmpn8B",
        "outputId": "348b4031-1b93-49f0-e7e4-c21ce541adcc"
      },
      "execution_count": 85,
      "outputs": [
        {
          "name": "stdout",
          "output_type": "stream",
          "text": [
            "apearance\n",
            "append\n",
            "attendance\n",
            "swim\n",
            "swift\n",
            "swift\n",
            "swift\n",
            "mouse\n",
            "wallet\n",
            "mouse\n",
            "ice\n",
            "age\n"
          ]
        }
      ]
    },
    {
      "cell_type": "code",
      "source": [
        "freq = dict()\n",
        "\n",
        "for word in words:\n",
        "  if words[word] in freq:\n",
        "    freq[words[word]].append(word)\n",
        "  else:\n",
        "    freq[words[word]] = [word]\n",
        "\n",
        "freq = sorted(freq.items(),reverse=True)"
      ],
      "metadata": {
        "id": "na_plBx0rU62"
      },
      "execution_count": 86,
      "outputs": []
    },
    {
      "cell_type": "code",
      "source": [
        "for freq_words in freq:\n",
        "  leng = {}\n",
        "  for word in freq_words[1]:\n",
        "    if len(word) not in leng:\n",
        "      leng[len(word)] = [word]\n",
        "    else:\n",
        "      leng[len(word)].append(word)\n",
        "  leng = sorted(leng.items(),reverse=True)\n",
        "  for j in leng:\n",
        "    j[1].sort()\n",
        "    for result in j[1]:\n",
        "      print(result)"
      ],
      "metadata": {
        "colab": {
          "base_uri": "https://localhost:8080/"
        },
        "id": "PEObvCt_r9v6",
        "outputId": "b8b73e67-b8ff-42cf-bf28-9cc3b77d09c5"
      },
      "execution_count": 87,
      "outputs": [
        {
          "output_type": "stream",
          "name": "stdout",
          "text": [
            "swift\n",
            "mouse\n",
            "attendance\n",
            "apearance\n",
            "append\n",
            "wallet\n"
          ]
        }
      ]
    }
  ]
}