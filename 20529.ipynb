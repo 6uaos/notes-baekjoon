{
  "nbformat": 4,
  "nbformat_minor": 0,
  "metadata": {
    "colab": {
      "provenance": [],
      "authorship_tag": "ABX9TyPEoW2pjaz0qI1P3J8bKiWo",
      "include_colab_link": true
    },
    "kernelspec": {
      "name": "python3",
      "display_name": "Python 3"
    },
    "language_info": {
      "name": "python"
    }
  },
  "cells": [
    {
      "cell_type": "markdown",
      "metadata": {
        "id": "view-in-github",
        "colab_type": "text"
      },
      "source": [
        "<a href=\"https://colab.research.google.com/github/6uaos/notes-baekjoon/blob/main/20529.ipynb\" target=\"_parent\"><img src=\"https://colab.research.google.com/assets/colab-badge.svg\" alt=\"Open In Colab\"/></a>"
      ]
    },
    {
      "cell_type": "code",
      "source": [
        "t = int(input())"
      ],
      "metadata": {
        "colab": {
          "base_uri": "https://localhost:8080/"
        },
        "id": "A9joHmT0k3Ro",
        "outputId": "b353bc5f-b540-4c0c-f510-3b402c95b6e0"
      },
      "execution_count": 1,
      "outputs": [
        {
          "name": "stdout",
          "output_type": "stream",
          "text": [
            "3\n"
          ]
        }
      ]
    },
    {
      "cell_type": "code",
      "source": [
        "from itertools import combinations\n",
        "\n",
        "for _ in range(t):\n",
        "  n = int(input())\n",
        "  mbtis = list(map(str,input().split()))\n",
        "\n",
        "  result = float('inf')\n",
        "\n",
        "  if n > 32: #머리가 나쁘면 손이 고생..\n",
        "    print(0)\n",
        "  else:\n",
        "    for target in combinations(mbtis,3):\n",
        "      tmp = 0\n",
        "      if target[0][0] != target[1][0]:\n",
        "        tmp+=1\n",
        "      if target[0][0] != target[2][0]:\n",
        "        tmp+=1\n",
        "      if target[1][0] != target[2][0]:\n",
        "        tmp+=1\n",
        "\n",
        "      if target[0][1] != target[1][1]:\n",
        "        tmp+=1\n",
        "      if target[0][1] != target[2][1]:\n",
        "        tmp+=1\n",
        "      if target[1][1] != target[2][1]:\n",
        "        tmp+=1\n",
        "\n",
        "      if target[0][2] != target[1][2]:\n",
        "        tmp+=1\n",
        "      if target[0][2] != target[2][2]:\n",
        "        tmp+=1\n",
        "      if target[1][2] != target[2][2]:\n",
        "        tmp+=1\n",
        "\n",
        "      if target[0][3] != target[1][3]:\n",
        "        tmp+=1\n",
        "      if target[0][3] != target[2][3]:\n",
        "        tmp+=1\n",
        "      if target[1][3] != target[2][3]:\n",
        "        tmp+=1\n",
        "\n",
        "      if tmp < result:\n",
        "        result = tmp\n",
        "      if tmp == 0:\n",
        "        break\n",
        "\n",
        "    print(result)"
      ],
      "metadata": {
        "colab": {
          "base_uri": "https://localhost:8080/"
        },
        "id": "5Y6zU6dyk599",
        "outputId": "52023546-955a-4fd8-89f1-62e8089c7cca"
      },
      "execution_count": 13,
      "outputs": [
        {
          "output_type": "stream",
          "name": "stdout",
          "text": [
            "3\n",
            "ENTJ INTP ESFJ\n",
            "8\n",
            "4\n",
            "ESFP ESFP ESFP ESFP\n",
            "0\n",
            "5\n",
            "INFP INFP ESTP ESTJ ISTJ\n",
            "4\n"
          ]
        }
      ]
    }
  ]
}