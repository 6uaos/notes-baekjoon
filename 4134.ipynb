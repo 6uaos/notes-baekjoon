{
  "nbformat": 4,
  "nbformat_minor": 0,
  "metadata": {
    "colab": {
      "provenance": [],
      "authorship_tag": "ABX9TyN+Eivy3s8AKCmNYZLqkWu2",
      "include_colab_link": true
    },
    "kernelspec": {
      "name": "python3",
      "display_name": "Python 3"
    },
    "language_info": {
      "name": "python"
    }
  },
  "cells": [
    {
      "cell_type": "markdown",
      "metadata": {
        "id": "view-in-github",
        "colab_type": "text"
      },
      "source": [
        "<a href=\"https://colab.research.google.com/github/uoahy-6uoas/notes-baekjoon/blob/main/4134.ipynb\" target=\"_parent\"><img src=\"https://colab.research.google.com/assets/colab-badge.svg\" alt=\"Open In Colab\"/></a>"
      ]
    },
    {
      "cell_type": "code",
      "source": [
        "n = int(input())"
      ],
      "metadata": {
        "id": "2ynPgTTF9xfX",
        "colab": {
          "base_uri": "https://localhost:8080/"
        },
        "outputId": "b23e1358-7031-4682-a726-dc3a819b1b5b"
      },
      "execution_count": 32,
      "outputs": [
        {
          "name": "stdout",
          "output_type": "stream",
          "text": [
            "4\n"
          ]
        }
      ]
    },
    {
      "cell_type": "code",
      "source": [
        "for _ in range(n):\n",
        "  quest = int(input())\n",
        "  if quest==2 or quest==1 or quest==0:\n",
        "    print(2)\n",
        "    continue\n",
        "  elif quest%2 == 0:\n",
        "    quest+=1\n",
        "  #quest를 홀수로 만들어주고\n",
        "\n",
        "  while 1:\n",
        "    i = 3\n",
        "    flag = False\n",
        "    while i**2<=quest:\n",
        "      if quest%i==0:\n",
        "        flag = True\n",
        "        break\n",
        "      i+=2\n",
        "    if not flag:\n",
        "      print(quest)\n",
        "      break\n",
        "    quest+=2"
      ],
      "metadata": {
        "id": "mPOFOS7dAhHg",
        "colab": {
          "base_uri": "https://localhost:8080/"
        },
        "outputId": "09e36c6e-6bda-4995-e97d-dd5d5b146345"
      },
      "execution_count": 46,
      "outputs": [
        {
          "output_type": "stream",
          "name": "stdout",
          "text": [
            "1\n",
            "2\n",
            "2\n",
            "2\n",
            "0\n",
            "2\n",
            "3\n",
            "3\n"
          ]
        }
      ]
    },
    {
      "cell_type": "code",
      "source": [],
      "metadata": {
        "id": "OYb7z7J4GSi-"
      },
      "execution_count": null,
      "outputs": []
    }
  ]
}