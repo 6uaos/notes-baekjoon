{
  "nbformat": 4,
  "nbformat_minor": 0,
  "metadata": {
    "colab": {
      "provenance": [],
      "authorship_tag": "ABX9TyP01EBlxjsj/gfCmL7l5Cxg",
      "include_colab_link": true
    },
    "kernelspec": {
      "name": "python3",
      "display_name": "Python 3"
    },
    "language_info": {
      "name": "python"
    }
  },
  "cells": [
    {
      "cell_type": "markdown",
      "metadata": {
        "id": "view-in-github",
        "colab_type": "text"
      },
      "source": [
        "<a href=\"https://colab.research.google.com/github/uoahy-6uoas/notes-baekjoon/blob/main/28279.ipynb\" target=\"_parent\"><img src=\"https://colab.research.google.com/assets/colab-badge.svg\" alt=\"Open In Colab\"/></a>"
      ]
    },
    {
      "cell_type": "code",
      "source": [
        "n = int(input())"
      ],
      "metadata": {
        "colab": {
          "base_uri": "https://localhost:8080/"
        },
        "id": "yA9h5BAyGte8",
        "outputId": "c78ca280-b4b3-4a04-9d3e-e08251e2c260"
      },
      "execution_count": 21,
      "outputs": [
        {
          "name": "stdout",
          "output_type": "stream",
          "text": [
            "11\n"
          ]
        }
      ]
    },
    {
      "cell_type": "code",
      "source": [
        "from collections import deque\n",
        "\n",
        "class Deque:\n",
        "\n",
        "  def __init__(self):\n",
        "    self.deque = deque([])\n",
        "\n",
        "  def one(self,x) -> None:\n",
        "    self.deque.appendleft(x)\n",
        "\n",
        "  def two(self,x) -> None:\n",
        "    self.deque.append(x)\n",
        "\n",
        "  def three(self) -> int:\n",
        "    if self.deque:\n",
        "      return self.deque.popleft()\n",
        "    else:\n",
        "      return -1\n",
        "\n",
        "  def four(self) -> int:\n",
        "    if self.deque:\n",
        "      return self.deque.pop()\n",
        "    else:\n",
        "      return -1\n",
        "\n",
        "  def five(self) -> int:\n",
        "    return len(self.deque)\n",
        "\n",
        "  def six(self) -> int:\n",
        "    if self.deque:\n",
        "      return 0\n",
        "    else:\n",
        "      return 1\n",
        "\n",
        "  def seven(self) -> int:\n",
        "    if self.deque:\n",
        "      return self.deque[0]\n",
        "    else:\n",
        "      return -1\n",
        "\n",
        "  def eight(self) -> int:\n",
        "    if self.deque:\n",
        "      return self.deque[-1]\n",
        "    else:\n",
        "      return -1"
      ],
      "metadata": {
        "id": "MLeSWingGw5u"
      },
      "execution_count": 25,
      "outputs": []
    },
    {
      "cell_type": "code",
      "source": [
        "deque = Deque()\n",
        "\n",
        "for _ in range(n):\n",
        "  command = input().split()\n",
        "  if command[0] == '1':\n",
        "    deque.one(command[1])\n",
        "  elif command[0] == '2':\n",
        "    deque.two(command[1])\n",
        "  elif command[0] == '3':\n",
        "    print(deque.three())\n",
        "  elif command[0] == '4':\n",
        "    print(deque.four())\n",
        "  elif command[0] == '5':\n",
        "    print(deque.five())\n",
        "  elif command[0] == '6':\n",
        "    print(deque.six())\n",
        "  elif command[0] == '7':\n",
        "    print(deque.seven())\n",
        "  elif command[0] == '8':\n",
        "    print(deque.eight())"
      ],
      "metadata": {
        "colab": {
          "base_uri": "https://localhost:8080/"
        },
        "id": "OHwEgGGfIAap",
        "outputId": "481fe2f2-5d81-4b19-a06f-6d2391257ced"
      },
      "execution_count": 26,
      "outputs": [
        {
          "output_type": "stream",
          "name": "stdout",
          "text": [
            "6\n",
            "1\n",
            "1 3\n",
            "1 8\n",
            "7\n",
            "8\n",
            "8\n",
            "3\n",
            "3\n",
            "8\n",
            "2 5\n",
            "1 2\n",
            "5\n",
            "3\n",
            "4\n",
            "5\n",
            "4\n",
            "3\n"
          ]
        }
      ]
    }
  ]
}