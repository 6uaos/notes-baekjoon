{
  "nbformat": 4,
  "nbformat_minor": 0,
  "metadata": {
    "colab": {
      "provenance": [],
      "authorship_tag": "ABX9TyPsbMJC1CXuAkD0KRoQS1Zx",
      "include_colab_link": true
    },
    "kernelspec": {
      "name": "python3",
      "display_name": "Python 3"
    },
    "language_info": {
      "name": "python"
    }
  },
  "cells": [
    {
      "cell_type": "markdown",
      "metadata": {
        "id": "view-in-github",
        "colab_type": "text"
      },
      "source": [
        "<a href=\"https://colab.research.google.com/github/uoahy-6uoas/notes-baekjoon/blob/main/1929.ipynb\" target=\"_parent\"><img src=\"https://colab.research.google.com/assets/colab-badge.svg\" alt=\"Open In Colab\"/></a>"
      ]
    },
    {
      "cell_type": "code",
      "source": [
        "n,m = map(int, input().split())"
      ],
      "metadata": {
        "id": "2ynPgTTF9xfX",
        "colab": {
          "base_uri": "https://localhost:8080/"
        },
        "outputId": "933e5d81-8e3c-432a-f001-5b086cdc4b19"
      },
      "execution_count": 71,
      "outputs": [
        {
          "name": "stdout",
          "output_type": "stream",
          "text": [
            "2 5\n"
          ]
        }
      ]
    },
    {
      "cell_type": "code",
      "source": [
        "result = [0]*(n) + [1]*(m-n+1)\n",
        "result[1]=0 #예외처리.."
      ],
      "metadata": {
        "id": "OYb7z7J4GSi-"
      },
      "execution_count": 72,
      "outputs": []
    },
    {
      "cell_type": "code",
      "source": [
        "for i in range(2,m+1):\n",
        "  j = 2\n",
        "  while i*j <= m:\n",
        "    if result[i*j]==1:\n",
        "      result[i*j]=0\n",
        "    j+=1"
      ],
      "metadata": {
        "id": "GEgW-TrTMoyo"
      },
      "execution_count": 73,
      "outputs": []
    },
    {
      "cell_type": "code",
      "source": [
        "for i in range(m+1):\n",
        "  if result[i]==0:\n",
        "    pass\n",
        "  else:\n",
        "    print(i)"
      ],
      "metadata": {
        "colab": {
          "base_uri": "https://localhost:8080/"
        },
        "id": "pWlgJpm6MsYX",
        "outputId": "8296fb14-bb3e-4cea-9f39-3b604d2c6250"
      },
      "execution_count": 74,
      "outputs": [
        {
          "output_type": "stream",
          "name": "stdout",
          "text": [
            "2\n",
            "3\n",
            "5\n"
          ]
        }
      ]
    },
    {
      "cell_type": "code",
      "source": [],
      "metadata": {
        "id": "EjPpH98vRmH_"
      },
      "execution_count": 74,
      "outputs": []
    }
  ]
}