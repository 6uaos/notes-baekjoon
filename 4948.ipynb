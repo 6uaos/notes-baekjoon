{
  "nbformat": 4,
  "nbformat_minor": 0,
  "metadata": {
    "colab": {
      "provenance": [],
      "authorship_tag": "ABX9TyOBmKJXBtIznAH5/ezVwgzw",
      "include_colab_link": true
    },
    "kernelspec": {
      "name": "python3",
      "display_name": "Python 3"
    },
    "language_info": {
      "name": "python"
    }
  },
  "cells": [
    {
      "cell_type": "markdown",
      "metadata": {
        "id": "view-in-github",
        "colab_type": "text"
      },
      "source": [
        "<a href=\"https://colab.research.google.com/github/uoahy-6uoas/notes-baekjoon/blob/main/4948.ipynb\" target=\"_parent\"><img src=\"https://colab.research.google.com/assets/colab-badge.svg\" alt=\"Open In Colab\"/></a>"
      ]
    },
    {
      "cell_type": "code",
      "source": [
        "'''\n",
        "def eratos(n):\n",
        "  result = [0]*(n+1)+[1]*(n)\n",
        "  result[1]=0\n",
        "  i = 2\n",
        "  while i**2 <= 2*n+1:\n",
        "    j = 2\n",
        "    while i*j <= (n*2):\n",
        "      if result[i*j]==1:\n",
        "        result[i*j]=0\n",
        "      j+=1\n",
        "    i+=1\n",
        "  print(sum(result))\n",
        "#시간초과 pypy3은 가능\n",
        "'''\n",
        "\n",
        "def eratos(n):\n",
        "  result = [0]*(n+1) + [1]*n\n",
        "  result[1] = 0\n",
        "\n",
        "  i = 2\n",
        "  while i**2 <= n*2+1:\n",
        "    for j in range(2,(2*n)//i+1):\n",
        "      if result[i*j]==1:\n",
        "        result[i*j]=0\n",
        "    i+=1\n",
        "  print(sum(result))\n",
        "\n",
        "while True:\n",
        "  tmp = int(input())\n",
        "  if tmp==0:\n",
        "    break\n",
        "  eratos(tmp)"
      ],
      "metadata": {
        "colab": {
          "base_uri": "https://localhost:8080/"
        },
        "id": "Ol9XsqnlUXXz",
        "outputId": "e8c997cb-a70d-458d-f95c-0310784d3f4c"
      },
      "execution_count": 84,
      "outputs": [
        {
          "name": "stdout",
          "output_type": "stream",
          "text": [
            "10\n",
            "4\n",
            "11\n",
            "3\n",
            "13\n",
            "3\n",
            "1\n",
            "1\n",
            "10\n",
            "4\n",
            "10\n",
            "4\n",
            "100\n",
            "21\n",
            "1000\n",
            "135\n",
            "10000\n",
            "1033\n",
            "100000\n",
            "8392\n",
            "0\n"
          ]
        }
      ]
    },
    {
      "cell_type": "code",
      "source": [],
      "metadata": {
        "id": "frIWcGWDa8Lz"
      },
      "execution_count": null,
      "outputs": []
    }
  ]
}